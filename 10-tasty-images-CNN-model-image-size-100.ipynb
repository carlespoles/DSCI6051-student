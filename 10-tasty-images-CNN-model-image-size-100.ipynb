{
 "cells": [
  {
   "cell_type": "markdown",
   "metadata": {},
   "source": [
    "# Implementing a convolutional neural network with images resized to 100.\n",
    "\n",
    "## All images are used and the accuracy obtained is good."
   ]
  },
  {
   "cell_type": "code",
   "execution_count": 1,
   "metadata": {
    "collapsed": true
   },
   "outputs": [],
   "source": [
    "reset -fs"
   ]
  },
  {
   "cell_type": "code",
   "execution_count": 2,
   "metadata": {
    "collapsed": false
   },
   "outputs": [
    {
     "name": "stderr",
     "output_type": "stream",
     "text": [
      "Using TensorFlow backend.\n"
     ]
    }
   ],
   "source": [
    "import numpy as np\n",
    "import pandas as pd\n",
    "import os\n",
    "import glob\n",
    "import pickle\n",
    "import h5py\n",
    "import gzip\n",
    "import dl_functions\n",
    "from IPython.display import display\n",
    "from keras.preprocessing.image import ImageDataGenerator\n",
    "from keras.models import Sequential, model_from_json\n",
    "from keras.layers import Dense, Dropout, Activation, Flatten\n",
    "from keras.layers import Convolution2D, MaxPooling2D\n",
    "from keras.optimizers import SGD\n",
    "from keras.utils import np_utils\n",
    "from keras.preprocessing.image import array_to_img, img_to_array, load_img\n",
    "from keras.callbacks import LearningRateScheduler, ModelCheckpoint\n",
    "from sklearn.metrics import confusion_matrix, roc_curve, roc_auc_score\n",
    "from sklearn.cross_validation import train_test_split\n",
    "from matplotlib import pyplot as plt\n",
    "%matplotlib inline"
   ]
  },
  {
   "cell_type": "markdown",
   "metadata": {},
   "source": [
    "#### Loading data from a pickle file that has 20,000 images pre-processed with a size of 100 by 100."
   ]
  },
  {
   "cell_type": "code",
   "execution_count": 3,
   "metadata": {
    "collapsed": false
   },
   "outputs": [],
   "source": [
    "with open('pre_processed_images/image_data_20000_100.txt', 'rb') as f:\n",
    "    X, y = pickle.load(f)"
   ]
  },
  {
   "cell_type": "markdown",
   "metadata": {},
   "source": [
    "#### Creating a train, test split."
   ]
  },
  {
   "cell_type": "code",
   "execution_count": 4,
   "metadata": {
    "collapsed": false
   },
   "outputs": [],
   "source": [
    "X_train, X_test, y_train, y_test = train_test_split(X, y, test_size=0.3, random_state=42)"
   ]
  },
  {
   "cell_type": "markdown",
   "metadata": {},
   "source": [
    "#### The labels need to be converted to categorical. Note that we have 2 categories: good (1) and bad (0) images."
   ]
  },
  {
   "cell_type": "code",
   "execution_count": 5,
   "metadata": {
    "collapsed": true
   },
   "outputs": [],
   "source": [
    "y_train_sparse = np_utils.to_categorical(y_train, 2)"
   ]
  },
  {
   "cell_type": "code",
   "execution_count": 6,
   "metadata": {
    "collapsed": true
   },
   "outputs": [],
   "source": [
    "y_test_sparse = np_utils.to_categorical(y_test, 2)"
   ]
  },
  {
   "cell_type": "markdown",
   "metadata": {},
   "source": [
    "#### Creating an instance of a CNN model."
   ]
  },
  {
   "cell_type": "markdown",
   "metadata": {},
   "source": [
    "##### The image size is 100."
   ]
  },
  {
   "cell_type": "code",
   "execution_count": 7,
   "metadata": {
    "collapsed": true
   },
   "outputs": [],
   "source": [
    "IMG_SIZE = 100"
   ]
  },
  {
   "cell_type": "code",
   "execution_count": 8,
   "metadata": {
    "collapsed": false
   },
   "outputs": [],
   "source": [
    "model_1 = dl_functions.cnn_model_v_0(IMG_SIZE)"
   ]
  },
  {
   "cell_type": "code",
   "execution_count": 9,
   "metadata": {
    "collapsed": true
   },
   "outputs": [],
   "source": [
    "model_1.compile(loss='binary_crossentropy', optimizer='rmsprop', metrics=['accuracy'])"
   ]
  },
  {
   "cell_type": "code",
   "execution_count": 10,
   "metadata": {
    "collapsed": false
   },
   "outputs": [
    {
     "name": "stdout",
     "output_type": "stream",
     "text": [
      "_________________________________________________________________\n",
      "Layer (type)                 Output Shape              Param #   \n",
      "=================================================================\n",
      "conv2d_1 (Conv2D)            (None, 98, 98, 32)        896       \n",
      "_________________________________________________________________\n",
      "conv2d_2 (Conv2D)            (None, 96, 96, 32)        9248      \n",
      "_________________________________________________________________\n",
      "max_pooling2d_1 (MaxPooling2 (None, 48, 48, 32)        0         \n",
      "_________________________________________________________________\n",
      "dropout_1 (Dropout)          (None, 48, 48, 32)        0         \n",
      "_________________________________________________________________\n",
      "conv2d_3 (Conv2D)            (None, 46, 46, 64)        18496     \n",
      "_________________________________________________________________\n",
      "max_pooling2d_2 (MaxPooling2 (None, 23, 23, 64)        0         \n",
      "_________________________________________________________________\n",
      "dropout_2 (Dropout)          (None, 23, 23, 64)        0         \n",
      "_________________________________________________________________\n",
      "conv2d_4 (Conv2D)            (None, 21, 21, 128)       73856     \n",
      "_________________________________________________________________\n",
      "max_pooling2d_3 (MaxPooling2 (None, 10, 10, 128)       0         \n",
      "_________________________________________________________________\n",
      "dropout_3 (Dropout)          (None, 10, 10, 128)       0         \n",
      "_________________________________________________________________\n",
      "flatten_1 (Flatten)          (None, 12800)             0         \n",
      "_________________________________________________________________\n",
      "dense_1 (Dense)              (None, 512)               6554112   \n",
      "_________________________________________________________________\n",
      "dropout_4 (Dropout)          (None, 512)               0         \n",
      "_________________________________________________________________\n",
      "dense_2 (Dense)              (None, 2)                 1026      \n",
      "=================================================================\n",
      "Total params: 6,657,634\n",
      "Trainable params: 6,657,634\n",
      "Non-trainable params: 0\n",
      "_________________________________________________________________\n"
     ]
    }
   ],
   "source": [
    "model_1.summary()"
   ]
  },
  {
   "cell_type": "code",
   "execution_count": 11,
   "metadata": {
    "collapsed": false
   },
   "outputs": [
    {
     "name": "stdout",
     "output_type": "stream",
     "text": [
      "Train on 9800 samples, validate on 4200 samples\n",
      "Epoch 1/50\n",
      "9800/9800 [==============================] - 301s - loss: 0.6766 - acc: 0.6183 - val_loss: 0.5447 - val_acc: 0.7440\n",
      "Epoch 2/50\n",
      "9800/9800 [==============================] - 325s - loss: 0.5569 - acc: 0.7247 - val_loss: 0.5398 - val_acc: 0.7283\n",
      "Epoch 3/50\n",
      "9800/9800 [==============================] - 342s - loss: 0.5084 - acc: 0.7583 - val_loss: 0.4708 - val_acc: 0.7814\n",
      "Epoch 4/50\n",
      "9800/9800 [==============================] - 339s - loss: 0.4855 - acc: 0.7731 - val_loss: 0.4310 - val_acc: 0.8183\n",
      "Epoch 5/50\n",
      "9800/9800 [==============================] - 339s - loss: 0.4553 - acc: 0.7956 - val_loss: 0.5402 - val_acc: 0.7350\n",
      "Epoch 6/50\n",
      "9800/9800 [==============================] - 301s - loss: 0.4335 - acc: 0.8081 - val_loss: 0.3927 - val_acc: 0.8274\n",
      "Epoch 7/50\n",
      "9800/9800 [==============================] - 301s - loss: 0.4178 - acc: 0.8154 - val_loss: 0.4137 - val_acc: 0.8183\n",
      "Epoch 8/50\n",
      "9800/9800 [==============================] - 301s - loss: 0.3975 - acc: 0.8259 - val_loss: 0.3746 - val_acc: 0.8429\n",
      "Epoch 9/50\n",
      "9800/9800 [==============================] - 303s - loss: 0.3829 - acc: 0.8319 - val_loss: 0.4682 - val_acc: 0.7790\n",
      "Epoch 10/50\n",
      "9800/9800 [==============================] - 303s - loss: 0.3721 - acc: 0.8400 - val_loss: 0.3742 - val_acc: 0.8357\n",
      "Epoch 11/50\n",
      "9800/9800 [==============================] - 303s - loss: 0.3581 - acc: 0.8480 - val_loss: 0.3864 - val_acc: 0.8293\n",
      "Epoch 12/50\n",
      "9800/9800 [==============================] - 303s - loss: 0.3402 - acc: 0.8603 - val_loss: 0.3623 - val_acc: 0.8448\n",
      "Epoch 13/50\n",
      "9800/9800 [==============================] - 304s - loss: 0.3378 - acc: 0.8559 - val_loss: 0.3516 - val_acc: 0.8452\n",
      "Epoch 14/50\n",
      "9800/9800 [==============================] - 303s - loss: 0.3151 - acc: 0.8691 - val_loss: 0.3673 - val_acc: 0.8450\n",
      "Epoch 15/50\n",
      "9800/9800 [==============================] - 304s - loss: 0.3067 - acc: 0.8704 - val_loss: 0.3234 - val_acc: 0.8636\n",
      "Epoch 16/50\n",
      "9800/9800 [==============================] - 303s - loss: 0.2974 - acc: 0.8768 - val_loss: 0.3469 - val_acc: 0.8576\n",
      "Epoch 17/50\n",
      "9800/9800 [==============================] - 307s - loss: 0.2879 - acc: 0.8802 - val_loss: 0.4183 - val_acc: 0.8226\n",
      "Epoch 18/50\n",
      "9800/9800 [==============================] - 303s - loss: 0.2737 - acc: 0.8854 - val_loss: 0.4556 - val_acc: 0.8248\n",
      "Epoch 19/50\n",
      "9800/9800 [==============================] - 312s - loss: 0.2697 - acc: 0.8892 - val_loss: 0.3302 - val_acc: 0.8690\n",
      "Epoch 20/50\n",
      "9800/9800 [==============================] - 344s - loss: 0.2498 - acc: 0.8957 - val_loss: 0.5230 - val_acc: 0.7998\n",
      "Epoch 21/50\n",
      "9800/9800 [==============================] - 324s - loss: 0.2494 - acc: 0.8989 - val_loss: 0.3310 - val_acc: 0.8719\n",
      "Epoch 22/50\n",
      "9800/9800 [==============================] - 307s - loss: 0.2400 - acc: 0.9030 - val_loss: 0.3233 - val_acc: 0.8662\n",
      "Epoch 23/50\n",
      "9800/9800 [==============================] - 308s - loss: 0.2278 - acc: 0.9090 - val_loss: 0.3626 - val_acc: 0.8624\n",
      "Epoch 24/50\n",
      "9800/9800 [==============================] - 303s - loss: 0.2227 - acc: 0.9100 - val_loss: 0.3439 - val_acc: 0.8743\n",
      "Epoch 25/50\n",
      "9800/9800 [==============================] - 309s - loss: 0.2063 - acc: 0.9150 - val_loss: 0.3720 - val_acc: 0.8464\n",
      "Epoch 26/50\n",
      "9800/9800 [==============================] - 306s - loss: 0.2047 - acc: 0.9212 - val_loss: 0.3562 - val_acc: 0.8674\n",
      "Epoch 27/50\n",
      "9800/9800 [==============================] - 306s - loss: 0.1951 - acc: 0.9236 - val_loss: 0.4021 - val_acc: 0.8631\n",
      "Epoch 28/50\n",
      "9800/9800 [==============================] - 310s - loss: 0.1886 - acc: 0.9243 - val_loss: 0.3157 - val_acc: 0.8745\n",
      "Epoch 29/50\n",
      "9800/9800 [==============================] - 304s - loss: 0.1722 - acc: 0.9342 - val_loss: 0.4261 - val_acc: 0.8595\n",
      "Epoch 30/50\n",
      "9800/9800 [==============================] - 303s - loss: 0.1741 - acc: 0.9307 - val_loss: 0.4189 - val_acc: 0.8519\n",
      "Epoch 31/50\n",
      "9800/9800 [==============================] - 304s - loss: 0.1653 - acc: 0.9366 - val_loss: 0.3716 - val_acc: 0.8714\n",
      "Epoch 32/50\n",
      "9800/9800 [==============================] - 304s - loss: 0.1585 - acc: 0.9396 - val_loss: 0.3905 - val_acc: 0.8605\n",
      "Epoch 33/50\n",
      "9800/9800 [==============================] - 331s - loss: 0.1595 - acc: 0.9408 - val_loss: 0.4209 - val_acc: 0.8245\n",
      "Epoch 34/50\n",
      "9800/9800 [==============================] - 343s - loss: 0.1545 - acc: 0.9416 - val_loss: 0.3814 - val_acc: 0.8348\n",
      "Epoch 35/50\n",
      "9800/9800 [==============================] - 307s - loss: 0.1334 - acc: 0.9513 - val_loss: 0.3802 - val_acc: 0.8755\n",
      "Epoch 36/50\n",
      "9800/9800 [==============================] - 302s - loss: 0.1455 - acc: 0.9472 - val_loss: 0.3849 - val_acc: 0.8721\n",
      "Epoch 37/50\n",
      "9800/9800 [==============================] - 304s - loss: 0.1359 - acc: 0.9534 - val_loss: 0.4574 - val_acc: 0.8483\n",
      "Epoch 38/50\n",
      "9800/9800 [==============================] - 304s - loss: 0.1328 - acc: 0.9520 - val_loss: 0.5350 - val_acc: 0.8693\n",
      "Epoch 39/50\n",
      "9800/9800 [==============================] - 304s - loss: 0.1402 - acc: 0.9474 - val_loss: 0.3846 - val_acc: 0.8664\n",
      "Epoch 40/50\n",
      "9800/9800 [==============================] - 303s - loss: 0.1328 - acc: 0.9528 - val_loss: 0.4378 - val_acc: 0.8781\n",
      "Epoch 41/50\n",
      "9800/9800 [==============================] - 303s - loss: 0.1210 - acc: 0.9554 - val_loss: 0.4221 - val_acc: 0.8688\n",
      "Epoch 42/50\n",
      "9800/9800 [==============================] - 304s - loss: 0.1230 - acc: 0.9555 - val_loss: 0.4247 - val_acc: 0.8731\n",
      "Epoch 43/50\n",
      "9800/9800 [==============================] - 304s - loss: 0.1276 - acc: 0.9550 - val_loss: 0.3955 - val_acc: 0.8819\n",
      "Epoch 44/50\n",
      "9800/9800 [==============================] - 303s - loss: 0.1163 - acc: 0.9576 - val_loss: 0.4770 - val_acc: 0.8612\n",
      "Epoch 45/50\n",
      "9800/9800 [==============================] - 304s - loss: 0.1334 - acc: 0.9516 - val_loss: 0.5582 - val_acc: 0.8481\n",
      "Epoch 46/50\n",
      "9800/9800 [==============================] - 320s - loss: 0.1196 - acc: 0.9573 - val_loss: 0.4246 - val_acc: 0.8538\n",
      "Epoch 47/50\n",
      "9800/9800 [==============================] - 358s - loss: 0.1223 - acc: 0.9583 - val_loss: 0.3978 - val_acc: 0.8717\n",
      "Epoch 48/50\n",
      "9800/9800 [==============================] - 338s - loss: 0.1413 - acc: 0.9539 - val_loss: 0.4708 - val_acc: 0.8490\n",
      "Epoch 49/50\n",
      "9800/9800 [==============================] - 315s - loss: 0.1361 - acc: 0.9560 - val_loss: 0.3840 - val_acc: 0.8662\n",
      "Epoch 50/50\n",
      "9800/9800 [==============================] - 315s - loss: 0.1164 - acc: 0.9583 - val_loss: 0.3807 - val_acc: 0.8683\n"
     ]
    },
    {
     "data": {
      "text/plain": [
       "<keras.callbacks.History at 0x7fe4b90b9110>"
      ]
     },
     "execution_count": 11,
     "metadata": {},
     "output_type": "execute_result"
    }
   ],
   "source": [
    "model_1.fit(X_train, y_train_sparse, batch_size=128, epochs=50, verbose=1, validation_split=0.3)"
   ]
  },
  {
   "cell_type": "code",
   "execution_count": 12,
   "metadata": {
    "collapsed": false
   },
   "outputs": [
    {
     "name": "stdout",
     "output_type": "stream",
     "text": [
      "6000/6000 [==============================] - 56s    \n"
     ]
    }
   ],
   "source": [
    "score = model_1.evaluate(X_test, y_test_sparse, verbose=1)"
   ]
  },
  {
   "cell_type": "code",
   "execution_count": 13,
   "metadata": {
    "collapsed": false
   },
   "outputs": [
    {
     "name": "stdout",
     "output_type": "stream",
     "text": [
      "Test loss: 0.4174\n",
      "Test accuracy: 86.08%\n"
     ]
    }
   ],
   "source": [
    "print('Test loss: {:0,.4f}'.format(score[0]))\n",
    "print('Test accuracy: {:.2%}'.format(score[1]))"
   ]
  },
  {
   "cell_type": "markdown",
   "metadata": {},
   "source": [
    "#### Saving model and model weights."
   ]
  },
  {
   "cell_type": "code",
   "execution_count": 15,
   "metadata": {
    "collapsed": true
   },
   "outputs": [],
   "source": [
    "model_1.save('models/model_v0_20000_100.h5')"
   ]
  },
  {
   "cell_type": "code",
   "execution_count": 16,
   "metadata": {
    "collapsed": true
   },
   "outputs": [],
   "source": [
    "model_1.save_weights('models/model_v0_20000_100_weights.h5')"
   ]
  },
  {
   "cell_type": "markdown",
   "metadata": {},
   "source": [
    "#### Creating a list of predictions."
   ]
  },
  {
   "cell_type": "code",
   "execution_count": 17,
   "metadata": {
    "collapsed": false
   },
   "outputs": [],
   "source": [
    "predicted_images = []\n",
    "for i in model_1.predict(X_test):\n",
    "    predicted_images.append(np.where(np.max(i) == i)[0])"
   ]
  },
  {
   "cell_type": "markdown",
   "metadata": {},
   "source": [
    "#### Displaying a confusion matrix."
   ]
  },
  {
   "cell_type": "code",
   "execution_count": 18,
   "metadata": {
    "collapsed": false
   },
   "outputs": [
    {
     "data": {
      "image/png": "[encoded data removed]",
      "text/plain": [
       "<matplotlib.figure.Figure at 0x7fe4195a4c10>"
      ]
     },
     "metadata": {},
     "output_type": "display_data"
    }
   ],
   "source": [
    "dl_functions.show_confusion_matrix(confusion_matrix(y_test, predicted_images), ['Class 0', 'Class 1'])"
   ]
  },
  {
   "cell_type": "markdown",
   "metadata": {},
   "source": [
    "#### A more simple confusion matrix using pandas."
   ]
  },
  {
   "cell_type": "code",
   "execution_count": 19,
   "metadata": {
    "collapsed": false
   },
   "outputs": [
    {
     "data": {
      "text/html": [
       "<div>\n",
       "<table border=\"1\" class=\"dataframe\">\n",
       "  <thead>\n",
       "    <tr style=\"text-align: right;\">\n",
       "      <th></th>\n",
       "      <th>nok_image</th>\n",
       "      <th>ok_image</th>\n",
       "    </tr>\n",
       "  </thead>\n",
       "  <tbody>\n",
       "    <tr>\n",
       "      <th>0</th>\n",
       "      <td>2570</td>\n",
       "      <td>413</td>\n",
       "    </tr>\n",
       "    <tr>\n",
       "      <th>1</th>\n",
       "      <td>422</td>\n",
       "      <td>2595</td>\n",
       "    </tr>\n",
       "  </tbody>\n",
       "</table>\n",
       "</div>"
      ],
      "text/plain": [
       "   nok_image  ok_image\n",
       "0       2570       413\n",
       "1        422      2595"
      ]
     },
     "execution_count": 19,
     "metadata": {},
     "output_type": "execute_result"
    }
   ],
   "source": [
    "pd.DataFrame(confusion_matrix(y_test, predicted_images),columns = ['nok_image','ok_image'])"
   ]
  },
  {
   "cell_type": "markdown",
   "metadata": {},
   "source": [
    "#### Area Under the Curve."
   ]
  },
  {
   "cell_type": "code",
   "execution_count": 20,
   "metadata": {
    "collapsed": false
   },
   "outputs": [
    {
     "name": "stdout",
     "output_type": "stream",
     "text": [
      "AUC: 86.08%\n",
      "\n"
     ]
    }
   ],
   "source": [
    "print(\"AUC: {:.2%}\\n\".format(roc_auc_score(y_test, predicted_images)))"
   ]
  },
  {
   "cell_type": "markdown",
   "metadata": {},
   "source": [
    "#### Getting predicted probabilities."
   ]
  },
  {
   "cell_type": "code",
   "execution_count": 21,
   "metadata": {
    "collapsed": false
   },
   "outputs": [
    {
     "name": "stdout",
     "output_type": "stream",
     "text": [
      "6000/6000 [==============================] - 55s    \n"
     ]
    }
   ],
   "source": [
    "predictions_probability = model_1.predict_proba(X_test)"
   ]
  },
  {
   "cell_type": "markdown",
   "metadata": {},
   "source": [
    "#### Plotting a ROC curve."
   ]
  },
  {
   "cell_type": "code",
   "execution_count": 22,
   "metadata": {
    "collapsed": false
   },
   "outputs": [
    {
     "data": {
      "image/png": "[encoded data removed]",
      "text/plain": [
       "<matplotlib.figure.Figure at 0x7fe418b35950>"
      ]
     },
     "metadata": {},
     "output_type": "display_data"
    }
   ],
   "source": [
    "plt.figure(figsize=(7, 7))\n",
    "dl_functions.plot_roc(y_test, predictions_probability[:,1], \"CNN - \" + str(len(model_1.layers)) + \" layers | # images: \" + str(len(X)) + \" | image size: \" + str(IMG_SIZE), \"Tasty Food Images\")"
   ]
  },
  {
   "cell_type": "markdown",
   "metadata": {},
   "source": [
    "### Prediction using an image of Donald Trump.\n",
    "<img src='images/trump_1.jpg' />"
   ]
  },
  {
   "cell_type": "code",
   "execution_count": 23,
   "metadata": {
    "collapsed": false
   },
   "outputs": [],
   "source": [
    "trump = dl_functions.normalize_images_array('images', IMG_SIZE)"
   ]
  },
  {
   "cell_type": "code",
   "execution_count": 24,
   "metadata": {
    "collapsed": false
   },
   "outputs": [
    {
     "name": "stdout",
     "output_type": "stream",
     "text": [
      "1/1 [==============================] - 0s\n"
     ]
    }
   ],
   "source": [
    "trump_prediction = model_1.predict_classes(trump)"
   ]
  },
  {
   "cell_type": "code",
   "execution_count": 25,
   "metadata": {
    "collapsed": false
   },
   "outputs": [
    {
     "data": {
      "text/plain": [
       "0"
      ]
     },
     "execution_count": 25,
     "metadata": {},
     "output_type": "execute_result"
    }
   ],
   "source": [
    "trump_prediction[0]"
   ]
  },
  {
   "cell_type": "code",
   "execution_count": 26,
   "metadata": {
    "collapsed": false
   },
   "outputs": [
    {
     "data": {
      "text/plain": [
       "(1, 100, 100, 3)"
      ]
     },
     "execution_count": 26,
     "metadata": {},
     "output_type": "execute_result"
    }
   ],
   "source": [
    "trump.shape"
   ]
  },
  {
   "cell_type": "code",
   "execution_count": 27,
   "metadata": {
    "collapsed": true
   },
   "outputs": [],
   "source": [
    "trump = trump.reshape(trump.shape[1], trump.shape[2], trump.shape[3])"
   ]
  },
  {
   "cell_type": "markdown",
   "metadata": {},
   "source": [
    "#### The model predicts the image as bad."
   ]
  },
  {
   "cell_type": "code",
   "execution_count": 28,
   "metadata": {
    "collapsed": false
   },
   "outputs": [
    {
     "data": {
      "image/png": "[encoded data removed]",
      "text/plain": [
       "<PIL.Image.Image image mode=RGB size=100x100 at 0x7FE4180DEED0>"
      ]
     },
     "metadata": {},
     "output_type": "display_data"
    }
   ],
   "source": [
    "img = array_to_img(trump)\n",
    "display(img)"
   ]
  },
  {
   "cell_type": "markdown",
   "metadata": {},
   "source": [
    "### Training another CNN model. Proceeding same as above."
   ]
  },
  {
   "cell_type": "code",
   "execution_count": 29,
   "metadata": {
    "collapsed": true
   },
   "outputs": [],
   "source": [
    "X_train, X_test, y_train, y_test = train_test_split(X, y, test_size=0.3, random_state=42)"
   ]
  },
  {
   "cell_type": "code",
   "execution_count": 30,
   "metadata": {
    "collapsed": true
   },
   "outputs": [],
   "source": [
    "y_train_sparse = np_utils.to_categorical(y_train, 2)"
   ]
  },
  {
   "cell_type": "code",
   "execution_count": 31,
   "metadata": {
    "collapsed": true
   },
   "outputs": [],
   "source": [
    "y_test_sparse = np_utils.to_categorical(y_test, 2)"
   ]
  },
  {
   "cell_type": "code",
   "execution_count": 32,
   "metadata": {
    "collapsed": true
   },
   "outputs": [],
   "source": [
    "model_2 = dl_functions.cnn_model_v_1(IMG_SIZE)"
   ]
  },
  {
   "cell_type": "code",
   "execution_count": 33,
   "metadata": {
    "collapsed": true
   },
   "outputs": [],
   "source": [
    "model_2.compile(loss='binary_crossentropy', optimizer='rmsprop', metrics=['accuracy'])"
   ]
  },
  {
   "cell_type": "code",
   "execution_count": 34,
   "metadata": {
    "collapsed": false
   },
   "outputs": [
    {
     "name": "stdout",
     "output_type": "stream",
     "text": [
      "_________________________________________________________________\n",
      "Layer (type)                 Output Shape              Param #   \n",
      "=================================================================\n",
      "conv2d_5 (Conv2D)            (None, 98, 98, 32)        896       \n",
      "_________________________________________________________________\n",
      "max_pooling2d_4 (MaxPooling2 (None, 49, 49, 32)        0         \n",
      "_________________________________________________________________\n",
      "conv2d_6 (Conv2D)            (None, 47, 47, 32)        9248      \n",
      "_________________________________________________________________\n",
      "max_pooling2d_5 (MaxPooling2 (None, 23, 23, 32)        0         \n",
      "_________________________________________________________________\n",
      "conv2d_7 (Conv2D)            (None, 21, 21, 64)        18496     \n",
      "_________________________________________________________________\n",
      "max_pooling2d_6 (MaxPooling2 (None, 10, 10, 64)        0         \n",
      "_________________________________________________________________\n",
      "flatten_2 (Flatten)          (None, 6400)              0         \n",
      "_________________________________________________________________\n",
      "dense_3 (Dense)              (None, 64)                409664    \n",
      "_________________________________________________________________\n",
      "dropout_5 (Dropout)          (None, 64)                0         \n",
      "_________________________________________________________________\n",
      "dense_4 (Dense)              (None, 2)                 130       \n",
      "=================================================================\n",
      "Total params: 438,434\n",
      "Trainable params: 438,434\n",
      "Non-trainable params: 0\n",
      "_________________________________________________________________\n"
     ]
    }
   ],
   "source": [
    "model_2.summary()"
   ]
  },
  {
   "cell_type": "code",
   "execution_count": 35,
   "metadata": {
    "collapsed": false
   },
   "outputs": [
    {
     "name": "stdout",
     "output_type": "stream",
     "text": [
      "Train on 9800 samples, validate on 4200 samples\n",
      "Epoch 1/50\n",
      "9800/9800 [==============================] - 104s - loss: 0.6509 - acc: 0.6374 - val_loss: 0.5504 - val_acc: 0.7148\n",
      "Epoch 2/50\n",
      "9800/9800 [==============================] - 104s - loss: 0.5679 - acc: 0.7223 - val_loss: 0.5403 - val_acc: 0.7343\n",
      "Epoch 3/50\n",
      "9800/9800 [==============================] - 104s - loss: 0.5079 - acc: 0.7611 - val_loss: 0.5252 - val_acc: 0.7440\n",
      "Epoch 4/50\n",
      "9800/9800 [==============================] - 104s - loss: 0.4741 - acc: 0.7797 - val_loss: 0.5621 - val_acc: 0.7388\n",
      "Epoch 5/50\n",
      "9800/9800 [==============================] - 104s - loss: 0.4497 - acc: 0.7983 - val_loss: 0.4606 - val_acc: 0.7824\n",
      "Epoch 6/50\n",
      "9800/9800 [==============================] - 104s - loss: 0.4230 - acc: 0.8136 - val_loss: 0.3928 - val_acc: 0.8212\n",
      "Epoch 7/50\n",
      "9800/9800 [==============================] - 104s - loss: 0.4056 - acc: 0.8208 - val_loss: 0.4077 - val_acc: 0.8212\n",
      "Epoch 8/50\n",
      "9800/9800 [==============================] - 105s - loss: 0.4026 - acc: 0.8215 - val_loss: 0.3938 - val_acc: 0.8236\n",
      "Epoch 9/50\n",
      "9800/9800 [==============================] - 105s - loss: 0.3721 - acc: 0.8396 - val_loss: 0.3593 - val_acc: 0.8467\n",
      "Epoch 10/50\n",
      "9800/9800 [==============================] - 104s - loss: 0.3623 - acc: 0.8432 - val_loss: 0.4198 - val_acc: 0.8079\n",
      "Epoch 11/50\n",
      "9800/9800 [==============================] - 104s - loss: 0.3621 - acc: 0.8461 - val_loss: 0.3823 - val_acc: 0.8331\n",
      "Epoch 12/50\n",
      "9800/9800 [==============================] - 105s - loss: 0.3358 - acc: 0.8588 - val_loss: 0.3783 - val_acc: 0.8376\n",
      "Epoch 13/50\n",
      "9800/9800 [==============================] - 103s - loss: 0.3207 - acc: 0.8678 - val_loss: 0.5177 - val_acc: 0.7598\n",
      "Epoch 14/50\n",
      "9800/9800 [==============================] - 104s - loss: 0.3067 - acc: 0.8737 - val_loss: 0.5279 - val_acc: 0.7490\n",
      "Epoch 15/50\n",
      "9800/9800 [==============================] - 105s - loss: 0.2933 - acc: 0.8778 - val_loss: 0.3924 - val_acc: 0.8286\n",
      "Epoch 16/50\n",
      "9800/9800 [==============================] - 104s - loss: 0.2734 - acc: 0.8863 - val_loss: 0.4063 - val_acc: 0.8302\n",
      "Epoch 17/50\n",
      "9800/9800 [==============================] - 105s - loss: 0.2692 - acc: 0.8890 - val_loss: 0.4303 - val_acc: 0.8229\n",
      "Epoch 18/50\n",
      "9800/9800 [==============================] - 103s - loss: 0.2429 - acc: 0.9023 - val_loss: 0.4332 - val_acc: 0.8352\n",
      "Epoch 19/50\n",
      "9800/9800 [==============================] - 104s - loss: 0.2351 - acc: 0.9043 - val_loss: 0.3573 - val_acc: 0.8595\n",
      "Epoch 20/50\n",
      "9800/9800 [==============================] - 105s - loss: 0.2253 - acc: 0.9081 - val_loss: 0.3727 - val_acc: 0.8469\n",
      "Epoch 21/50\n",
      "9800/9800 [==============================] - 105s - loss: 0.2117 - acc: 0.9143 - val_loss: 0.4015 - val_acc: 0.8557\n",
      "Epoch 22/50\n",
      "9800/9800 [==============================] - 105s - loss: 0.1922 - acc: 0.9216 - val_loss: 0.4363 - val_acc: 0.8331\n",
      "Epoch 23/50\n",
      "9800/9800 [==============================] - 104s - loss: 0.1841 - acc: 0.9248 - val_loss: 0.4187 - val_acc: 0.8529\n",
      "Epoch 24/50\n",
      "9800/9800 [==============================] - 104s - loss: 0.1789 - acc: 0.9312 - val_loss: 0.3635 - val_acc: 0.8614\n",
      "Epoch 25/50\n",
      "9800/9800 [==============================] - 112s - loss: 0.1537 - acc: 0.9400 - val_loss: 0.4227 - val_acc: 0.8552\n",
      "Epoch 26/50\n",
      "9800/9800 [==============================] - 119s - loss: 0.1569 - acc: 0.9401 - val_loss: 0.5568 - val_acc: 0.8340\n",
      "Epoch 27/50\n",
      "9800/9800 [==============================] - 119s - loss: 0.1350 - acc: 0.9462 - val_loss: 0.5345 - val_acc: 0.8152\n",
      "Epoch 28/50\n",
      "9800/9800 [==============================] - 119s - loss: 0.1282 - acc: 0.9523 - val_loss: 0.8002 - val_acc: 0.7824\n",
      "Epoch 29/50\n",
      "9800/9800 [==============================] - 119s - loss: 0.1268 - acc: 0.9501 - val_loss: 0.5282 - val_acc: 0.8533\n",
      "Epoch 30/50\n",
      "9800/9800 [==============================] - 107s - loss: 0.1148 - acc: 0.9561 - val_loss: 0.5852 - val_acc: 0.8493\n",
      "Epoch 31/50\n",
      "9800/9800 [==============================] - 105s - loss: 0.1078 - acc: 0.9605 - val_loss: 0.5991 - val_acc: 0.8545\n",
      "Epoch 32/50\n",
      "9800/9800 [==============================] - 105s - loss: 0.0974 - acc: 0.9633 - val_loss: 0.4779 - val_acc: 0.8452\n",
      "Epoch 33/50\n",
      "9800/9800 [==============================] - 105s - loss: 0.0956 - acc: 0.9654 - val_loss: 0.5736 - val_acc: 0.8383\n",
      "Epoch 34/50\n",
      "9800/9800 [==============================] - 106s - loss: 0.0883 - acc: 0.9680 - val_loss: 0.6634 - val_acc: 0.8364\n",
      "Epoch 35/50\n",
      "9800/9800 [==============================] - 106s - loss: 0.0830 - acc: 0.9700 - val_loss: 0.7489 - val_acc: 0.8260\n",
      "Epoch 36/50\n",
      "9800/9800 [==============================] - 106s - loss: 0.0826 - acc: 0.9711 - val_loss: 0.6721 - val_acc: 0.8443\n",
      "Epoch 37/50\n",
      "9800/9800 [==============================] - 105s - loss: 0.0749 - acc: 0.9728 - val_loss: 0.7058 - val_acc: 0.8567\n",
      "Epoch 38/50\n",
      "9800/9800 [==============================] - 106s - loss: 0.0697 - acc: 0.9753 - val_loss: 0.6710 - val_acc: 0.8536\n",
      "Epoch 39/50\n",
      "9800/9800 [==============================] - 104s - loss: 0.0666 - acc: 0.9776 - val_loss: 0.5897 - val_acc: 0.8195\n",
      "Epoch 40/50\n",
      "9800/9800 [==============================] - 104s - loss: 0.0652 - acc: 0.9764 - val_loss: 0.9228 - val_acc: 0.8345\n",
      "Epoch 41/50\n",
      "9800/9800 [==============================] - 105s - loss: 0.0781 - acc: 0.9760 - val_loss: 1.0458 - val_acc: 0.8036\n",
      "Epoch 42/50\n",
      "9800/9800 [==============================] - 104s - loss: 0.0794 - acc: 0.9744 - val_loss: 0.6959 - val_acc: 0.8519\n",
      "Epoch 43/50\n",
      "9800/9800 [==============================] - 105s - loss: 0.0601 - acc: 0.9788 - val_loss: 0.9215 - val_acc: 0.8517\n",
      "Epoch 44/50\n",
      "9800/9800 [==============================] - 105s - loss: 0.0559 - acc: 0.9807 - val_loss: 0.8663 - val_acc: 0.8524\n",
      "Epoch 45/50\n",
      "9800/9800 [==============================] - 105s - loss: 0.0809 - acc: 0.9730 - val_loss: 0.5318 - val_acc: 0.8295\n",
      "Epoch 46/50\n",
      "9800/9800 [==============================] - 104s - loss: 0.0638 - acc: 0.9787 - val_loss: 0.8009 - val_acc: 0.8617\n",
      "Epoch 47/50\n",
      "9800/9800 [==============================] - 104s - loss: 0.0598 - acc: 0.9820 - val_loss: 0.8995 - val_acc: 0.8498\n",
      "Epoch 48/50\n",
      "9800/9800 [==============================] - 104s - loss: 0.0692 - acc: 0.9788 - val_loss: 0.8165 - val_acc: 0.8538\n",
      "Epoch 49/50\n",
      "9800/9800 [==============================] - 105s - loss: 0.0615 - acc: 0.9793 - val_loss: 0.9280 - val_acc: 0.8431\n",
      "Epoch 50/50\n",
      "9800/9800 [==============================] - 105s - loss: 0.0850 - acc: 0.9777 - val_loss: 0.7920 - val_acc: 0.8421\n"
     ]
    },
    {
     "data": {
      "text/plain": [
       "<keras.callbacks.History at 0x7fe4180de7d0>"
      ]
     },
     "execution_count": 35,
     "metadata": {},
     "output_type": "execute_result"
    }
   ],
   "source": [
    "model_2.fit(X_train, y_train_sparse, batch_size=128, epochs=50, verbose=1, validation_split=0.3)"
   ]
  },
  {
   "cell_type": "code",
   "execution_count": 36,
   "metadata": {
    "collapsed": false
   },
   "outputs": [
    {
     "name": "stdout",
     "output_type": "stream",
     "text": [
      "6000/6000 [==============================] - 19s    \n"
     ]
    }
   ],
   "source": [
    "score = model_2.evaluate(X_test, y_test_sparse, verbose=1)"
   ]
  },
  {
   "cell_type": "code",
   "execution_count": 37,
   "metadata": {
    "collapsed": false
   },
   "outputs": [
    {
     "name": "stdout",
     "output_type": "stream",
     "text": [
      "Test loss: 0.8885\n",
      "Test accuracy: 83.82%\n"
     ]
    }
   ],
   "source": [
    "print('Test loss: {:0,.4f}'.format(score[0]))\n",
    "print('Test accuracy: {:.2%}'.format(score[1]))"
   ]
  },
  {
   "cell_type": "code",
   "execution_count": 38,
   "metadata": {
    "collapsed": true
   },
   "outputs": [],
   "source": [
    "model_2.save('models/model_v1_20000_100.h5')"
   ]
  },
  {
   "cell_type": "code",
   "execution_count": 39,
   "metadata": {
    "collapsed": true
   },
   "outputs": [],
   "source": [
    "model_2.save_weights('models/model_v1_20000_100_weights.h5')"
   ]
  },
  {
   "cell_type": "code",
   "execution_count": 40,
   "metadata": {
    "collapsed": true
   },
   "outputs": [],
   "source": [
    "predicted_images = []\n",
    "for i in model_2.predict(X_test):\n",
    "    predicted_images.append(np.where(np.max(i) == i)[0])"
   ]
  },
  {
   "cell_type": "code",
   "execution_count": 41,
   "metadata": {
    "collapsed": false
   },
   "outputs": [
    {
     "data": {
      "image/png": "[encoded data removed]",
      "text/plain": [
       "<matplotlib.figure.Figure at 0x7fe443f70d10>"
      ]
     },
     "metadata": {},
     "output_type": "display_data"
    }
   ],
   "source": [
    "dl_functions.show_confusion_matrix(confusion_matrix(y_test, predicted_images), ['Class 0', 'Class 1'])"
   ]
  },
  {
   "cell_type": "code",
   "execution_count": 42,
   "metadata": {
    "collapsed": false
   },
   "outputs": [
    {
     "data": {
      "text/html": [
       "<div>\n",
       "<table border=\"1\" class=\"dataframe\">\n",
       "  <thead>\n",
       "    <tr style=\"text-align: right;\">\n",
       "      <th></th>\n",
       "      <th>nok_image</th>\n",
       "      <th>ok_image</th>\n",
       "    </tr>\n",
       "  </thead>\n",
       "  <tbody>\n",
       "    <tr>\n",
       "      <th>0</th>\n",
       "      <td>2492</td>\n",
       "      <td>491</td>\n",
       "    </tr>\n",
       "    <tr>\n",
       "      <th>1</th>\n",
       "      <td>480</td>\n",
       "      <td>2537</td>\n",
       "    </tr>\n",
       "  </tbody>\n",
       "</table>\n",
       "</div>"
      ],
      "text/plain": [
       "   nok_image  ok_image\n",
       "0       2492       491\n",
       "1        480      2537"
      ]
     },
     "execution_count": 42,
     "metadata": {},
     "output_type": "execute_result"
    }
   ],
   "source": [
    "pd.DataFrame(confusion_matrix(y_test, predicted_images),columns = ['nok_image','ok_image'])"
   ]
  },
  {
   "cell_type": "code",
   "execution_count": 43,
   "metadata": {
    "collapsed": false
   },
   "outputs": [
    {
     "name": "stdout",
     "output_type": "stream",
     "text": [
      "AUC: 83.82%\n",
      "\n"
     ]
    }
   ],
   "source": [
    "print(\"AUC: {:.2%}\\n\".format(roc_auc_score(y_test, predicted_images)))"
   ]
  },
  {
   "cell_type": "code",
   "execution_count": 44,
   "metadata": {
    "collapsed": false
   },
   "outputs": [
    {
     "name": "stdout",
     "output_type": "stream",
     "text": [
      "6000/6000 [==============================] - 19s    \n"
     ]
    }
   ],
   "source": [
    "predictions_probability = model_2.predict_proba(X_test)"
   ]
  },
  {
   "cell_type": "code",
   "execution_count": 45,
   "metadata": {
    "collapsed": false
   },
   "outputs": [
    {
     "data": {
      "image/png": "[encoded data removed]",
      "text/plain": [
       "<matplotlib.figure.Figure at 0x7fe4181695d0>"
      ]
     },
     "metadata": {},
     "output_type": "display_data"
    }
   ],
   "source": [
    "plt.figure(figsize=(7, 7))\n",
    "dl_functions.plot_roc(y_test, predictions_probability[:,1], \"CNN - \" + str(len(model_2.layers)) + \" layers | # images: \" + str(len(X)) + \" | image size: \" + str(IMG_SIZE), \"Tasty Food Images\")"
   ]
  },
  {
   "cell_type": "markdown",
   "metadata": {},
   "source": [
    "### Prediction using an image of Donald Trump.\n",
    "<img src='images/trump_1.jpg' />"
   ]
  },
  {
   "cell_type": "code",
   "execution_count": 46,
   "metadata": {
    "collapsed": true
   },
   "outputs": [],
   "source": [
    "trump = dl_functions.normalize_images_array('images', IMG_SIZE)"
   ]
  },
  {
   "cell_type": "code",
   "execution_count": 47,
   "metadata": {
    "collapsed": false
   },
   "outputs": [
    {
     "name": "stdout",
     "output_type": "stream",
     "text": [
      "1/1 [==============================] - 0s\n"
     ]
    }
   ],
   "source": [
    "trump_prediction = model_2.predict_classes(trump)"
   ]
  },
  {
   "cell_type": "code",
   "execution_count": 48,
   "metadata": {
    "collapsed": false
   },
   "outputs": [
    {
     "data": {
      "text/plain": [
       "0"
      ]
     },
     "execution_count": 48,
     "metadata": {},
     "output_type": "execute_result"
    }
   ],
   "source": [
    "trump_prediction[0]"
   ]
  },
  {
   "cell_type": "code",
   "execution_count": 49,
   "metadata": {
    "collapsed": false
   },
   "outputs": [
    {
     "data": {
      "text/plain": [
       "(1, 100, 100, 3)"
      ]
     },
     "execution_count": 49,
     "metadata": {},
     "output_type": "execute_result"
    }
   ],
   "source": [
    "trump.shape"
   ]
  },
  {
   "cell_type": "code",
   "execution_count": 50,
   "metadata": {
    "collapsed": true
   },
   "outputs": [],
   "source": [
    "trump = trump.reshape(trump.shape[1], trump.shape[2], trump.shape[3])"
   ]
  },
  {
   "cell_type": "markdown",
   "metadata": {},
   "source": [
    "#### The model predicts the image as NOK."
   ]
  },
  {
   "cell_type": "code",
   "execution_count": 51,
   "metadata": {
    "collapsed": false
   },
   "outputs": [
    {
     "data": {
      "image/png": "[encoded data removed]",
      "text/plain": [
       "<PIL.Image.Image image mode=RGB size=100x100 at 0x7FE4181491D0>"
      ]
     },
     "metadata": {},
     "output_type": "display_data"
    }
   ],
   "source": [
    "img = array_to_img(trump)\n",
    "display(img)"
   ]
  },
  {
   "cell_type": "markdown",
   "metadata": {},
   "source": [
    "#### Copying model and weights to a bucket."
   ]
  },
  {
   "cell_type": "code",
   "execution_count": 52,
   "metadata": {
    "collapsed": false
   },
   "outputs": [
    {
     "name": "stdout",
     "output_type": "stream",
     "text": [
      "Copying file://models/model_v2_20000_50.h5 [Content-Type=application/octet-stream]...\n",
      "Copying file://models/model_v1_20000_50_weights.h5 [Content-Type=application/octet-stream]...\n",
      "Copying file://models/model_v1_20000_100_weights.h5 [Content-Type=application/octet-stream]...\n",
      "Copying file://models/model_v0_20000_100_weights.h5 [Content-Type=application/octet-stream]...\n",
      "|\n",
      "==> NOTE: You are performing a sequence of gsutil operations that may\n",
      "run significantly faster if you instead use gsutil -m -o ... Please\n",
      "see the -m section under \"gsutil help options\" for further information\n",
      "about when gsutil -m can be advantageous.\n",
      "\n",
      "Copying file://models/model_v1_20000_50.h5 [Content-Type=application/octet-stream]...\n",
      "Copying file://models/model_v0_20000_50_weights.h5 [Content-Type=application/octet-stream]...\n",
      "Copying file://models/model_v1_20000_100.h5 [Content-Type=application/octet-stream]...\n",
      "Copying file://models/model_v0_20000_50.h5 [Content-Type=application/octet-stream]...\n",
      "Copying file://models/model_v0_20000_100.h5 [Content-Type=application/octet-stream]...\n",
      "Copying file://models/model_v2_20000_50_weights.h5 [Content-Type=application/octet-stream]...\n",
      "/\n",
      "Operation completed over 10 objects/117.2 MiB.                                   \n"
     ]
    }
   ],
   "source": [
    "!gsutil cp -r 'models' 'gs://wellio-kadaif-tasty-images-project-pre-processed-images'"
   ]
  },
  {
   "cell_type": "code",
   "execution_count": null,
   "metadata": {
    "collapsed": true
   },
   "outputs": [],
   "source": []
  }
 ],
 "metadata": {
  "anaconda-cloud": {},
  "kernelspec": {
   "display_name": "Python 2",
   "language": "python",
   "name": "python2"
  },
  "language_info": {
   "codemirror_mode": {
    "name": "ipython",
    "version": 2
   },
   "file_extension": ".py",
   "mimetype": "text/x-python",
   "name": "python",
   "nbconvert_exporter": "python",
   "pygments_lexer": "ipython2",
   "version": "2.7.9"
  }
 },
 "nbformat": 4,
 "nbformat_minor": 2
}
