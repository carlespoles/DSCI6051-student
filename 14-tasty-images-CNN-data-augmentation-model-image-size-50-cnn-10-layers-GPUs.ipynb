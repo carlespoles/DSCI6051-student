{
 "cells": [
  {
   "cell_type": "markdown",
   "metadata": {},
   "source": [
    "# Similar to previous notebook, we use data augmentation. This notebook run on GPUs in a docker container.\n",
    "\n",
    "## CNN 10 layer architecture."
   ]
  },
  {
   "cell_type": "code",
   "execution_count": 1,
   "metadata": {
    "collapsed": true
   },
   "outputs": [],
   "source": [
    "reset -fs"
   ]
  },
  {
   "cell_type": "code",
   "execution_count": 2,
   "metadata": {
    "collapsed": false
   },
   "outputs": [
    {
     "name": "stderr",
     "output_type": "stream",
     "text": [
      "Using TensorFlow backend.\n",
      "/usr/local/lib/python2.7/dist-packages/sklearn/cross_validation.py:44: DeprecationWarning: This module was deprecated in version 0.18 in favor of the model_selection module into which all the refactored classes and functions are moved. Also note that the interface of the new CV iterators are different from that of this module. This module will be removed in 0.20.\n",
      "  \"This module will be removed in 0.20.\", DeprecationWarning)\n"
     ]
    }
   ],
   "source": [
    "import numpy as np\n",
    "import pandas as pd\n",
    "import os\n",
    "import glob\n",
    "import pickle\n",
    "import h5py\n",
    "import gzip\n",
    "import dl_functions\n",
    "from IPython.display import display\n",
    "from keras.preprocessing.image import ImageDataGenerator\n",
    "from keras.models import Sequential, model_from_json\n",
    "from keras.layers import Dense, Dropout, Activation, Flatten\n",
    "from keras.layers import Convolution2D, MaxPooling2D\n",
    "from keras.optimizers import SGD\n",
    "from keras.utils import np_utils\n",
    "from keras.preprocessing.image import array_to_img, img_to_array, load_img\n",
    "from keras.callbacks import LearningRateScheduler, ModelCheckpoint\n",
    "from sklearn.metrics import confusion_matrix, roc_curve, roc_auc_score\n",
    "from sklearn.cross_validation import train_test_split\n",
    "from tensorflow.python.lib.io import file_io\n",
    "from matplotlib import pyplot as plt\n",
    "%matplotlib inline"
   ]
  },
  {
   "cell_type": "code",
   "execution_count": 3,
   "metadata": {
    "collapsed": true
   },
   "outputs": [],
   "source": [
    "with file_io.FileIO(\"gs://wellio-kadaif-tasty-images-project-pre-processed-images/pre_processed_images/image_data_20000_50.txt\", 'r') as f:\n",
    "    X, y = pickle.load(f)"
   ]
  },
  {
   "cell_type": "code",
   "execution_count": 4,
   "metadata": {
    "collapsed": true
   },
   "outputs": [],
   "source": [
    "datagen = ImageDataGenerator(rotation_range=40,\n",
    "                             width_shift_range=0.1,\n",
    "                             height_shift_range=0.1,\n",
    "                             shear_range=0.4,\n",
    "                             zoom_range=0.1,\n",
    "                             horizontal_flip=False,\n",
    "                             fill_mode='nearest')"
   ]
  },
  {
   "cell_type": "code",
   "execution_count": 5,
   "metadata": {
    "collapsed": true
   },
   "outputs": [],
   "source": [
    "X_train, X_test, y_train, y_test = train_test_split(X, y, test_size=0.3, random_state=42)"
   ]
  },
  {
   "cell_type": "code",
   "execution_count": 6,
   "metadata": {
    "collapsed": true
   },
   "outputs": [],
   "source": [
    "X_train_fit, X_val, y_train_fit, y_val = train_test_split(X_train, y_train, test_size=0.1, random_state=42)"
   ]
  },
  {
   "cell_type": "code",
   "execution_count": 7,
   "metadata": {
    "collapsed": true
   },
   "outputs": [],
   "source": [
    "y_train_fit_sparse = np_utils.to_categorical(y_train_fit, 2)"
   ]
  },
  {
   "cell_type": "code",
   "execution_count": 8,
   "metadata": {
    "collapsed": true
   },
   "outputs": [],
   "source": [
    "y_val_sparse = np_utils.to_categorical(y_val, 2)"
   ]
  },
  {
   "cell_type": "code",
   "execution_count": 9,
   "metadata": {
    "collapsed": true
   },
   "outputs": [],
   "source": [
    "y_test_sparse = np_utils.to_categorical(y_test, 2)"
   ]
  },
  {
   "cell_type": "code",
   "execution_count": 10,
   "metadata": {
    "collapsed": true
   },
   "outputs": [],
   "source": [
    "datagen.fit(X_train)"
   ]
  },
  {
   "cell_type": "code",
   "execution_count": 11,
   "metadata": {
    "collapsed": true
   },
   "outputs": [],
   "source": [
    "IMG_SIZE = 50"
   ]
  },
  {
   "cell_type": "code",
   "execution_count": 12,
   "metadata": {
    "collapsed": true
   },
   "outputs": [],
   "source": [
    "model_1 = dl_functions.cnn_model_v_1(IMG_SIZE)"
   ]
  },
  {
   "cell_type": "code",
   "execution_count": 13,
   "metadata": {
    "collapsed": true
   },
   "outputs": [],
   "source": [
    "model_1.compile(loss='binary_crossentropy', optimizer='rmsprop',metrics=['accuracy'])"
   ]
  },
  {
   "cell_type": "code",
   "execution_count": 14,
   "metadata": {
    "collapsed": false
   },
   "outputs": [
    {
     "name": "stdout",
     "output_type": "stream",
     "text": [
      "_________________________________________________________________\n",
      "Layer (type)                 Output Shape              Param #   \n",
      "=================================================================\n",
      "conv2d_1 (Conv2D)            (None, 48, 48, 32)        896       \n",
      "_________________________________________________________________\n",
      "max_pooling2d_1 (MaxPooling2 (None, 24, 24, 32)        0         \n",
      "_________________________________________________________________\n",
      "conv2d_2 (Conv2D)            (None, 22, 22, 32)        9248      \n",
      "_________________________________________________________________\n",
      "max_pooling2d_2 (MaxPooling2 (None, 11, 11, 32)        0         \n",
      "_________________________________________________________________\n",
      "conv2d_3 (Conv2D)            (None, 9, 9, 64)          18496     \n",
      "_________________________________________________________________\n",
      "max_pooling2d_3 (MaxPooling2 (None, 4, 4, 64)          0         \n",
      "_________________________________________________________________\n",
      "flatten_1 (Flatten)          (None, 1024)              0         \n",
      "_________________________________________________________________\n",
      "dense_1 (Dense)              (None, 64)                65600     \n",
      "_________________________________________________________________\n",
      "dropout_1 (Dropout)          (None, 64)                0         \n",
      "_________________________________________________________________\n",
      "dense_2 (Dense)              (None, 2)                 130       \n",
      "=================================================================\n",
      "Total params: 94,370\n",
      "Trainable params: 94,370\n",
      "Non-trainable params: 0\n",
      "_________________________________________________________________\n"
     ]
    }
   ],
   "source": [
    "model_1.summary()"
   ]
  },
  {
   "cell_type": "markdown",
   "metadata": {},
   "source": [
    ">Increased `batch_size` from `128` to `1024` to increase GPU memory usage (otherwise, it 'wastes' time doing I/O to get batches of data)."
   ]
  },
  {
   "cell_type": "code",
   "execution_count": 15,
   "metadata": {
    "collapsed": false
   },
   "outputs": [
    {
     "name": "stdout",
     "output_type": "stream",
     "text": [
      "Epoch 1/25\n",
      "12600/12600 [==============================] - 1161s - loss: 0.3229 - acc: 0.8637 - val_loss: 0.3278 - val_acc: 0.8707\n",
      "Epoch 2/25\n",
      "12600/12600 [==============================] - 1148s - loss: 0.2468 - acc: 0.9022 - val_loss: 0.2823 - val_acc: 0.8900\n",
      "Epoch 3/25\n",
      "12600/12600 [==============================] - 1147s - loss: 0.2442 - acc: 0.9055 - val_loss: 0.4469 - val_acc: 0.8214\n",
      "Epoch 4/25\n",
      "12600/12600 [==============================] - 1149s - loss: 0.2617 - acc: 0.9005 - val_loss: 0.3452 - val_acc: 0.8686\n",
      "Epoch 5/25\n",
      "12600/12600 [==============================] - 1160s - loss: 0.2917 - acc: 0.8893 - val_loss: 0.5673 - val_acc: 0.8364\n",
      "Epoch 6/25\n",
      "12600/12600 [==============================] - 1147s - loss: 0.3161 - acc: 0.8797 - val_loss: 0.3140 - val_acc: 0.8879\n",
      "Epoch 7/25\n",
      "12600/12600 [==============================] - 1147s - loss: 0.3430 - acc: 0.8696 - val_loss: 0.3266 - val_acc: 0.8800\n",
      "Epoch 8/25\n",
      "12600/12600 [==============================] - 1147s - loss: 0.3514 - acc: 0.8674 - val_loss: 0.5344 - val_acc: 0.7171\n",
      "Epoch 9/25\n",
      "12600/12600 [==============================] - 1157s - loss: 0.3602 - acc: 0.8638 - val_loss: 0.3563 - val_acc: 0.8457\n",
      "Epoch 10/25\n",
      "12600/12600 [==============================] - 1148s - loss: 0.3691 - acc: 0.8604 - val_loss: 0.3190 - val_acc: 0.8814\n",
      "Epoch 11/25\n",
      "12600/12600 [==============================] - 1146s - loss: 0.3775 - acc: 0.8578 - val_loss: 0.3218 - val_acc: 0.8629\n",
      "Epoch 12/25\n",
      "12600/12600 [==============================] - 1145s - loss: 0.3820 - acc: 0.8561 - val_loss: 0.3903 - val_acc: 0.8686\n",
      "Epoch 13/25\n",
      "12600/12600 [==============================] - 1144s - loss: 0.3880 - acc: 0.8538 - val_loss: 0.5011 - val_acc: 0.8393\n",
      "Epoch 14/25\n",
      "12600/12600 [==============================] - 1155s - loss: 0.3968 - acc: 0.8500 - val_loss: 0.3235 - val_acc: 0.8714\n",
      "Epoch 15/25\n",
      "12600/12600 [==============================] - 1143s - loss: 0.4028 - acc: 0.8473 - val_loss: 0.5752 - val_acc: 0.8564\n",
      "Epoch 16/25\n",
      "12600/12600 [==============================] - 1142s - loss: 0.4059 - acc: 0.8448 - val_loss: 0.3374 - val_acc: 0.8750\n",
      "Epoch 17/25\n",
      "12600/12600 [==============================] - 1147s - loss: 0.4186 - acc: 0.8412 - val_loss: 0.4173 - val_acc: 0.8664\n",
      "Epoch 18/25\n",
      "12600/12600 [==============================] - 1164s - loss: 0.4311 - acc: 0.8372 - val_loss: 0.4172 - val_acc: 0.8364\n",
      "Epoch 19/25\n",
      "12600/12600 [==============================] - 1148s - loss: 0.4376 - acc: 0.8339 - val_loss: 0.4236 - val_acc: 0.8693\n",
      "Epoch 20/25\n",
      "12600/12600 [==============================] - 1145s - loss: 0.4421 - acc: 0.8336 - val_loss: 0.4188 - val_acc: 0.8307\n",
      "Epoch 21/25\n",
      "12600/12600 [==============================] - 1147s - loss: 0.4457 - acc: 0.8334 - val_loss: 0.4936 - val_acc: 0.8393\n",
      "Epoch 22/25\n",
      "12600/12600 [==============================] - 1168s - loss: 0.4470 - acc: 0.8325 - val_loss: 0.4969 - val_acc: 0.8286\n",
      "Epoch 23/25\n",
      "12600/12600 [==============================] - 1147s - loss: 0.4483 - acc: 0.8335 - val_loss: 0.6654 - val_acc: 0.5150\n",
      "Epoch 24/25\n",
      "12600/12600 [==============================] - 1146s - loss: 0.4510 - acc: 0.8321 - val_loss: 0.4710 - val_acc: 0.8457\n",
      "Epoch 25/25\n",
      "12600/12600 [==============================] - 1144s - loss: 0.4702 - acc: 0.8265 - val_loss: 0.4505 - val_acc: 0.8500\n"
     ]
    },
    {
     "data": {
      "text/plain": [
       "<keras.callbacks.History at 0x7ff7b72b4dd0>"
      ]
     },
     "execution_count": 15,
     "metadata": {},
     "output_type": "execute_result"
    }
   ],
   "source": [
    "model_1.fit_generator(datagen.flow(X_train_fit, y_train_fit_sparse, batch_size=128), steps_per_epoch=len(X_train_fit),\n",
    "                                   epochs=25, validation_data=(X_val, y_val_sparse))"
   ]
  },
  {
   "cell_type": "code",
   "execution_count": 16,
   "metadata": {
    "collapsed": false
   },
   "outputs": [
    {
     "name": "stdout",
     "output_type": "stream",
     "text": [
      "5888/6000 [============================>.] - ETA: 0s"
     ]
    }
   ],
   "source": [
    "score = model_1.evaluate(X_test, y_test_sparse, verbose=1)"
   ]
  },
  {
   "cell_type": "code",
   "execution_count": 17,
   "metadata": {
    "collapsed": false
   },
   "outputs": [
    {
     "name": "stdout",
     "output_type": "stream",
     "text": [
      "Test loss: 0.4675\n",
      "Test accuracy: 85.17%\n"
     ]
    }
   ],
   "source": [
    "print('Test loss: {:0,.4f}'.format(score[0]))\n",
    "print('Test accuracy: {:.2%}'.format(score[1]))"
   ]
  },
  {
   "cell_type": "code",
   "execution_count": 18,
   "metadata": {
    "collapsed": true
   },
   "outputs": [],
   "source": [
    "predicted_images = []\n",
    "for i in model_1.predict(X_test):\n",
    "    predicted_images.append(np.where(np.max(i) == i)[0])"
   ]
  },
  {
   "cell_type": "code",
   "execution_count": 19,
   "metadata": {
    "collapsed": false
   },
   "outputs": [
    {
     "name": "stdout",
     "output_type": "stream",
     "text": [
      "AUC: 85.21%\n",
      "\n"
     ]
    }
   ],
   "source": [
    "print(\"AUC: {:.2%}\\n\".format(roc_auc_score(y_test, predicted_images)))"
   ]
  },
  {
   "cell_type": "code",
   "execution_count": 20,
   "metadata": {
    "collapsed": false
   },
   "outputs": [
    {
     "data": {
      "image/png": "[encoded data removed]",
      "text/plain": [
       "<matplotlib.figure.Figure at 0x7ff7b74fe650>"
      ]
     },
     "metadata": {},
     "output_type": "display_data"
    }
   ],
   "source": [
    "dl_functions.show_confusion_matrix(confusion_matrix(y_test, predicted_images), ['Class 0', 'Class 1'])"
   ]
  },
  {
   "cell_type": "code",
   "execution_count": 21,
   "metadata": {
    "collapsed": false
   },
   "outputs": [
    {
     "name": "stdout",
     "output_type": "stream",
     "text": [
      "5696/6000 [===========================>..] - ETA: 0s"
     ]
    }
   ],
   "source": [
    "predictions_probability = model_1.predict_proba(X_test)"
   ]
  },
  {
   "cell_type": "code",
   "execution_count": 22,
   "metadata": {
    "collapsed": false
   },
   "outputs": [
    {
     "data": {
      "image/png": "[encoded data removed]",
      "text/plain": [
       "<matplotlib.figure.Figure at 0x7ff76e6ea690>"
      ]
     },
     "metadata": {},
     "output_type": "display_data"
    }
   ],
   "source": [
    "plt.figure(figsize=(7, 7))\n",
    "dl_functions.plot_roc(y_test, predictions_probability[:,1], \"CNN - \" + str(len(model_1.layers)) + \" layers | # images: \" + str(len(X)) + \" | image size: \" + str(IMG_SIZE), \"Tasty Food Images\")"
   ]
  },
  {
   "cell_type": "code",
   "execution_count": 23,
   "metadata": {
    "collapsed": true
   },
   "outputs": [],
   "source": [
    "model_1.save('models/model_v1_20000_50_augmentation_gpu.h5')"
   ]
  },
  {
   "cell_type": "code",
   "execution_count": 24,
   "metadata": {
    "collapsed": true
   },
   "outputs": [],
   "source": [
    "model_1.save_weights('models/model_v1_20000_50_augmentation_weights_gpu.h5')"
   ]
  },
  {
   "cell_type": "code",
   "execution_count": null,
   "metadata": {
    "collapsed": true
   },
   "outputs": [],
   "source": []
  }
 ],
 "metadata": {
  "anaconda-cloud": {},
  "kernelspec": {
   "display_name": "Python 2",
   "language": "python",
   "name": "python2"
  },
  "language_info": {
   "codemirror_mode": {
    "name": "ipython",
    "version": 2
   },
   "file_extension": ".py",
   "mimetype": "text/x-python",
   "name": "python",
   "nbconvert_exporter": "python",
   "pygments_lexer": "ipython2",
   "version": "2.7.12"
  }
 },
 "nbformat": 4,
 "nbformat_minor": 2
}
