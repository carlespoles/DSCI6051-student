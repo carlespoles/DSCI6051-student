{
 "cells": [
  {
   "cell_type": "markdown",
   "metadata": {},
   "source": [
    "# Similar to previous notebook, we use data augmentation. This notebook run on GPUs in a docker container.\n",
    "\n",
    "## CNN 10 layer architecture."
   ]
  },
  {
   "cell_type": "code",
   "execution_count": 1,
   "metadata": {
    "collapsed": true
   },
   "outputs": [],
   "source": [
    "reset -fs"
   ]
  },
  {
   "cell_type": "code",
   "execution_count": 2,
   "metadata": {
    "collapsed": false
   },
   "outputs": [
    {
     "name": "stderr",
     "output_type": "stream",
     "text": [
      "Using TensorFlow backend.\n",
      "/usr/local/lib/python2.7/dist-packages/sklearn/cross_validation.py:44: DeprecationWarning: This module was deprecated in version 0.18 in favor of the model_selection module into which all the refactored classes and functions are moved. Also note that the interface of the new CV iterators are different from that of this module. This module will be removed in 0.20.\n",
      "  \"This module will be removed in 0.20.\", DeprecationWarning)\n"
     ]
    }
   ],
   "source": [
    "import numpy as np\n",
    "import pandas as pd\n",
    "import os\n",
    "import glob\n",
    "import pickle\n",
    "import h5py\n",
    "import gzip\n",
    "import dl_functions\n",
    "from IPython.display import display\n",
    "from keras.preprocessing.image import ImageDataGenerator\n",
    "from keras.models import Sequential, model_from_json\n",
    "from keras.layers import Dense, Dropout, Activation, Flatten\n",
    "from keras.layers import Convolution2D, MaxPooling2D\n",
    "from keras.optimizers import SGD\n",
    "from keras.utils import np_utils\n",
    "from keras.preprocessing.image import array_to_img, img_to_array, load_img\n",
    "from keras.callbacks import LearningRateScheduler, ModelCheckpoint\n",
    "from sklearn.metrics import confusion_matrix, roc_curve, roc_auc_score\n",
    "from sklearn.cross_validation import train_test_split\n",
    "from tensorflow.python.lib.io import file_io\n",
    "from matplotlib import pyplot as plt\n",
    "%matplotlib inline"
   ]
  },
  {
   "cell_type": "code",
   "execution_count": 3,
   "metadata": {
    "collapsed": true
   },
   "outputs": [],
   "source": [
    "with file_io.FileIO(\"gs://wellio-kadaif-tasty-images-project-pre-processed-images/pre_processed_images/image_data_20000_25.txt\", 'r') as f:\n",
    "    X, y = pickle.load(f)"
   ]
  },
  {
   "cell_type": "code",
   "execution_count": 4,
   "metadata": {
    "collapsed": true
   },
   "outputs": [],
   "source": [
    "datagen = ImageDataGenerator(rotation_range=40,\n",
    "                             width_shift_range=0.1,\n",
    "                             height_shift_range=0.1,\n",
    "                             shear_range=0.4,\n",
    "                             zoom_range=0.1,\n",
    "                             horizontal_flip=False,\n",
    "                             fill_mode='nearest')"
   ]
  },
  {
   "cell_type": "code",
   "execution_count": 5,
   "metadata": {
    "collapsed": true
   },
   "outputs": [],
   "source": [
    "X_train, X_test, y_train, y_test = train_test_split(X, y, test_size=0.3, random_state=42)"
   ]
  },
  {
   "cell_type": "code",
   "execution_count": 6,
   "metadata": {
    "collapsed": true
   },
   "outputs": [],
   "source": [
    "X_train_fit, X_val, y_train_fit, y_val = train_test_split(X_train, y_train, test_size=0.1, random_state=42)"
   ]
  },
  {
   "cell_type": "code",
   "execution_count": 7,
   "metadata": {
    "collapsed": true
   },
   "outputs": [],
   "source": [
    "y_train_fit_sparse = np_utils.to_categorical(y_train_fit, 2)"
   ]
  },
  {
   "cell_type": "code",
   "execution_count": 8,
   "metadata": {
    "collapsed": true
   },
   "outputs": [],
   "source": [
    "y_val_sparse = np_utils.to_categorical(y_val, 2)"
   ]
  },
  {
   "cell_type": "code",
   "execution_count": 9,
   "metadata": {
    "collapsed": true
   },
   "outputs": [],
   "source": [
    "y_test_sparse = np_utils.to_categorical(y_test, 2)"
   ]
  },
  {
   "cell_type": "code",
   "execution_count": 10,
   "metadata": {
    "collapsed": true
   },
   "outputs": [],
   "source": [
    "datagen.fit(X_train)"
   ]
  },
  {
   "cell_type": "code",
   "execution_count": 11,
   "metadata": {
    "collapsed": true
   },
   "outputs": [],
   "source": [
    "IMG_SIZE = 25"
   ]
  },
  {
   "cell_type": "code",
   "execution_count": 12,
   "metadata": {
    "collapsed": true
   },
   "outputs": [],
   "source": [
    "model_1 = dl_functions.cnn_model_v_1(IMG_SIZE)"
   ]
  },
  {
   "cell_type": "code",
   "execution_count": 13,
   "metadata": {
    "collapsed": true
   },
   "outputs": [],
   "source": [
    "model_1.compile(loss='binary_crossentropy', optimizer='rmsprop',metrics=['accuracy'])"
   ]
  },
  {
   "cell_type": "code",
   "execution_count": 14,
   "metadata": {
    "collapsed": false
   },
   "outputs": [
    {
     "name": "stdout",
     "output_type": "stream",
     "text": [
      "_________________________________________________________________\n",
      "Layer (type)                 Output Shape              Param #   \n",
      "=================================================================\n",
      "conv2d_1 (Conv2D)            (None, 23, 23, 32)        896       \n",
      "_________________________________________________________________\n",
      "max_pooling2d_1 (MaxPooling2 (None, 11, 11, 32)        0         \n",
      "_________________________________________________________________\n",
      "conv2d_2 (Conv2D)            (None, 9, 9, 32)          9248      \n",
      "_________________________________________________________________\n",
      "max_pooling2d_2 (MaxPooling2 (None, 4, 4, 32)          0         \n",
      "_________________________________________________________________\n",
      "conv2d_3 (Conv2D)            (None, 2, 2, 64)          18496     \n",
      "_________________________________________________________________\n",
      "max_pooling2d_3 (MaxPooling2 (None, 1, 1, 64)          0         \n",
      "_________________________________________________________________\n",
      "flatten_1 (Flatten)          (None, 64)                0         \n",
      "_________________________________________________________________\n",
      "dense_1 (Dense)              (None, 64)                4160      \n",
      "_________________________________________________________________\n",
      "dropout_1 (Dropout)          (None, 64)                0         \n",
      "_________________________________________________________________\n",
      "dense_2 (Dense)              (None, 2)                 130       \n",
      "=================================================================\n",
      "Total params: 32,930\n",
      "Trainable params: 32,930\n",
      "Non-trainable params: 0\n",
      "_________________________________________________________________\n"
     ]
    }
   ],
   "source": [
    "model_1.summary()"
   ]
  },
  {
   "cell_type": "markdown",
   "metadata": {},
   "source": [
    ">Increased `batch_size` from `128` to `1024` to increase GPU memory usage (otherwise, it 'wastes' time doing I/O to get batches of data)."
   ]
  },
  {
   "cell_type": "code",
   "execution_count": 15,
   "metadata": {
    "collapsed": false
   },
   "outputs": [
    {
     "name": "stdout",
     "output_type": "stream",
     "text": [
      "Epoch 1/50\n",
      "12600/12600 [==============================] - 561s - loss: 0.3805 - acc: 0.8317 - val_loss: 0.3749 - val_acc: 0.8436\n",
      "Epoch 2/50\n",
      "12600/12600 [==============================] - 545s - loss: 0.2981 - acc: 0.8747 - val_loss: 0.3737 - val_acc: 0.8464\n",
      "Epoch 3/50\n",
      "12600/12600 [==============================] - 556s - loss: 0.2623 - acc: 0.8926 - val_loss: 0.4052 - val_acc: 0.8314\n",
      "Epoch 4/50\n",
      "12600/12600 [==============================] - 556s - loss: 0.2407 - acc: 0.9027 - val_loss: 0.4267 - val_acc: 0.8407\n",
      "Epoch 5/50\n",
      "12600/12600 [==============================] - 544s - loss: 0.2285 - acc: 0.9087 - val_loss: 0.4180 - val_acc: 0.8457\n",
      "Epoch 6/50\n",
      "12600/12600 [==============================] - 556s - loss: 0.2216 - acc: 0.9125 - val_loss: 0.4446 - val_acc: 0.8450\n",
      "Epoch 7/50\n",
      "12600/12600 [==============================] - 544s - loss: 0.2192 - acc: 0.9140 - val_loss: 0.4296 - val_acc: 0.8450\n",
      "Epoch 8/50\n",
      "12600/12600 [==============================] - 556s - loss: 0.2193 - acc: 0.9147 - val_loss: 0.4251 - val_acc: 0.8314\n",
      "Epoch 9/50\n",
      "12600/12600 [==============================] - 551s - loss: 0.2225 - acc: 0.9142 - val_loss: 0.4306 - val_acc: 0.8471\n",
      "Epoch 10/50\n",
      "12600/12600 [==============================] - 549s - loss: 0.2255 - acc: 0.9132 - val_loss: 0.4273 - val_acc: 0.8579\n",
      "Epoch 11/50\n",
      "12600/12600 [==============================] - 556s - loss: 0.2301 - acc: 0.9121 - val_loss: 0.5546 - val_acc: 0.8400\n",
      "Epoch 12/50\n",
      "12600/12600 [==============================] - 543s - loss: 0.2369 - acc: 0.9102 - val_loss: 0.5240 - val_acc: 0.8421\n",
      "Epoch 13/50\n",
      "12600/12600 [==============================] - 556s - loss: 0.2457 - acc: 0.9069 - val_loss: 0.4353 - val_acc: 0.8550\n",
      "Epoch 14/50\n",
      "12600/12600 [==============================] - 544s - loss: 0.2541 - acc: 0.9038 - val_loss: 0.4991 - val_acc: 0.8493\n",
      "Epoch 15/50\n",
      "12600/12600 [==============================] - 556s - loss: 0.2643 - acc: 0.8999 - val_loss: 0.6521 - val_acc: 0.8079\n",
      "Epoch 16/50\n",
      "12600/12600 [==============================] - 557s - loss: 0.2800 - acc: 0.8940 - val_loss: 0.5754 - val_acc: 0.8279\n",
      "Epoch 17/50\n",
      "12600/12600 [==============================] - 544s - loss: 0.3067 - acc: 0.8838 - val_loss: 0.5357 - val_acc: 0.8279\n",
      "Epoch 18/50\n",
      "12600/12600 [==============================] - 556s - loss: 0.3436 - acc: 0.8677 - val_loss: 0.4187 - val_acc: 0.8514\n",
      "Epoch 19/50\n",
      "12600/12600 [==============================] - 544s - loss: 0.3812 - acc: 0.8509 - val_loss: 0.4901 - val_acc: 0.8214\n",
      "Epoch 20/50\n",
      "12600/12600 [==============================] - 556s - loss: 0.4043 - acc: 0.8398 - val_loss: 0.3995 - val_acc: 0.8350\n",
      "Epoch 21/50\n",
      "12600/12600 [==============================] - 556s - loss: 0.4289 - acc: 0.8284 - val_loss: 0.4189 - val_acc: 0.8464\n",
      "Epoch 22/50\n",
      "12600/12600 [==============================] - 544s - loss: 0.4400 - acc: 0.8225 - val_loss: 0.4826 - val_acc: 0.7850\n",
      "Epoch 23/50\n",
      "12600/12600 [==============================] - 555s - loss: 0.4456 - acc: 0.8198 - val_loss: 0.7895 - val_acc: 0.7836\n",
      "Epoch 24/50\n",
      "12600/12600 [==============================] - 543s - loss: 0.4487 - acc: 0.8192 - val_loss: 0.4339 - val_acc: 0.8014\n",
      "Epoch 25/50\n",
      "12600/12600 [==============================] - 556s - loss: 0.4511 - acc: 0.8179 - val_loss: 0.5122 - val_acc: 0.8021\n",
      "Epoch 26/50\n",
      "12600/12600 [==============================] - 556s - loss: 0.4537 - acc: 0.8187 - val_loss: 0.5467 - val_acc: 0.7593\n",
      "Epoch 27/50\n",
      "12600/12600 [==============================] - 545s - loss: 0.4559 - acc: 0.8160 - val_loss: 0.4182 - val_acc: 0.8321\n",
      "Epoch 28/50\n",
      "12600/12600 [==============================] - 556s - loss: 0.4566 - acc: 0.8159 - val_loss: 0.4178 - val_acc: 0.8543\n",
      "Epoch 29/50\n",
      "12600/12600 [==============================] - 544s - loss: 0.4580 - acc: 0.8145 - val_loss: 0.5602 - val_acc: 0.8436\n",
      "Epoch 30/50\n",
      "12600/12600 [==============================] - 555s - loss: 0.4618 - acc: 0.8138 - val_loss: 0.5103 - val_acc: 0.8279\n",
      "Epoch 31/50\n",
      "12600/12600 [==============================] - 556s - loss: 0.4590 - acc: 0.8143 - val_loss: 0.4015 - val_acc: 0.8343\n",
      "Epoch 32/50\n",
      "12600/12600 [==============================] - 544s - loss: 0.4649 - acc: 0.8141 - val_loss: 0.5598 - val_acc: 0.7279\n",
      "Epoch 33/50\n",
      "12600/12600 [==============================] - 556s - loss: 0.4675 - acc: 0.8132 - val_loss: 0.4758 - val_acc: 0.7943\n",
      "Epoch 34/50\n",
      "12600/12600 [==============================] - 545s - loss: 0.4676 - acc: 0.8137 - val_loss: 0.7168 - val_acc: 0.5336\n",
      "Epoch 35/50\n",
      "12600/12600 [==============================] - 557s - loss: 0.4674 - acc: 0.8140 - val_loss: 0.4426 - val_acc: 0.8236\n",
      "Epoch 36/50\n",
      "12600/12600 [==============================] - 551s - loss: 0.4669 - acc: 0.8135 - val_loss: 0.4748 - val_acc: 0.7879\n",
      "Epoch 37/50\n",
      "12600/12600 [==============================] - 551s - loss: 0.4728 - acc: 0.8130 - val_loss: 0.4235 - val_acc: 0.8300\n",
      "Epoch 38/50\n",
      "12600/12600 [==============================] - 556s - loss: 0.4757 - acc: 0.8125 - val_loss: 0.8360 - val_acc: 0.7086\n",
      "Epoch 39/50\n",
      "12600/12600 [==============================] - 544s - loss: 0.4833 - acc: 0.8063 - val_loss: 0.4380 - val_acc: 0.8486\n",
      "Epoch 40/50\n",
      "12600/12600 [==============================] - 557s - loss: 0.4961 - acc: 0.8008 - val_loss: 0.9576 - val_acc: 0.7086\n",
      "Epoch 41/50\n",
      "12600/12600 [==============================] - 544s - loss: 0.4923 - acc: 0.7994 - val_loss: 0.5099 - val_acc: 0.8371\n",
      "Epoch 42/50\n",
      "12600/12600 [==============================] - 556s - loss: 0.4913 - acc: 0.7993 - val_loss: 0.4363 - val_acc: 0.8421\n",
      "Epoch 43/50\n",
      "12600/12600 [==============================] - 555s - loss: 0.4947 - acc: 0.8010 - val_loss: 0.4554 - val_acc: 0.8271\n",
      "Epoch 44/50\n",
      "12600/12600 [==============================] - 544s - loss: 0.4915 - acc: 0.8020 - val_loss: 0.4852 - val_acc: 0.8421\n",
      "Epoch 45/50\n",
      "12600/12600 [==============================] - 556s - loss: 0.4947 - acc: 0.8020 - val_loss: 0.5138 - val_acc: 0.8293\n",
      "Epoch 46/50\n",
      "12600/12600 [==============================] - 544s - loss: 0.4965 - acc: 0.8036 - val_loss: 0.4285 - val_acc: 0.8150\n",
      "Epoch 47/50\n",
      "12600/12600 [==============================] - 557s - loss: 0.4907 - acc: 0.8039 - val_loss: 0.4485 - val_acc: 0.8400\n",
      "Epoch 48/50\n",
      "12600/12600 [==============================] - 556s - loss: 0.4913 - acc: 0.8049 - val_loss: 0.9428 - val_acc: 0.7593\n",
      "Epoch 49/50\n",
      "12600/12600 [==============================] - 543s - loss: 0.4944 - acc: 0.8045 - val_loss: 0.6127 - val_acc: 0.8029\n",
      "Epoch 50/50\n",
      "12600/12600 [==============================] - 555s - loss: 0.4913 - acc: 0.8047 - val_loss: 0.4364 - val_acc: 0.8279\n"
     ]
    },
    {
     "data": {
      "text/plain": [
       "<keras.callbacks.History at 0x7f0f5cd3fdd0>"
      ]
     },
     "execution_count": 15,
     "metadata": {},
     "output_type": "execute_result"
    }
   ],
   "source": [
    "model_1.fit_generator(datagen.flow(X_train_fit, y_train_fit_sparse, batch_size=128), steps_per_epoch=len(X_train_fit),\n",
    "                                   epochs=50, validation_data=(X_val, y_val_sparse))"
   ]
  },
  {
   "cell_type": "code",
   "execution_count": 16,
   "metadata": {
    "collapsed": false
   },
   "outputs": [
    {
     "name": "stdout",
     "output_type": "stream",
     "text": [
      "5792/6000 [===========================>..] - ETA: 0s"
     ]
    }
   ],
   "source": [
    "score = model_1.evaluate(X_test, y_test_sparse, verbose=1)"
   ]
  },
  {
   "cell_type": "code",
   "execution_count": 17,
   "metadata": {
    "collapsed": false
   },
   "outputs": [
    {
     "name": "stdout",
     "output_type": "stream",
     "text": [
      "Test loss: 0.4409\n",
      "Test accuracy: 85.12%\n"
     ]
    }
   ],
   "source": [
    "print('Test loss: {:0,.4f}'.format(score[0]))\n",
    "print('Test accuracy: {:.2%}'.format(score[1]))"
   ]
  },
  {
   "cell_type": "code",
   "execution_count": 18,
   "metadata": {
    "collapsed": true
   },
   "outputs": [],
   "source": [
    "predicted_images = []\n",
    "for i in model_1.predict(X_test):\n",
    "    predicted_images.append(np.where(np.max(i) == i)[0])"
   ]
  },
  {
   "cell_type": "code",
   "execution_count": 19,
   "metadata": {
    "collapsed": false
   },
   "outputs": [
    {
     "name": "stdout",
     "output_type": "stream",
     "text": [
      "AUC: 85.13%\n",
      "\n"
     ]
    }
   ],
   "source": [
    "print(\"AUC: {:.2%}\\n\".format(roc_auc_score(y_test, predicted_images)))"
   ]
  },
  {
   "cell_type": "code",
   "execution_count": 20,
   "metadata": {
    "collapsed": false
   },
   "outputs": [
    {
     "data": {
      "image/png": "[encoded data removed]",
      "text/plain": [
       "<matplotlib.figure.Figure at 0x7f0f5d06ad10>"
      ]
     },
     "metadata": {},
     "output_type": "display_data"
    }
   ],
   "source": [
    "dl_functions.show_confusion_matrix(confusion_matrix(y_test, predicted_images), ['Class 0', 'Class 1'])"
   ]
  },
  {
   "cell_type": "code",
   "execution_count": 21,
   "metadata": {
    "collapsed": false
   },
   "outputs": [
    {
     "name": "stdout",
     "output_type": "stream",
     "text": [
      "5696/6000 [===========================>..] - ETA: 0s"
     ]
    }
   ],
   "source": [
    "predictions_probability = model_1.predict_proba(X_test)"
   ]
  },
  {
   "cell_type": "code",
   "execution_count": 22,
   "metadata": {
    "collapsed": false
   },
   "outputs": [
    {
     "data": {
      "image/png": "[encoded data removed]",
      "text/plain": [
       "<matplotlib.figure.Figure at 0x7f0f5bae1750>"
      ]
     },
     "metadata": {},
     "output_type": "display_data"
    }
   ],
   "source": [
    "plt.figure(figsize=(7, 7))\n",
    "dl_functions.plot_roc(y_test, predictions_probability[:,1], \"CNN - \" + str(len(model_1.layers)) + \" layers | # images: \" + str(len(X)) + \" | image size: \" + str(IMG_SIZE), \"Tasty Food Images\")"
   ]
  },
  {
   "cell_type": "code",
   "execution_count": 23,
   "metadata": {
    "collapsed": true
   },
   "outputs": [],
   "source": [
    "model_1.save('models/model_v1_20000_25_augmentation_gpu.h5')"
   ]
  },
  {
   "cell_type": "code",
   "execution_count": 24,
   "metadata": {
    "collapsed": true
   },
   "outputs": [],
   "source": [
    "model_1.save_weights('models/model_v1_20000_25_augmentation_weights_gpu.h5')"
   ]
  }
 ],
 "metadata": {
  "anaconda-cloud": {},
  "kernelspec": {
   "display_name": "Python 2",
   "language": "python",
   "name": "python2"
  },
  "language_info": {
   "codemirror_mode": {
    "name": "ipython",
    "version": 2
   },
   "file_extension": ".py",
   "mimetype": "text/x-python",
   "name": "python",
   "nbconvert_exporter": "python",
   "pygments_lexer": "ipython2",
   "version": "2.7.12"
  }
 },
 "nbformat": 4,
 "nbformat_minor": 2
}
