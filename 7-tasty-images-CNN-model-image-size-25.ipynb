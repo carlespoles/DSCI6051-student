{
 "cells": [
  {
   "cell_type": "code",
   "execution_count": 1,
   "metadata": {
    "collapsed": true
   },
   "outputs": [],
   "source": [
    "reset -fs"
   ]
  },
  {
   "cell_type": "code",
   "execution_count": 2,
   "metadata": {
    "collapsed": false
   },
   "outputs": [
    {
     "name": "stderr",
     "output_type": "stream",
     "text": [
      "Using TensorFlow backend.\n"
     ]
    }
   ],
   "source": [
    "import numpy as np\n",
    "import pandas as pd\n",
    "import os\n",
    "import glob\n",
    "import pickle\n",
    "import h5py\n",
    "import gzip\n",
    "import dl_functions\n",
    "from IPython.display import display\n",
    "from keras.preprocessing.image import ImageDataGenerator\n",
    "from keras.models import Sequential, model_from_json\n",
    "from keras.layers import Dense, Dropout, Activation, Flatten\n",
    "from keras.layers import Convolution2D, MaxPooling2D\n",
    "from keras.optimizers import SGD\n",
    "from keras.utils import np_utils\n",
    "from keras.preprocessing.image import array_to_img, img_to_array, load_img\n",
    "from keras.callbacks import LearningRateScheduler, ModelCheckpoint\n",
    "from sklearn.metrics import confusion_matrix, roc_curve, roc_auc_score\n",
    "from sklearn.cross_validation import train_test_split\n",
    "from matplotlib import pyplot as plt\n",
    "%matplotlib inline"
   ]
  },
  {
   "cell_type": "markdown",
   "metadata": {},
   "source": [
    "#### Loading data from a compressed pickle file that has 20,000 images pre-processed with a size of 25 by 25."
   ]
  },
  {
   "cell_type": "code",
   "execution_count": 3,
   "metadata": {
    "collapsed": false
   },
   "outputs": [],
   "source": [
    "with gzip.open('pre_processed_images/image_data_20000_25.txt.gz', 'rb') as f:\n",
    "  X, y = pickle.load(f)"
   ]
  },
  {
   "cell_type": "markdown",
   "metadata": {},
   "source": [
    "#### Creating a train, test split."
   ]
  },
  {
   "cell_type": "code",
   "execution_count": 4,
   "metadata": {
    "collapsed": false
   },
   "outputs": [],
   "source": [
    "X_train, X_test, y_train, y_test = train_test_split(X, y, test_size=0.3, random_state=42)"
   ]
  },
  {
   "cell_type": "markdown",
   "metadata": {},
   "source": [
    "#### The labels need to be converted to categorical. Note that we have 2 categories: good (1) and bad (0) images."
   ]
  },
  {
   "cell_type": "code",
   "execution_count": 5,
   "metadata": {
    "collapsed": true
   },
   "outputs": [],
   "source": [
    "y_train_sparse = np_utils.to_categorical(y_train, 2)"
   ]
  },
  {
   "cell_type": "code",
   "execution_count": 6,
   "metadata": {
    "collapsed": true
   },
   "outputs": [],
   "source": [
    "y_test_sparse = np_utils.to_categorical(y_test, 2)"
   ]
  },
  {
   "cell_type": "markdown",
   "metadata": {},
   "source": [
    "#### Creating an instance of a CNN model."
   ]
  },
  {
   "cell_type": "markdown",
   "metadata": {},
   "source": [
    "##### The image size is 25."
   ]
  },
  {
   "cell_type": "code",
   "execution_count": 7,
   "metadata": {
    "collapsed": true
   },
   "outputs": [],
   "source": [
    "IMG_SIZE = 25"
   ]
  },
  {
   "cell_type": "code",
   "execution_count": 8,
   "metadata": {
    "collapsed": false
   },
   "outputs": [],
   "source": [
    "model_1 = dl_functions.cnn_model_v_0(IMG_SIZE)"
   ]
  },
  {
   "cell_type": "code",
   "execution_count": 9,
   "metadata": {
    "collapsed": true
   },
   "outputs": [],
   "source": [
    "model_1.compile(loss='binary_crossentropy', optimizer='rmsprop', metrics=['accuracy'])"
   ]
  },
  {
   "cell_type": "code",
   "execution_count": 10,
   "metadata": {
    "collapsed": false
   },
   "outputs": [
    {
     "name": "stdout",
     "output_type": "stream",
     "text": [
      "_________________________________________________________________\n",
      "Layer (type)                 Output Shape              Param #   \n",
      "=================================================================\n",
      "conv2d_1 (Conv2D)            (None, 23, 23, 32)        896       \n",
      "_________________________________________________________________\n",
      "conv2d_2 (Conv2D)            (None, 21, 21, 32)        9248      \n",
      "_________________________________________________________________\n",
      "max_pooling2d_1 (MaxPooling2 (None, 10, 10, 32)        0         \n",
      "_________________________________________________________________\n",
      "dropout_1 (Dropout)          (None, 10, 10, 32)        0         \n",
      "_________________________________________________________________\n",
      "conv2d_3 (Conv2D)            (None, 8, 8, 64)          18496     \n",
      "_________________________________________________________________\n",
      "max_pooling2d_2 (MaxPooling2 (None, 4, 4, 64)          0         \n",
      "_________________________________________________________________\n",
      "dropout_2 (Dropout)          (None, 4, 4, 64)          0         \n",
      "_________________________________________________________________\n",
      "conv2d_4 (Conv2D)            (None, 2, 2, 128)         73856     \n",
      "_________________________________________________________________\n",
      "max_pooling2d_3 (MaxPooling2 (None, 1, 1, 128)         0         \n",
      "_________________________________________________________________\n",
      "dropout_3 (Dropout)          (None, 1, 1, 128)         0         \n",
      "_________________________________________________________________\n",
      "flatten_1 (Flatten)          (None, 128)               0         \n",
      "_________________________________________________________________\n",
      "dense_1 (Dense)              (None, 512)               66048     \n",
      "_________________________________________________________________\n",
      "dropout_4 (Dropout)          (None, 512)               0         \n",
      "_________________________________________________________________\n",
      "dense_2 (Dense)              (None, 2)                 1026      \n",
      "=================================================================\n",
      "Total params: 169,570\n",
      "Trainable params: 169,570\n",
      "Non-trainable params: 0\n",
      "_________________________________________________________________\n"
     ]
    }
   ],
   "source": [
    "model_1.summary()"
   ]
  },
  {
   "cell_type": "code",
   "execution_count": 11,
   "metadata": {
    "collapsed": false
   },
   "outputs": [
    {
     "name": "stdout",
     "output_type": "stream",
     "text": [
      "Train on 9800 samples, validate on 4200 samples\n",
      "Epoch 1/50\n",
      "9800/9800 [==============================] - 13s - loss: 0.6381 - acc: 0.6388 - val_loss: 0.5915 - val_acc: 0.7038\n",
      "Epoch 2/50\n",
      "9800/9800 [==============================] - 12s - loss: 0.5671 - acc: 0.7076 - val_loss: 0.5111 - val_acc: 0.7455\n",
      "Epoch 3/50\n",
      "9800/9800 [==============================] - 12s - loss: 0.5329 - acc: 0.7394 - val_loss: 0.5175 - val_acc: 0.7498\n",
      "Epoch 4/50\n",
      "9800/9800 [==============================] - 13s - loss: 0.5011 - acc: 0.7636 - val_loss: 0.5572 - val_acc: 0.7231\n",
      "Epoch 5/50\n",
      "9800/9800 [==============================] - 12s - loss: 0.4870 - acc: 0.7721 - val_loss: 0.4700 - val_acc: 0.7688\n",
      "Epoch 6/50\n",
      "9800/9800 [==============================] - 13s - loss: 0.4749 - acc: 0.7772 - val_loss: 0.4861 - val_acc: 0.7774\n",
      "Epoch 7/50\n",
      "9800/9800 [==============================] - 12s - loss: 0.4570 - acc: 0.7885 - val_loss: 0.6760 - val_acc: 0.6243\n",
      "Epoch 8/50\n",
      "9800/9800 [==============================] - 13s - loss: 0.4500 - acc: 0.7927 - val_loss: 0.5124 - val_acc: 0.7543\n",
      "Epoch 9/50\n",
      "9800/9800 [==============================] - 13s - loss: 0.4491 - acc: 0.7993 - val_loss: 0.4149 - val_acc: 0.8188\n",
      "Epoch 10/50\n",
      "9800/9800 [==============================] - 13s - loss: 0.4319 - acc: 0.8034 - val_loss: 0.4667 - val_acc: 0.8010\n",
      "Epoch 11/50\n",
      "9800/9800 [==============================] - 12s - loss: 0.4275 - acc: 0.8071 - val_loss: 0.4148 - val_acc: 0.8195\n",
      "Epoch 12/50\n",
      "9800/9800 [==============================] - 13s - loss: 0.4250 - acc: 0.8095 - val_loss: 0.4090 - val_acc: 0.8162\n",
      "Epoch 13/50\n",
      "9800/9800 [==============================] - 12s - loss: 0.4142 - acc: 0.8153 - val_loss: 0.4071 - val_acc: 0.8164\n",
      "Epoch 14/50\n",
      "9800/9800 [==============================] - 12s - loss: 0.4045 - acc: 0.8148 - val_loss: 0.4453 - val_acc: 0.7979\n",
      "Epoch 15/50\n",
      "9800/9800 [==============================] - 13s - loss: 0.3942 - acc: 0.8294 - val_loss: 0.4981 - val_acc: 0.7821\n",
      "Epoch 16/50\n",
      "9800/9800 [==============================] - 13s - loss: 0.3947 - acc: 0.8272 - val_loss: 0.4005 - val_acc: 0.8160\n",
      "Epoch 17/50\n",
      "9800/9800 [==============================] - 12s - loss: 0.3863 - acc: 0.8313 - val_loss: 0.3912 - val_acc: 0.8271\n",
      "Epoch 18/50\n",
      "9800/9800 [==============================] - 13s - loss: 0.3735 - acc: 0.8387 - val_loss: 0.3927 - val_acc: 0.8250\n",
      "Epoch 19/50\n",
      "9800/9800 [==============================] - 13s - loss: 0.3656 - acc: 0.8414 - val_loss: 0.5552 - val_acc: 0.7374\n",
      "Epoch 20/50\n",
      "9800/9800 [==============================] - 13s - loss: 0.3596 - acc: 0.8458 - val_loss: 0.4676 - val_acc: 0.7874\n",
      "Epoch 21/50\n",
      "9800/9800 [==============================] - 12s - loss: 0.3587 - acc: 0.8450 - val_loss: 0.4582 - val_acc: 0.7819\n",
      "Epoch 22/50\n",
      "9800/9800 [==============================] - 12s - loss: 0.3516 - acc: 0.8466 - val_loss: 0.5498 - val_acc: 0.7379\n",
      "Epoch 23/50\n",
      "9800/9800 [==============================] - 13s - loss: 0.3459 - acc: 0.8551 - val_loss: 0.4170 - val_acc: 0.8179\n",
      "Epoch 24/50\n",
      "9800/9800 [==============================] - 13s - loss: 0.3340 - acc: 0.8589 - val_loss: 0.4061 - val_acc: 0.8205\n",
      "Epoch 25/50\n",
      "9800/9800 [==============================] - 13s - loss: 0.3319 - acc: 0.8586 - val_loss: 0.4023 - val_acc: 0.8214\n",
      "Epoch 26/50\n",
      "9800/9800 [==============================] - 12s - loss: 0.3228 - acc: 0.8641 - val_loss: 0.4211 - val_acc: 0.8086\n",
      "Epoch 27/50\n",
      "9800/9800 [==============================] - 12s - loss: 0.3126 - acc: 0.8692 - val_loss: 0.4414 - val_acc: 0.8090\n",
      "Epoch 28/50\n",
      "9800/9800 [==============================] - 13s - loss: 0.3127 - acc: 0.8706 - val_loss: 0.3990 - val_acc: 0.8229\n",
      "Epoch 29/50\n",
      "9800/9800 [==============================] - 13s - loss: 0.3029 - acc: 0.8724 - val_loss: 0.5066 - val_acc: 0.7893\n",
      "Epoch 30/50\n",
      "9800/9800 [==============================] - 13s - loss: 0.2988 - acc: 0.8758 - val_loss: 0.4152 - val_acc: 0.8198\n",
      "Epoch 31/50\n",
      "9800/9800 [==============================] - 13s - loss: 0.2933 - acc: 0.8778 - val_loss: 0.4070 - val_acc: 0.8195\n",
      "Epoch 32/50\n",
      "9800/9800 [==============================] - 13s - loss: 0.2893 - acc: 0.8826 - val_loss: 0.4137 - val_acc: 0.8200\n",
      "Epoch 33/50\n",
      "9800/9800 [==============================] - 12s - loss: 0.2782 - acc: 0.8867 - val_loss: 0.4092 - val_acc: 0.8205\n",
      "Epoch 34/50\n",
      "9800/9800 [==============================] - 12s - loss: 0.2744 - acc: 0.8878 - val_loss: 0.4008 - val_acc: 0.8288\n",
      "Epoch 35/50\n",
      "9800/9800 [==============================] - 13s - loss: 0.2701 - acc: 0.8898 - val_loss: 0.4887 - val_acc: 0.8064\n",
      "Epoch 36/50\n",
      "9800/9800 [==============================] - 12s - loss: 0.2732 - acc: 0.8890 - val_loss: 0.4954 - val_acc: 0.7924\n",
      "Epoch 37/50\n",
      "9800/9800 [==============================] - 12s - loss: 0.2519 - acc: 0.8951 - val_loss: 0.4577 - val_acc: 0.8179\n",
      "Epoch 38/50\n",
      "9800/9800 [==============================] - 13s - loss: 0.2555 - acc: 0.8935 - val_loss: 0.4081 - val_acc: 0.8267\n",
      "Epoch 39/50\n",
      "9800/9800 [==============================] - 13s - loss: 0.2492 - acc: 0.8967 - val_loss: 0.4155 - val_acc: 0.8298\n",
      "Epoch 40/50\n",
      "9800/9800 [==============================] - 13s - loss: 0.2465 - acc: 0.8972 - val_loss: 0.4225 - val_acc: 0.8243\n",
      "Epoch 41/50\n",
      "9800/9800 [==============================] - 13s - loss: 0.2373 - acc: 0.9039 - val_loss: 0.4860 - val_acc: 0.7938\n",
      "Epoch 42/50\n",
      "9800/9800 [==============================] - 13s - loss: 0.2307 - acc: 0.9089 - val_loss: 0.4378 - val_acc: 0.8274\n",
      "Epoch 43/50\n",
      "9800/9800 [==============================] - 12s - loss: 0.2278 - acc: 0.9079 - val_loss: 0.4478 - val_acc: 0.8179\n",
      "Epoch 44/50\n",
      "9800/9800 [==============================] - 12s - loss: 0.2232 - acc: 0.9107 - val_loss: 0.4799 - val_acc: 0.7936\n",
      "Epoch 45/50\n",
      "9800/9800 [==============================] - 12s - loss: 0.2242 - acc: 0.9114 - val_loss: 0.4331 - val_acc: 0.8212\n",
      "Epoch 46/50\n",
      "9800/9800 [==============================] - 12s - loss: 0.2154 - acc: 0.9142 - val_loss: 0.5141 - val_acc: 0.7876\n",
      "Epoch 47/50\n",
      "9800/9800 [==============================] - 13s - loss: 0.2107 - acc: 0.9147 - val_loss: 0.4352 - val_acc: 0.8214\n",
      "Epoch 48/50\n",
      "9800/9800 [==============================] - 12s - loss: 0.2139 - acc: 0.9146 - val_loss: 0.4721 - val_acc: 0.8119\n",
      "Epoch 49/50\n",
      "9800/9800 [==============================] - 13s - loss: 0.2135 - acc: 0.9172 - val_loss: 0.4417 - val_acc: 0.8255\n",
      "Epoch 50/50\n",
      "9800/9800 [==============================] - 13s - loss: 0.1964 - acc: 0.9209 - val_loss: 0.4961 - val_acc: 0.8033\n"
     ]
    },
    {
     "data": {
      "text/plain": [
       "<keras.callbacks.History at 0x7f9e2ed55550>"
      ]
     },
     "execution_count": 11,
     "metadata": {},
     "output_type": "execute_result"
    }
   ],
   "source": [
    "model_1.fit(X_train, y_train_sparse, batch_size=128, epochs=50, verbose=1, validation_split=0.3)"
   ]
  },
  {
   "cell_type": "code",
   "execution_count": 12,
   "metadata": {
    "collapsed": false
   },
   "outputs": [
    {
     "name": "stdout",
     "output_type": "stream",
     "text": [
      "6000/6000 [==============================] - 2s     \n"
     ]
    }
   ],
   "source": [
    "score = model_1.evaluate(X_test, y_test_sparse, verbose=1)"
   ]
  },
  {
   "cell_type": "code",
   "execution_count": 13,
   "metadata": {
    "collapsed": false
   },
   "outputs": [
    {
     "name": "stdout",
     "output_type": "stream",
     "text": [
      "Test loss: 0.5173\n",
      "Test accuracy: 80.10%\n"
     ]
    }
   ],
   "source": [
    "print('Test loss: {:0,.4f}'.format(score[0]))\n",
    "print('Test accuracy: {:.2%}'.format(score[1]))"
   ]
  },
  {
   "cell_type": "code",
   "execution_count": 14,
   "metadata": {
    "collapsed": true
   },
   "outputs": [],
   "source": [
    "model_1.save('models/model_v0_20000_25.h5')"
   ]
  },
  {
   "cell_type": "code",
   "execution_count": 15,
   "metadata": {
    "collapsed": true
   },
   "outputs": [],
   "source": [
    "model_1.save_weights('models/model_v0_20000_25_weights.h5')"
   ]
  },
  {
   "cell_type": "markdown",
   "metadata": {},
   "source": [
    "#### Creating a list of predictions."
   ]
  },
  {
   "cell_type": "code",
   "execution_count": 16,
   "metadata": {
    "collapsed": false
   },
   "outputs": [],
   "source": [
    "predicted_images = []\n",
    "for i in model_1.predict(X_test):\n",
    "  predicted_images.append(np.where(np.max(i) == i)[0])"
   ]
  },
  {
   "cell_type": "markdown",
   "metadata": {},
   "source": [
    "#### Displaying a confusion matrix."
   ]
  },
  {
   "cell_type": "code",
   "execution_count": 17,
   "metadata": {
    "collapsed": false
   },
   "outputs": [
    {
     "data": {
      "image/png": "[encoded data removed]",
      "text/plain": [
       "<matplotlib.figure.Figure at 0x7f9e186f9f50>"
      ]
     },
     "metadata": {},
     "output_type": "display_data"
    }
   ],
   "source": [
    "dl_functions.show_confusion_matrix(confusion_matrix(y_test, predicted_images), ['Class 0', 'Class 1'])"
   ]
  },
  {
   "cell_type": "code",
   "execution_count": 18,
   "metadata": {
    "collapsed": false
   },
   "outputs": [
    {
     "data": {
      "text/html": [
       "<div>\n",
       "<table border=\"1\" class=\"dataframe\">\n",
       "  <thead>\n",
       "    <tr style=\"text-align: right;\">\n",
       "      <th></th>\n",
       "      <th>nok_image</th>\n",
       "      <th>ok_image</th>\n",
       "    </tr>\n",
       "  </thead>\n",
       "  <tbody>\n",
       "    <tr>\n",
       "      <th>0</th>\n",
       "      <td>2698</td>\n",
       "      <td>285</td>\n",
       "    </tr>\n",
       "    <tr>\n",
       "      <th>1</th>\n",
       "      <td>909</td>\n",
       "      <td>2108</td>\n",
       "    </tr>\n",
       "  </tbody>\n",
       "</table>\n",
       "</div>"
      ],
      "text/plain": [
       "   nok_image  ok_image\n",
       "0       2698       285\n",
       "1        909      2108"
      ]
     },
     "execution_count": 18,
     "metadata": {},
     "output_type": "execute_result"
    }
   ],
   "source": [
    "pd.DataFrame(confusion_matrix(y_test, predicted_images),columns = ['nok_image','ok_image'])"
   ]
  },
  {
   "cell_type": "code",
   "execution_count": 19,
   "metadata": {
    "collapsed": false
   },
   "outputs": [
    {
     "name": "stdout",
     "output_type": "stream",
     "text": [
      "AUC: 80.16%\n",
      "\n"
     ]
    }
   ],
   "source": [
    "print(\"AUC: {:.2%}\\n\".format(roc_auc_score(y_test, predicted_images)))"
   ]
  },
  {
   "cell_type": "code",
   "execution_count": 20,
   "metadata": {
    "collapsed": false
   },
   "outputs": [
    {
     "name": "stdout",
     "output_type": "stream",
     "text": [
      "5920/6000 [============================>.] - ETA: 0s"
     ]
    }
   ],
   "source": [
    "predictions_probability = model_1.predict_proba(X_test)"
   ]
  },
  {
   "cell_type": "markdown",
   "metadata": {},
   "source": [
    "#### Plotting a ROC curve."
   ]
  },
  {
   "cell_type": "code",
   "execution_count": 21,
   "metadata": {
    "collapsed": false
   },
   "outputs": [
    {
     "data": {
      "image/png": "[encoded data removed]",
      "text/plain": [
       "<matplotlib.figure.Figure at 0x7f9e144a1b90>"
      ]
     },
     "metadata": {},
     "output_type": "display_data"
    }
   ],
   "source": [
    "plt.figure(figsize=(7, 7))\n",
    "dl_functions.plot_roc(y_test, predictions_probability[:,1], \"CNN - \" + str(len(model_1.layers)) + \" layers | # images: \" + str(len(X)) + \" | image size: \" + str(IMG_SIZE), \"Tasty Food Images\")"
   ]
  },
  {
   "cell_type": "markdown",
   "metadata": {},
   "source": [
    "### Prediction using an image of Donald Trump.\n",
    "<img src='images/trump_1.jpg' />"
   ]
  },
  {
   "cell_type": "code",
   "execution_count": 22,
   "metadata": {
    "collapsed": false
   },
   "outputs": [],
   "source": [
    "trump = dl_functions.normalize_images_array('images', IMG_SIZE)"
   ]
  },
  {
   "cell_type": "code",
   "execution_count": 23,
   "metadata": {
    "collapsed": false
   },
   "outputs": [
    {
     "name": "stdout",
     "output_type": "stream",
     "text": [
      "1/1 [==============================] - 0s\n"
     ]
    }
   ],
   "source": [
    "trump_prediction = model_1.predict_classes(trump)"
   ]
  },
  {
   "cell_type": "code",
   "execution_count": 24,
   "metadata": {
    "collapsed": false
   },
   "outputs": [
    {
     "data": {
      "text/plain": [
       "0"
      ]
     },
     "execution_count": 24,
     "metadata": {},
     "output_type": "execute_result"
    }
   ],
   "source": [
    "trump_prediction[0]"
   ]
  },
  {
   "cell_type": "code",
   "execution_count": 25,
   "metadata": {
    "collapsed": false
   },
   "outputs": [
    {
     "data": {
      "text/plain": [
       "(1, 25, 25, 3)"
      ]
     },
     "execution_count": 25,
     "metadata": {},
     "output_type": "execute_result"
    }
   ],
   "source": [
    "trump.shape"
   ]
  },
  {
   "cell_type": "code",
   "execution_count": 26,
   "metadata": {
    "collapsed": true
   },
   "outputs": [],
   "source": [
    "trump = trump.reshape(trump.shape[1], trump.shape[2], trump.shape[3])"
   ]
  },
  {
   "cell_type": "markdown",
   "metadata": {},
   "source": [
    "#### The model predicts the image as bad."
   ]
  },
  {
   "cell_type": "code",
   "execution_count": 27,
   "metadata": {
    "collapsed": false
   },
   "outputs": [
    {
     "data": {
      "image/png": "[encoded data removed]",
      "text/plain": [
       "<PIL.Image.Image image mode=RGB size=25x25 at 0x7F9E0E5C1AD0>"
      ]
     },
     "metadata": {},
     "output_type": "display_data"
    }
   ],
   "source": [
    "img = array_to_img(trump)\n",
    "display(img)"
   ]
  },
  {
   "cell_type": "markdown",
   "metadata": {},
   "source": [
    "### Training another CNN model."
   ]
  },
  {
   "cell_type": "code",
   "execution_count": 28,
   "metadata": {
    "collapsed": true
   },
   "outputs": [],
   "source": [
    "X_train, X_test, y_train, y_test = train_test_split(X, y, test_size=0.3, random_state=42)"
   ]
  },
  {
   "cell_type": "code",
   "execution_count": 29,
   "metadata": {
    "collapsed": true
   },
   "outputs": [],
   "source": [
    "y_train_sparse = np_utils.to_categorical(y_train, 2)"
   ]
  },
  {
   "cell_type": "code",
   "execution_count": 30,
   "metadata": {
    "collapsed": true
   },
   "outputs": [],
   "source": [
    "y_test_sparse = np_utils.to_categorical(y_test, 2)"
   ]
  },
  {
   "cell_type": "code",
   "execution_count": 31,
   "metadata": {
    "collapsed": true
   },
   "outputs": [],
   "source": [
    "model_2 = dl_functions.cnn_model_v_1(IMG_SIZE)"
   ]
  },
  {
   "cell_type": "code",
   "execution_count": 32,
   "metadata": {
    "collapsed": true
   },
   "outputs": [],
   "source": [
    "model_2.compile(loss='binary_crossentropy', optimizer='rmsprop', metrics=['accuracy'])"
   ]
  },
  {
   "cell_type": "code",
   "execution_count": 33,
   "metadata": {
    "collapsed": false
   },
   "outputs": [
    {
     "name": "stdout",
     "output_type": "stream",
     "text": [
      "_________________________________________________________________\n",
      "Layer (type)                 Output Shape              Param #   \n",
      "=================================================================\n",
      "conv2d_5 (Conv2D)            (None, 23, 23, 32)        896       \n",
      "_________________________________________________________________\n",
      "max_pooling2d_4 (MaxPooling2 (None, 11, 11, 32)        0         \n",
      "_________________________________________________________________\n",
      "conv2d_6 (Conv2D)            (None, 9, 9, 32)          9248      \n",
      "_________________________________________________________________\n",
      "max_pooling2d_5 (MaxPooling2 (None, 4, 4, 32)          0         \n",
      "_________________________________________________________________\n",
      "conv2d_7 (Conv2D)            (None, 2, 2, 64)          18496     \n",
      "_________________________________________________________________\n",
      "max_pooling2d_6 (MaxPooling2 (None, 1, 1, 64)          0         \n",
      "_________________________________________________________________\n",
      "flatten_2 (Flatten)          (None, 64)                0         \n",
      "_________________________________________________________________\n",
      "dense_3 (Dense)              (None, 64)                4160      \n",
      "_________________________________________________________________\n",
      "dropout_5 (Dropout)          (None, 64)                0         \n",
      "_________________________________________________________________\n",
      "dense_4 (Dense)              (None, 2)                 130       \n",
      "=================================================================\n",
      "Total params: 32,930\n",
      "Trainable params: 32,930\n",
      "Non-trainable params: 0\n",
      "_________________________________________________________________\n"
     ]
    }
   ],
   "source": [
    "model_2.summary()"
   ]
  },
  {
   "cell_type": "code",
   "execution_count": 34,
   "metadata": {
    "collapsed": false
   },
   "outputs": [
    {
     "name": "stdout",
     "output_type": "stream",
     "text": [
      "Train on 9800 samples, validate on 4200 samples\n",
      "Epoch 1/50\n",
      "9800/9800 [==============================] - 5s - loss: 0.6383 - acc: 0.6382 - val_loss: 0.5725 - val_acc: 0.7314\n",
      "Epoch 2/50\n",
      "9800/9800 [==============================] - 5s - loss: 0.5705 - acc: 0.7121 - val_loss: 0.5552 - val_acc: 0.7264\n",
      "Epoch 3/50\n",
      "9800/9800 [==============================] - 5s - loss: 0.5294 - acc: 0.7403 - val_loss: 0.4955 - val_acc: 0.7688\n",
      "Epoch 4/50\n",
      "9800/9800 [==============================] - 5s - loss: 0.5168 - acc: 0.7478 - val_loss: 0.4857 - val_acc: 0.7738\n",
      "Epoch 5/50\n",
      "9800/9800 [==============================] - 5s - loss: 0.4995 - acc: 0.7648 - val_loss: 0.4631 - val_acc: 0.7826\n",
      "Epoch 6/50\n",
      "9800/9800 [==============================] - 5s - loss: 0.4885 - acc: 0.7711 - val_loss: 0.4722 - val_acc: 0.7817\n",
      "Epoch 7/50\n",
      "9800/9800 [==============================] - 5s - loss: 0.4739 - acc: 0.7810 - val_loss: 0.4655 - val_acc: 0.7795\n",
      "Epoch 8/50\n",
      "9800/9800 [==============================] - 5s - loss: 0.4674 - acc: 0.7841 - val_loss: 0.4410 - val_acc: 0.7976\n",
      "Epoch 9/50\n",
      "9800/9800 [==============================] - 5s - loss: 0.4492 - acc: 0.7959 - val_loss: 0.4433 - val_acc: 0.7917\n",
      "Epoch 10/50\n",
      "9800/9800 [==============================] - 5s - loss: 0.4340 - acc: 0.8042 - val_loss: 0.4327 - val_acc: 0.7983\n",
      "Epoch 11/50\n",
      "9800/9800 [==============================] - 5s - loss: 0.4277 - acc: 0.8023 - val_loss: 0.4354 - val_acc: 0.7983\n",
      "Epoch 12/50\n",
      "9800/9800 [==============================] - 5s - loss: 0.4178 - acc: 0.8194 - val_loss: 0.4562 - val_acc: 0.7826\n",
      "Epoch 13/50\n",
      "9800/9800 [==============================] - 5s - loss: 0.4117 - acc: 0.8191 - val_loss: 0.4139 - val_acc: 0.8086\n",
      "Epoch 14/50\n",
      "9800/9800 [==============================] - 5s - loss: 0.3978 - acc: 0.8244 - val_loss: 0.4380 - val_acc: 0.7945\n",
      "Epoch 15/50\n",
      "9800/9800 [==============================] - 5s - loss: 0.3856 - acc: 0.8326 - val_loss: 0.4097 - val_acc: 0.8117\n",
      "Epoch 16/50\n",
      "9800/9800 [==============================] - 5s - loss: 0.3838 - acc: 0.8371 - val_loss: 0.4227 - val_acc: 0.8079\n",
      "Epoch 17/50\n",
      "9800/9800 [==============================] - 5s - loss: 0.3707 - acc: 0.8418 - val_loss: 0.4105 - val_acc: 0.8102\n",
      "Epoch 18/50\n",
      "9800/9800 [==============================] - 5s - loss: 0.3563 - acc: 0.8522 - val_loss: 0.4221 - val_acc: 0.8102\n",
      "Epoch 19/50\n",
      "9800/9800 [==============================] - 5s - loss: 0.3474 - acc: 0.8535 - val_loss: 0.4078 - val_acc: 0.8117\n",
      "Epoch 20/50\n",
      "9800/9800 [==============================] - 5s - loss: 0.3353 - acc: 0.8586 - val_loss: 0.4103 - val_acc: 0.8138\n",
      "Epoch 21/50\n",
      "9800/9800 [==============================] - 4s - loss: 0.3259 - acc: 0.8627 - val_loss: 0.4591 - val_acc: 0.7990\n",
      "Epoch 22/50\n",
      "9800/9800 [==============================] - 5s - loss: 0.3198 - acc: 0.8636 - val_loss: 0.4399 - val_acc: 0.8007\n",
      "Epoch 23/50\n",
      "9800/9800 [==============================] - 5s - loss: 0.3033 - acc: 0.8761 - val_loss: 0.4933 - val_acc: 0.7779\n",
      "Epoch 24/50\n",
      "9800/9800 [==============================] - 4s - loss: 0.2876 - acc: 0.8870 - val_loss: 0.6222 - val_acc: 0.7424\n",
      "Epoch 25/50\n",
      "9800/9800 [==============================] - 5s - loss: 0.2846 - acc: 0.8823 - val_loss: 0.4476 - val_acc: 0.8014\n",
      "Epoch 26/50\n",
      "9800/9800 [==============================] - 5s - loss: 0.2702 - acc: 0.8918 - val_loss: 0.6554 - val_acc: 0.7421\n",
      "Epoch 27/50\n",
      "9800/9800 [==============================] - 5s - loss: 0.2643 - acc: 0.8963 - val_loss: 0.6146 - val_acc: 0.7469\n",
      "Epoch 28/50\n",
      "9800/9800 [==============================] - 4s - loss: 0.2527 - acc: 0.9006 - val_loss: 0.5091 - val_acc: 0.7967\n",
      "Epoch 29/50\n",
      "9800/9800 [==============================] - 5s - loss: 0.2440 - acc: 0.9023 - val_loss: 0.4680 - val_acc: 0.7948\n",
      "Epoch 30/50\n",
      "9800/9800 [==============================] - 5s - loss: 0.2276 - acc: 0.9116 - val_loss: 0.4732 - val_acc: 0.7993\n",
      "Epoch 31/50\n",
      "9800/9800 [==============================] - 5s - loss: 0.2166 - acc: 0.9144 - val_loss: 0.5135 - val_acc: 0.7917\n",
      "Epoch 32/50\n",
      "9800/9800 [==============================] - 5s - loss: 0.2121 - acc: 0.9162 - val_loss: 0.5246 - val_acc: 0.7964\n",
      "Epoch 33/50\n",
      "9800/9800 [==============================] - 5s - loss: 0.1987 - acc: 0.9249 - val_loss: 0.7882 - val_acc: 0.7490\n",
      "Epoch 34/50\n",
      "9800/9800 [==============================] - 5s - loss: 0.1853 - acc: 0.9301 - val_loss: 0.5835 - val_acc: 0.7914\n",
      "Epoch 35/50\n",
      "9800/9800 [==============================] - 5s - loss: 0.1881 - acc: 0.9281 - val_loss: 0.5580 - val_acc: 0.7926\n",
      "Epoch 36/50\n",
      "9800/9800 [==============================] - 5s - loss: 0.1736 - acc: 0.9351 - val_loss: 0.5553 - val_acc: 0.7983\n",
      "Epoch 37/50\n",
      "9800/9800 [==============================] - 5s - loss: 0.1579 - acc: 0.9391 - val_loss: 0.6026 - val_acc: 0.7955\n",
      "Epoch 38/50\n",
      "9800/9800 [==============================] - 5s - loss: 0.1541 - acc: 0.9427 - val_loss: 0.5905 - val_acc: 0.7871\n",
      "Epoch 39/50\n",
      "9800/9800 [==============================] - 5s - loss: 0.1597 - acc: 0.9422 - val_loss: 0.6263 - val_acc: 0.7962\n",
      "Epoch 40/50\n",
      "9800/9800 [==============================] - 5s - loss: 0.1294 - acc: 0.9533 - val_loss: 0.6370 - val_acc: 0.7860\n",
      "Epoch 41/50\n",
      "9800/9800 [==============================] - 5s - loss: 0.1232 - acc: 0.9551 - val_loss: 0.6800 - val_acc: 0.7821\n",
      "Epoch 42/50\n",
      "9800/9800 [==============================] - 5s - loss: 0.1267 - acc: 0.9522 - val_loss: 0.6960 - val_acc: 0.7893\n",
      "Epoch 43/50\n",
      "9800/9800 [==============================] - 5s - loss: 0.1205 - acc: 0.9589 - val_loss: 0.7328 - val_acc: 0.7893\n",
      "Epoch 44/50\n",
      "9800/9800 [==============================] - 5s - loss: 0.1127 - acc: 0.9617 - val_loss: 0.7689 - val_acc: 0.7829\n",
      "Epoch 45/50\n",
      "9800/9800 [==============================] - 5s - loss: 0.1014 - acc: 0.9645 - val_loss: 0.8523 - val_acc: 0.7810\n",
      "Epoch 46/50\n",
      "9800/9800 [==============================] - 5s - loss: 0.1023 - acc: 0.9617 - val_loss: 0.8181 - val_acc: 0.7886\n",
      "Epoch 47/50\n",
      "9800/9800 [==============================] - 5s - loss: 0.1030 - acc: 0.9666 - val_loss: 0.9794 - val_acc: 0.7631\n",
      "Epoch 48/50\n",
      "9800/9800 [==============================] - 5s - loss: 0.1024 - acc: 0.9664 - val_loss: 0.8709 - val_acc: 0.7864\n",
      "Epoch 49/50\n",
      "9800/9800 [==============================] - 5s - loss: 0.1073 - acc: 0.9658 - val_loss: 0.7732 - val_acc: 0.7871\n",
      "Epoch 50/50\n",
      "9800/9800 [==============================] - 5s - loss: 0.0771 - acc: 0.9746 - val_loss: 0.9770 - val_acc: 0.7481\n"
     ]
    },
    {
     "data": {
      "text/plain": [
       "<keras.callbacks.History at 0x7f9e0e433b50>"
      ]
     },
     "execution_count": 34,
     "metadata": {},
     "output_type": "execute_result"
    }
   ],
   "source": [
    "model_2.fit(X_train, y_train_sparse, batch_size=128, epochs=50, verbose=1, validation_split=0.3)"
   ]
  },
  {
   "cell_type": "code",
   "execution_count": 35,
   "metadata": {
    "collapsed": false
   },
   "outputs": [
    {
     "name": "stdout",
     "output_type": "stream",
     "text": [
      "5888/6000 [============================>.] - ETA: 0s"
     ]
    }
   ],
   "source": [
    "score = model_2.evaluate(X_test, y_test_sparse, verbose=1)"
   ]
  },
  {
   "cell_type": "code",
   "execution_count": 36,
   "metadata": {
    "collapsed": false
   },
   "outputs": [
    {
     "name": "stdout",
     "output_type": "stream",
     "text": [
      "Test loss: 0.9984\n",
      "Test accuracy: 74.77%\n"
     ]
    }
   ],
   "source": [
    "print('Test loss: {:0,.4f}'.format(score[0]))\n",
    "print('Test accuracy: {:.2%}'.format(score[1]))"
   ]
  },
  {
   "cell_type": "code",
   "execution_count": 37,
   "metadata": {
    "collapsed": true
   },
   "outputs": [],
   "source": [
    "model_2.save('models/model_v1_20000_25.h5')"
   ]
  },
  {
   "cell_type": "code",
   "execution_count": 38,
   "metadata": {
    "collapsed": true
   },
   "outputs": [],
   "source": [
    "model_2.save_weights('models/model_v1_20000_25_weights.h5')"
   ]
  },
  {
   "cell_type": "code",
   "execution_count": 39,
   "metadata": {
    "collapsed": true
   },
   "outputs": [],
   "source": [
    "predicted_images = []\n",
    "for i in model_2.predict(X_test):\n",
    "  predicted_images.append(np.where(np.max(i) == i)[0])"
   ]
  },
  {
   "cell_type": "code",
   "execution_count": 40,
   "metadata": {
    "collapsed": false
   },
   "outputs": [
    {
     "data": {
      "image/png": "[encoded data removed]",
      "text/plain": [
       "<matplotlib.figure.Figure at 0x7f9e0e11e790>"
      ]
     },
     "metadata": {},
     "output_type": "display_data"
    }
   ],
   "source": [
    "dl_functions.show_confusion_matrix(confusion_matrix(y_test, predicted_images), ['Class 0', 'Class 1'])"
   ]
  },
  {
   "cell_type": "code",
   "execution_count": 41,
   "metadata": {
    "collapsed": false
   },
   "outputs": [
    {
     "data": {
      "text/html": [
       "<div>\n",
       "<table border=\"1\" class=\"dataframe\">\n",
       "  <thead>\n",
       "    <tr style=\"text-align: right;\">\n",
       "      <th></th>\n",
       "      <th>nok_image</th>\n",
       "      <th>ok_image</th>\n",
       "    </tr>\n",
       "  </thead>\n",
       "  <tbody>\n",
       "    <tr>\n",
       "      <th>0</th>\n",
       "      <td>1779</td>\n",
       "      <td>1204</td>\n",
       "    </tr>\n",
       "    <tr>\n",
       "      <th>1</th>\n",
       "      <td>310</td>\n",
       "      <td>2707</td>\n",
       "    </tr>\n",
       "  </tbody>\n",
       "</table>\n",
       "</div>"
      ],
      "text/plain": [
       "   nok_image  ok_image\n",
       "0       1779      1204\n",
       "1        310      2707"
      ]
     },
     "execution_count": 41,
     "metadata": {},
     "output_type": "execute_result"
    }
   ],
   "source": [
    "pd.DataFrame(confusion_matrix(y_test, predicted_images),columns = ['nok_image','ok_image'])"
   ]
  },
  {
   "cell_type": "code",
   "execution_count": 42,
   "metadata": {
    "collapsed": false
   },
   "outputs": [
    {
     "name": "stdout",
     "output_type": "stream",
     "text": [
      "AUC: 74.68%\n",
      "\n"
     ]
    }
   ],
   "source": [
    "print(\"AUC: {:.2%}\\n\".format(roc_auc_score(y_test, predicted_images)))"
   ]
  },
  {
   "cell_type": "code",
   "execution_count": 43,
   "metadata": {
    "collapsed": false
   },
   "outputs": [
    {
     "name": "stdout",
     "output_type": "stream",
     "text": [
      "5792/6000 [===========================>..] - ETA: 0s"
     ]
    }
   ],
   "source": [
    "predictions_probability = model_2.predict_proba(X_test)"
   ]
  },
  {
   "cell_type": "code",
   "execution_count": 44,
   "metadata": {
    "collapsed": false
   },
   "outputs": [
    {
     "data": {
      "image/png": "[encoded data removed]",
      "text/plain": [
       "<matplotlib.figure.Figure at 0x7f9e14116810>"
      ]
     },
     "metadata": {},
     "output_type": "display_data"
    }
   ],
   "source": [
    "plt.figure(figsize=(7, 7))\n",
    "dl_functions.plot_roc(y_test, predictions_probability[:,1], \"CNN - \" + str(len(model_2.layers)) + \" layers | # images: \" + str(len(X)) + \" | image size: \" + str(IMG_SIZE), \"Tasty Food Images\")"
   ]
  },
  {
   "cell_type": "markdown",
   "metadata": {},
   "source": [
    "### Prediction using an image of Donald Trump.\n",
    "<img src='images/trump_1.jpg' />"
   ]
  },
  {
   "cell_type": "code",
   "execution_count": 45,
   "metadata": {
    "collapsed": true
   },
   "outputs": [],
   "source": [
    "trump = dl_functions.normalize_images_array('images', IMG_SIZE)"
   ]
  },
  {
   "cell_type": "code",
   "execution_count": 46,
   "metadata": {
    "collapsed": false
   },
   "outputs": [
    {
     "name": "stdout",
     "output_type": "stream",
     "text": [
      "1/1 [==============================] - 0s\n"
     ]
    }
   ],
   "source": [
    "trump_prediction = model_2.predict_classes(trump)"
   ]
  },
  {
   "cell_type": "code",
   "execution_count": 47,
   "metadata": {
    "collapsed": false
   },
   "outputs": [
    {
     "data": {
      "text/plain": [
       "0"
      ]
     },
     "execution_count": 47,
     "metadata": {},
     "output_type": "execute_result"
    }
   ],
   "source": [
    "trump_prediction[0]"
   ]
  },
  {
   "cell_type": "code",
   "execution_count": 48,
   "metadata": {
    "collapsed": false
   },
   "outputs": [
    {
     "data": {
      "text/plain": [
       "(1, 25, 25, 3)"
      ]
     },
     "execution_count": 48,
     "metadata": {},
     "output_type": "execute_result"
    }
   ],
   "source": [
    "trump.shape"
   ]
  },
  {
   "cell_type": "code",
   "execution_count": 49,
   "metadata": {
    "collapsed": true
   },
   "outputs": [],
   "source": [
    "trump = trump.reshape(trump.shape[1], trump.shape[2], trump.shape[3])"
   ]
  },
  {
   "cell_type": "markdown",
   "metadata": {},
   "source": [
    "#### The model predicts the image as NOK."
   ]
  },
  {
   "cell_type": "code",
   "execution_count": 50,
   "metadata": {
    "collapsed": false
   },
   "outputs": [
    {
     "data": {
      "image/png": "[encoded data removed]",
      "text/plain": [
       "<PIL.Image.Image image mode=RGB size=25x25 at 0x7F9E141A5250>"
      ]
     },
     "metadata": {},
     "output_type": "display_data"
    }
   ],
   "source": [
    "img = array_to_img(trump)\n",
    "display(img)"
   ]
  },
  {
   "cell_type": "code",
   "execution_count": 51,
   "metadata": {
    "collapsed": false
   },
   "outputs": [
    {
     "name": "stdout",
     "output_type": "stream",
     "text": [
      "Copying file://models/model_v1_20000_25_weights.h5 [Content-Type=application/octet-stream]...\n",
      "Copying file://models/model_v2_20000_50.h5 [Content-Type=application/octet-stream]...\n",
      "Copying file://models/model_v1_20000_50_weights.h5 [Content-Type=application/octet-stream]...\n",
      "Copying file://models/model_v1_20000_100_weights.h5 [Content-Type=application/octet-stream]...\n",
      "\\ [4 files][ 16.5 MiB/ 16.5 MiB]                                                \n",
      "==> NOTE: You are performing a sequence of gsutil operations that may\n",
      "run significantly faster if you instead use gsutil -m -o ... Please\n",
      "see the -m section under \"gsutil help options\" for further information\n",
      "about when gsutil -m can be advantageous.\n",
      "\n",
      "Copying file://models/model_v0_20000_100_weights.h5 [Content-Type=application/octet-stream]...\n",
      "Copying file://models/model_v1_20000_25.h5 [Content-Type=application/octet-stream]...\n",
      "Copying file://models/model_v0_20000_25_weights.h5 [Content-Type=application/octet-stream]...\n",
      "Copying file://models/model_v1_20000_50.h5 [Content-Type=application/octet-stream]...\n",
      "Copying file://models/model_v0_20000_25.h5 [Content-Type=application/octet-stream]...\n",
      "Copying file://models/model_v0_20000_50_weights.h5 [Content-Type=application/octet-stream]...\n",
      "Copying file://models/model_v1_20000_100.h5 [Content-Type=application/octet-stream]...\n",
      "Copying file://models/model_v0_20000_50.h5 [Content-Type=application/octet-stream]...\n",
      "Copying file://models/model_v0_20000_100.h5 [Content-Type=application/octet-stream]...\n",
      "Copying file://models/model_v2_20000_50_weights.h5 [Content-Type=application/octet-stream]...\n",
      "\\ [14 files][119.6 MiB/119.6 MiB]                                               \n",
      "Operation completed over 14 objects/119.6 MiB.                                   \n"
     ]
    }
   ],
   "source": [
    "!gsutil cp -r 'models' 'gs://wellio-kadaif-tasty-images-project-pre-processed-images'"
   ]
  },
  {
   "cell_type": "code",
   "execution_count": null,
   "metadata": {
    "collapsed": true
   },
   "outputs": [],
   "source": []
  }
 ],
 "metadata": {
  "anaconda-cloud": {},
  "kernelspec": {
   "display_name": "Python 2",
   "language": "python",
   "name": "python2"
  },
  "language_info": {
   "codemirror_mode": {
    "name": "ipython",
    "version": 2
   },
   "file_extension": ".py",
   "mimetype": "text/x-python",
   "name": "python",
   "nbconvert_exporter": "python",
   "pygments_lexer": "ipython2",
   "version": "2.7.9"
  }
 },
 "nbformat": 4,
 "nbformat_minor": 2
}
