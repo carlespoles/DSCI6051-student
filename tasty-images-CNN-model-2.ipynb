{
 "cells": [
  {
   "cell_type": "code",
   "execution_count": 44,
   "metadata": {
    "collapsed": true
   },
   "outputs": [],
   "source": [
    "reset -fs"
   ]
  },
  {
   "cell_type": "code",
   "execution_count": 45,
   "metadata": {
    "collapsed": false
   },
   "outputs": [],
   "source": [
    "import numpy as np\n",
    "import pandas as pd\n",
    "import os\n",
    "import glob\n",
    "import pickle\n",
    "import gzip\n",
    "import dl_functions\n",
    "from IPython.display import display\n",
    "from keras.preprocessing.image import ImageDataGenerator\n",
    "from keras.models import Sequential, model_from_json\n",
    "from keras.layers import Dense, Dropout, Activation, Flatten\n",
    "from keras.layers import Convolution2D, MaxPooling2D\n",
    "from keras.optimizers import SGD\n",
    "from keras.utils import np_utils\n",
    "from keras.preprocessing.image import array_to_img, img_to_array, load_img\n",
    "from keras.callbacks import LearningRateScheduler, ModelCheckpoint\n",
    "from skimage import io, color, exposure, transform\n",
    "from sklearn.metrics import confusion_matrix, roc_curve\n",
    "from sklearn.cross_validation import train_test_split\n",
    "from matplotlib import pyplot as plt\n",
    "%matplotlib inline"
   ]
  },
  {
   "cell_type": "markdown",
   "metadata": {},
   "source": [
    "#### Loading data from a compressed pickle file that has 20,000 images pre-processed with a size of 25 by 25."
   ]
  },
  {
   "cell_type": "code",
   "execution_count": 46,
   "metadata": {
    "collapsed": true
   },
   "outputs": [],
   "source": [
    "with gzip.open('pre_processed_images/image_data_20000_25.txt.gz', 'rb') as f:\n",
    "  X, y = pickle.load(f)"
   ]
  },
  {
   "cell_type": "markdown",
   "metadata": {},
   "source": [
    "#### Since we are not using a GPU, we will get a random sample from the OK and NOK images. We know the OK images are the first 10,000, the NOK ones the last 10,000."
   ]
  },
  {
   "cell_type": "markdown",
   "metadata": {},
   "source": [
    "#### We get all OK images."
   ]
  },
  {
   "cell_type": "code",
   "execution_count": 47,
   "metadata": {
    "collapsed": true
   },
   "outputs": [],
   "source": [
    "X_ok = X[:10000]"
   ]
  },
  {
   "cell_type": "markdown",
   "metadata": {},
   "source": [
    "#### We get all NOK images."
   ]
  },
  {
   "cell_type": "code",
   "execution_count": 48,
   "metadata": {
    "collapsed": true
   },
   "outputs": [],
   "source": [
    "X_nok = X[10000:]"
   ]
  },
  {
   "cell_type": "code",
   "execution_count": 75,
   "metadata": {
    "collapsed": true
   },
   "outputs": [],
   "source": [
    "ARRAY_SAMPLE = 1000"
   ]
  },
  {
   "cell_type": "markdown",
   "metadata": {},
   "source": [
    "#### We get a random sample of the OK images."
   ]
  },
  {
   "cell_type": "code",
   "execution_count": 76,
   "metadata": {
    "collapsed": true
   },
   "outputs": [],
   "source": [
    "X_ok_sample = X_ok[np.random.randint(0, X_ok.shape[0], ARRAY_SAMPLE)]"
   ]
  },
  {
   "cell_type": "markdown",
   "metadata": {},
   "source": [
    "#### We get a random sample of the NOK images."
   ]
  },
  {
   "cell_type": "code",
   "execution_count": 77,
   "metadata": {
    "collapsed": true
   },
   "outputs": [],
   "source": [
    "X_nok_sample = X_nok[np.random.randint(0, X_nok.shape[0], ARRAY_SAMPLE)]"
   ]
  },
  {
   "cell_type": "markdown",
   "metadata": {},
   "source": [
    "#### Creating final array of images ready to fit a model.\n",
    "\n",
    "Note that we stack first the 'good' images, then the 'bad' ones."
   ]
  },
  {
   "cell_type": "code",
   "execution_count": 78,
   "metadata": {
    "collapsed": false
   },
   "outputs": [],
   "source": [
    "X_sample = np.vstack((X_ok_sample, X_nok_sample))"
   ]
  },
  {
   "cell_type": "markdown",
   "metadata": {},
   "source": [
    "#### Creating an array of labels.\n",
    "Label 1 indicates good image, and 0 bad image. Note that half of the images are good, half are bad, so labels are calculated accordingly."
   ]
  },
  {
   "cell_type": "code",
   "execution_count": 79,
   "metadata": {
    "collapsed": false
   },
   "outputs": [],
   "source": [
    "y_sample = np.vstack((np.array([1]*(len(X_sample)/2)).reshape((len(X_sample)/2), 1), np.array([0]*(len(X_sample)/2)).reshape((len(X_sample)/2), 1)))"
   ]
  },
  {
   "cell_type": "markdown",
   "metadata": {},
   "source": [
    "#### Creating a train, test split."
   ]
  },
  {
   "cell_type": "code",
   "execution_count": 80,
   "metadata": {
    "collapsed": true
   },
   "outputs": [],
   "source": [
    "X_train, X_test, y_train, y_test = train_test_split(X_sample, y_sample, test_size=0.3, random_state=42)"
   ]
  },
  {
   "cell_type": "markdown",
   "metadata": {},
   "source": [
    "#### The labels need to be converted to categorical. Note that we have 2 categories: good (1) and bad (0) images."
   ]
  },
  {
   "cell_type": "code",
   "execution_count": 81,
   "metadata": {
    "collapsed": true
   },
   "outputs": [],
   "source": [
    "y_train_sparse = np_utils.to_categorical(y_train, 2)"
   ]
  },
  {
   "cell_type": "code",
   "execution_count": 82,
   "metadata": {
    "collapsed": true
   },
   "outputs": [],
   "source": [
    "y_test_sparse = np_utils.to_categorical(y_test, 2)"
   ]
  },
  {
   "cell_type": "markdown",
   "metadata": {},
   "source": [
    "#### Creating an instance of a CNN model."
   ]
  },
  {
   "cell_type": "markdown",
   "metadata": {},
   "source": [
    "##### The image size is 25."
   ]
  },
  {
   "cell_type": "code",
   "execution_count": 83,
   "metadata": {
    "collapsed": true
   },
   "outputs": [],
   "source": [
    "IMG_SIZE = 25"
   ]
  },
  {
   "cell_type": "code",
   "execution_count": 84,
   "metadata": {
    "collapsed": false
   },
   "outputs": [],
   "source": [
    "model_1 = dl_functions.cnn_model_v_0(IMG_SIZE)"
   ]
  },
  {
   "cell_type": "code",
   "execution_count": 85,
   "metadata": {
    "collapsed": true
   },
   "outputs": [],
   "source": [
    "model_1.compile(loss='categorical_crossentropy', optimizer='rmsprop', metrics=['accuracy'])"
   ]
  },
  {
   "cell_type": "code",
   "execution_count": 86,
   "metadata": {
    "collapsed": false
   },
   "outputs": [
    {
     "name": "stdout",
     "output_type": "stream",
     "text": [
      "_________________________________________________________________\n",
      "Layer (type)                 Output Shape              Param #   \n",
      "=================================================================\n",
      "conv2d_9 (Conv2D)            (None, 25, 25, 32)        896       \n",
      "_________________________________________________________________\n",
      "conv2d_10 (Conv2D)           (None, 23, 23, 32)        9248      \n",
      "_________________________________________________________________\n",
      "max_pooling2d_7 (MaxPooling2 (None, 11, 11, 32)        0         \n",
      "_________________________________________________________________\n",
      "dropout_9 (Dropout)          (None, 11, 11, 32)        0         \n",
      "_________________________________________________________________\n",
      "conv2d_11 (Conv2D)           (None, 11, 11, 64)        18496     \n",
      "_________________________________________________________________\n",
      "max_pooling2d_8 (MaxPooling2 (None, 5, 5, 64)          0         \n",
      "_________________________________________________________________\n",
      "dropout_10 (Dropout)         (None, 5, 5, 64)          0         \n",
      "_________________________________________________________________\n",
      "conv2d_12 (Conv2D)           (None, 5, 5, 128)         73856     \n",
      "_________________________________________________________________\n",
      "max_pooling2d_9 (MaxPooling2 (None, 2, 2, 128)         0         \n",
      "_________________________________________________________________\n",
      "dropout_11 (Dropout)         (None, 2, 2, 128)         0         \n",
      "_________________________________________________________________\n",
      "flatten_3 (Flatten)          (None, 512)               0         \n",
      "_________________________________________________________________\n",
      "dense_5 (Dense)              (None, 512)               262656    \n",
      "_________________________________________________________________\n",
      "dropout_12 (Dropout)         (None, 512)               0         \n",
      "_________________________________________________________________\n",
      "dense_6 (Dense)              (None, 2)                 1026      \n",
      "=================================================================\n",
      "Total params: 366,178.0\n",
      "Trainable params: 366,178.0\n",
      "Non-trainable params: 0.0\n",
      "_________________________________________________________________\n"
     ]
    }
   ],
   "source": [
    "model_1.summary()"
   ]
  },
  {
   "cell_type": "code",
   "execution_count": 87,
   "metadata": {
    "collapsed": false
   },
   "outputs": [
    {
     "name": "stdout",
     "output_type": "stream",
     "text": [
      "Train on 979 samples, validate on 421 samples\n",
      "Epoch 1/40\n",
      "979/979 [==============================] - 13s - loss: 0.7039 - acc: 0.5455 - val_loss: 0.6847 - val_acc: 0.4964\n",
      "Epoch 2/40\n",
      "979/979 [==============================] - 12s - loss: 0.6890 - acc: 0.5822 - val_loss: 0.7196 - val_acc: 0.4679\n",
      "Epoch 3/40\n",
      "979/979 [==============================] - 12s - loss: 0.6483 - acc: 0.6108 - val_loss: 0.6360 - val_acc: 0.6485\n",
      "Epoch 4/40\n",
      "979/979 [==============================] - 12s - loss: 0.6391 - acc: 0.6231 - val_loss: 0.6110 - val_acc: 0.6722\n",
      "Epoch 5/40\n",
      "979/979 [==============================] - 12s - loss: 0.5965 - acc: 0.6558 - val_loss: 0.6079 - val_acc: 0.6508\n",
      "Epoch 6/40\n",
      "979/979 [==============================] - 12s - loss: 0.7175 - acc: 0.6292 - val_loss: 0.5999 - val_acc: 0.6888\n",
      "Epoch 7/40\n",
      "979/979 [==============================] - 12s - loss: 0.5801 - acc: 0.6803 - val_loss: 0.5758 - val_acc: 0.6960\n",
      "Epoch 8/40\n",
      "979/979 [==============================] - 12s - loss: 0.5870 - acc: 0.6793 - val_loss: 0.5770 - val_acc: 0.7268\n",
      "Epoch 9/40\n",
      "979/979 [==============================] - 11s - loss: 0.5744 - acc: 0.6977 - val_loss: 0.5664 - val_acc: 0.7530\n",
      "Epoch 10/40\n",
      "979/979 [==============================] - 13s - loss: 0.6052 - acc: 0.6762 - val_loss: 0.5590 - val_acc: 0.7316\n",
      "Epoch 11/40\n",
      "979/979 [==============================] - 12s - loss: 0.5594 - acc: 0.7068 - val_loss: 0.5978 - val_acc: 0.6532\n",
      "Epoch 12/40\n",
      "979/979 [==============================] - 12s - loss: 0.5618 - acc: 0.7211 - val_loss: 0.6057 - val_acc: 0.6603\n",
      "Epoch 13/40\n",
      "979/979 [==============================] - 11s - loss: 0.5545 - acc: 0.7017 - val_loss: 0.5239 - val_acc: 0.7435\n",
      "Epoch 14/40\n",
      "979/979 [==============================] - 11s - loss: 0.5450 - acc: 0.7303 - val_loss: 0.5336 - val_acc: 0.7553\n",
      "Epoch 15/40\n",
      "979/979 [==============================] - 11s - loss: 0.5153 - acc: 0.7252 - val_loss: 0.5877 - val_acc: 0.7197\n",
      "Epoch 16/40\n",
      "979/979 [==============================] - 6s - loss: 0.5775 - acc: 0.7028 - val_loss: 0.5482 - val_acc: 0.7482\n",
      "Epoch 17/40\n",
      "979/979 [==============================] - 6s - loss: 0.4973 - acc: 0.7508 - val_loss: 0.4940 - val_acc: 0.7506\n",
      "Epoch 18/40\n",
      "979/979 [==============================] - 6s - loss: 0.5615 - acc: 0.7150 - val_loss: 0.5379 - val_acc: 0.7553\n",
      "Epoch 19/40\n",
      "979/979 [==============================] - 6s - loss: 0.5121 - acc: 0.7610 - val_loss: 0.5215 - val_acc: 0.7577\n",
      "Epoch 20/40\n",
      "979/979 [==============================] - 6s - loss: 0.5089 - acc: 0.7467 - val_loss: 0.5719 - val_acc: 0.7126\n",
      "Epoch 21/40\n",
      "979/979 [==============================] - 6s - loss: 0.4920 - acc: 0.7579 - val_loss: 0.4934 - val_acc: 0.7696\n",
      "Epoch 22/40\n",
      "979/979 [==============================] - 6s - loss: 0.4794 - acc: 0.7722 - val_loss: 0.5337 - val_acc: 0.7126\n",
      "Epoch 23/40\n",
      "979/979 [==============================] - 6s - loss: 0.4912 - acc: 0.7640 - val_loss: 0.4793 - val_acc: 0.7720\n",
      "Epoch 24/40\n",
      "979/979 [==============================] - 6s - loss: 0.4865 - acc: 0.7722 - val_loss: 0.5406 - val_acc: 0.7340\n",
      "Epoch 25/40\n",
      "979/979 [==============================] - 6s - loss: 0.5096 - acc: 0.7426 - val_loss: 0.4988 - val_acc: 0.7530\n",
      "Epoch 26/40\n",
      "979/979 [==============================] - 7s - loss: 0.4468 - acc: 0.7998 - val_loss: 0.6304 - val_acc: 0.6627\n",
      "Epoch 27/40\n",
      "979/979 [==============================] - 11s - loss: 0.5016 - acc: 0.7426 - val_loss: 0.4615 - val_acc: 0.7815\n",
      "Epoch 28/40\n",
      "979/979 [==============================] - 12s - loss: 0.4602 - acc: 0.7814 - val_loss: 0.4650 - val_acc: 0.7648\n",
      "Epoch 29/40\n",
      "979/979 [==============================] - 8s - loss: 0.4076 - acc: 0.8274 - val_loss: 0.5596 - val_acc: 0.7292\n",
      "Epoch 30/40\n",
      "979/979 [==============================] - 6s - loss: 0.4419 - acc: 0.7937 - val_loss: 0.5243 - val_acc: 0.7387\n",
      "Epoch 31/40\n",
      "979/979 [==============================] - 6s - loss: 0.4280 - acc: 0.8018 - val_loss: 0.4707 - val_acc: 0.7743\n",
      "Epoch 32/40\n",
      "979/979 [==============================] - 6s - loss: 0.4392 - acc: 0.7967 - val_loss: 0.4568 - val_acc: 0.7886\n",
      "Epoch 33/40\n",
      "979/979 [==============================] - 6s - loss: 0.3791 - acc: 0.8407 - val_loss: 0.6609 - val_acc: 0.6556\n",
      "Epoch 34/40\n",
      "979/979 [==============================] - 6s - loss: 0.4324 - acc: 0.8090 - val_loss: 0.4349 - val_acc: 0.7910\n",
      "Epoch 35/40\n",
      "979/979 [==============================] - 6s - loss: 0.3909 - acc: 0.8161 - val_loss: 0.4473 - val_acc: 0.7862\n",
      "Epoch 36/40\n",
      "979/979 [==============================] - 6s - loss: 0.3733 - acc: 0.8396 - val_loss: 0.5166 - val_acc: 0.7363\n",
      "Epoch 37/40\n",
      "979/979 [==============================] - 6s - loss: 0.3411 - acc: 0.8580 - val_loss: 0.4455 - val_acc: 0.7957\n",
      "Epoch 38/40\n",
      "979/979 [==============================] - 6s - loss: 0.3476 - acc: 0.8488 - val_loss: 0.4449 - val_acc: 0.8005\n",
      "Epoch 39/40\n",
      "979/979 [==============================] - 6s - loss: 0.3734 - acc: 0.8315 - val_loss: 0.4491 - val_acc: 0.8005\n",
      "Epoch 40/40\n",
      "979/979 [==============================] - 6s - loss: 0.3384 - acc: 0.8498 - val_loss: 0.4925 - val_acc: 0.7340\n"
     ]
    },
    {
     "data": {
      "text/plain": [
       "<keras.callbacks.History at 0x7f6c9f26ce10>"
      ]
     },
     "execution_count": 87,
     "metadata": {},
     "output_type": "execute_result"
    }
   ],
   "source": [
    "model_1.fit(X_train, y_train_sparse, batch_size=128, epochs=40, verbose=1, validation_split=0.3)"
   ]
  },
  {
   "cell_type": "code",
   "execution_count": 88,
   "metadata": {
    "collapsed": false
   },
   "outputs": [
    {
     "name": "stdout",
     "output_type": "stream",
     "text": [
      "576/600 [===========================>..] - ETA: 0s"
     ]
    }
   ],
   "source": [
    "score = model_1.evaluate(X_test, y_test_sparse, verbose=1)"
   ]
  },
  {
   "cell_type": "code",
   "execution_count": 89,
   "metadata": {
    "collapsed": false
   },
   "outputs": [
    {
     "name": "stdout",
     "output_type": "stream",
     "text": [
      "Test loss: 0.5309\n",
      "Test accuracy: 75.33%\n"
     ]
    }
   ],
   "source": [
    "print('Test loss: {:0,.4f}'.format(score[0]))\n",
    "print('Test accuracy: {:.2%}'.format(score[1]))"
   ]
  },
  {
   "cell_type": "markdown",
   "metadata": {},
   "source": [
    "#### Creating a list of predictions."
   ]
  },
  {
   "cell_type": "code",
   "execution_count": 90,
   "metadata": {
    "collapsed": false
   },
   "outputs": [],
   "source": [
    "predicted_images = []\n",
    "for i in model_1.predict(X_test):\n",
    "  predicted_images.append(np.where(np.max(i) == i)[0])"
   ]
  },
  {
   "cell_type": "markdown",
   "metadata": {},
   "source": [
    "#### Displaying a confusion matrix."
   ]
  },
  {
   "cell_type": "code",
   "execution_count": 91,
   "metadata": {
    "collapsed": false
   },
   "outputs": [
    {
     "data": {
      "image/png": "[encoded data removed]",
      "text/plain": [
       "<matplotlib.figure.Figure at 0x7f6c9f018d10>"
      ]
     },
     "metadata": {},
     "output_type": "display_data"
    }
   ],
   "source": [
    "dl_functions.show_confusion_matrix(confusion_matrix(y_test, predicted_images), ['Class 0', 'Class 1'])"
   ]
  },
  {
   "cell_type": "code",
   "execution_count": 92,
   "metadata": {
    "collapsed": false
   },
   "outputs": [
    {
     "data": {
      "text/html": [
       "<div>\n",
       "<table border=\"1\" class=\"dataframe\">\n",
       "  <thead>\n",
       "    <tr style=\"text-align: right;\">\n",
       "      <th></th>\n",
       "      <th>nok_image</th>\n",
       "      <th>ok_image</th>\n",
       "    </tr>\n",
       "  </thead>\n",
       "  <tbody>\n",
       "    <tr>\n",
       "      <th>0</th>\n",
       "      <td>249</td>\n",
       "      <td>49</td>\n",
       "    </tr>\n",
       "    <tr>\n",
       "      <th>1</th>\n",
       "      <td>99</td>\n",
       "      <td>203</td>\n",
       "    </tr>\n",
       "  </tbody>\n",
       "</table>\n",
       "</div>"
      ],
      "text/plain": [
       "   nok_image  ok_image\n",
       "0        249        49\n",
       "1         99       203"
      ]
     },
     "execution_count": 92,
     "metadata": {},
     "output_type": "execute_result"
    }
   ],
   "source": [
    "pd.DataFrame(confusion_matrix(y_test, predicted_images),columns = ['nok_image','ok_image'])"
   ]
  },
  {
   "cell_type": "code",
   "execution_count": 93,
   "metadata": {
    "collapsed": false
   },
   "outputs": [
    {
     "name": "stdout",
     "output_type": "stream",
     "text": [
      "576/600 [===========================>..] - ETA: 0s"
     ]
    }
   ],
   "source": [
    "predictions_probability = model_1.predict_proba(X_test)"
   ]
  },
  {
   "cell_type": "markdown",
   "metadata": {},
   "source": [
    "#### Plotting a ROC curve."
   ]
  },
  {
   "cell_type": "code",
   "execution_count": 94,
   "metadata": {
    "collapsed": false
   },
   "outputs": [
    {
     "data": {
      "image/png": "[encoded data removed]",
      "text/plain": [
       "<matplotlib.figure.Figure at 0x7f6c9f1b5c10>"
      ]
     },
     "metadata": {},
     "output_type": "display_data"
    }
   ],
   "source": [
    "dl_functions.plot_roc(y_test, predictions_probability[:,1], \"CNN - \" + str(len(model_1.layers)) + \" layers | # images: \" + str(len(X_sample)), \"Tasty Food Images\")"
   ]
  },
  {
   "cell_type": "markdown",
   "metadata": {},
   "source": [
    "### Prediction using an image of Donald Trump.\n",
    "<img src='images/trump_1.jpg' />"
   ]
  },
  {
   "cell_type": "code",
   "execution_count": 95,
   "metadata": {
    "collapsed": false
   },
   "outputs": [],
   "source": [
    "trump = dl_functions.normalize_images_array('images', IMG_SIZE)"
   ]
  },
  {
   "cell_type": "code",
   "execution_count": 96,
   "metadata": {
    "collapsed": false
   },
   "outputs": [
    {
     "name": "stdout",
     "output_type": "stream",
     "text": [
      "1/1 [==============================] - 0s\n"
     ]
    }
   ],
   "source": [
    "trump_prediction = model_1.predict_classes(trump)"
   ]
  },
  {
   "cell_type": "code",
   "execution_count": 97,
   "metadata": {
    "collapsed": false
   },
   "outputs": [
    {
     "data": {
      "text/plain": [
       "0"
      ]
     },
     "execution_count": 97,
     "metadata": {},
     "output_type": "execute_result"
    }
   ],
   "source": [
    "trump_prediction[0]"
   ]
  },
  {
   "cell_type": "code",
   "execution_count": 98,
   "metadata": {
    "collapsed": false
   },
   "outputs": [
    {
     "data": {
      "text/plain": [
       "(1, 25, 25, 3)"
      ]
     },
     "execution_count": 98,
     "metadata": {},
     "output_type": "execute_result"
    }
   ],
   "source": [
    "trump.shape"
   ]
  },
  {
   "cell_type": "code",
   "execution_count": 99,
   "metadata": {
    "collapsed": true
   },
   "outputs": [],
   "source": [
    "trump = trump.reshape(trump.shape[1], trump.shape[2], trump.shape[3])"
   ]
  },
  {
   "cell_type": "markdown",
   "metadata": {},
   "source": [
    "#### The model predicts the image as bad."
   ]
  },
  {
   "cell_type": "code",
   "execution_count": 100,
   "metadata": {
    "collapsed": false
   },
   "outputs": [
    {
     "data": {
      "image/png": "[encoded data removed]",
      "text/plain": [
       "<PIL.Image.Image image mode=RGB size=25x25 at 0x7F6C9EA8E890>"
      ]
     },
     "metadata": {},
     "output_type": "display_data"
    }
   ],
   "source": [
    "img = array_to_img(trump)\n",
    "display(img)"
   ]
  },
  {
   "cell_type": "code",
   "execution_count": null,
   "metadata": {
    "collapsed": true
   },
   "outputs": [],
   "source": []
  }
 ],
 "metadata": {
  "kernelspec": {
   "display_name": "Python 2",
   "language": "python",
   "name": "python2"
  },
  "language_info": {
   "codemirror_mode": {
    "name": "ipython",
    "version": 2
   },
   "file_extension": ".py",
   "mimetype": "text/x-python",
   "name": "python",
   "nbconvert_exporter": "python",
   "pygments_lexer": "ipython2",
   "version": "2.7.9"
  }
 },
 "nbformat": 4,
 "nbformat_minor": 2
}
