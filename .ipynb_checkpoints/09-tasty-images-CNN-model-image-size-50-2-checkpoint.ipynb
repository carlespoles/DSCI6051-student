{
 "cells": [
  {
   "cell_type": "markdown",
   "metadata": {},
   "source": [
    "# Continuation of previous notebook, using a different architecture and getting good results."
   ]
  },
  {
   "cell_type": "code",
   "execution_count": 1,
   "metadata": {
    "collapsed": true
   },
   "outputs": [],
   "source": [
    "reset -fs"
   ]
  },
  {
   "cell_type": "code",
   "execution_count": 2,
   "metadata": {
    "collapsed": false
   },
   "outputs": [
    {
     "name": "stderr",
     "output_type": "stream",
     "text": [
      "Using TensorFlow backend.\n"
     ]
    }
   ],
   "source": [
    "import numpy as np\n",
    "import pandas as pd\n",
    "import os\n",
    "import glob\n",
    "import pickle\n",
    "import gzip\n",
    "import h5py\n",
    "import dl_functions\n",
    "from IPython.display import display\n",
    "from keras.preprocessing.image import ImageDataGenerator\n",
    "from keras.models import Sequential, model_from_json, load_model\n",
    "from keras.layers import Dense, Dropout, Activation, Flatten\n",
    "from keras.layers import Convolution2D, MaxPooling2D\n",
    "from keras.optimizers import SGD\n",
    "from keras.utils import np_utils\n",
    "from keras.preprocessing.image import array_to_img, img_to_array, load_img\n",
    "from keras.callbacks import LearningRateScheduler, ModelCheckpoint\n",
    "from sklearn.metrics import confusion_matrix, roc_curve, roc_auc_score\n",
    "from sklearn.cross_validation import train_test_split\n",
    "from matplotlib import pyplot as plt\n",
    "%matplotlib inline"
   ]
  },
  {
   "cell_type": "markdown",
   "metadata": {},
   "source": [
    "#### Loading data from a compressed pickle file that has 20,000 images pre-processed with a size of 50 by 50."
   ]
  },
  {
   "cell_type": "code",
   "execution_count": 3,
   "metadata": {
    "collapsed": true
   },
   "outputs": [],
   "source": [
    "with gzip.open('pre_processed_images/image_data_20000_50.txt.gz', 'rb') as f:\n",
    "    X, y = pickle.load(f)"
   ]
  },
  {
   "cell_type": "markdown",
   "metadata": {},
   "source": [
    "#### Creating a train, test split."
   ]
  },
  {
   "cell_type": "code",
   "execution_count": 4,
   "metadata": {
    "collapsed": false
   },
   "outputs": [],
   "source": [
    "X_train, X_test, y_train, y_test = train_test_split(X, y, test_size=0.3, random_state=42)"
   ]
  },
  {
   "cell_type": "markdown",
   "metadata": {},
   "source": [
    "#### The labels need to be converted to categorical. Note that we have 2 categories: good (1) and bad (0) images."
   ]
  },
  {
   "cell_type": "code",
   "execution_count": 5,
   "metadata": {
    "collapsed": true
   },
   "outputs": [],
   "source": [
    "y_train_sparse = np_utils.to_categorical(y_train, 2)"
   ]
  },
  {
   "cell_type": "code",
   "execution_count": 6,
   "metadata": {
    "collapsed": true
   },
   "outputs": [],
   "source": [
    "y_test_sparse = np_utils.to_categorical(y_test, 2)"
   ]
  },
  {
   "cell_type": "markdown",
   "metadata": {},
   "source": [
    "#### Creating an instance of a CNN model."
   ]
  },
  {
   "cell_type": "markdown",
   "metadata": {},
   "source": [
    "##### The image size is 50."
   ]
  },
  {
   "cell_type": "code",
   "execution_count": 7,
   "metadata": {
    "collapsed": true
   },
   "outputs": [],
   "source": [
    "IMG_SIZE = 50"
   ]
  },
  {
   "cell_type": "code",
   "execution_count": 8,
   "metadata": {
    "collapsed": false
   },
   "outputs": [],
   "source": [
    "model_1 = dl_functions.cnn_model_v_0(IMG_SIZE)"
   ]
  },
  {
   "cell_type": "code",
   "execution_count": 9,
   "metadata": {
    "collapsed": true
   },
   "outputs": [],
   "source": [
    "model_1.compile(loss='binary_crossentropy', optimizer='rmsprop', metrics=['accuracy'])"
   ]
  },
  {
   "cell_type": "code",
   "execution_count": 10,
   "metadata": {
    "collapsed": false
   },
   "outputs": [
    {
     "name": "stdout",
     "output_type": "stream",
     "text": [
      "_________________________________________________________________\n",
      "Layer (type)                 Output Shape              Param #   \n",
      "=================================================================\n",
      "conv2d_1 (Conv2D)            (None, 48, 48, 32)        896       \n",
      "_________________________________________________________________\n",
      "conv2d_2 (Conv2D)            (None, 46, 46, 32)        9248      \n",
      "_________________________________________________________________\n",
      "max_pooling2d_1 (MaxPooling2 (None, 23, 23, 32)        0         \n",
      "_________________________________________________________________\n",
      "dropout_1 (Dropout)          (None, 23, 23, 32)        0         \n",
      "_________________________________________________________________\n",
      "conv2d_3 (Conv2D)            (None, 21, 21, 64)        18496     \n",
      "_________________________________________________________________\n",
      "max_pooling2d_2 (MaxPooling2 (None, 10, 10, 64)        0         \n",
      "_________________________________________________________________\n",
      "dropout_2 (Dropout)          (None, 10, 10, 64)        0         \n",
      "_________________________________________________________________\n",
      "conv2d_4 (Conv2D)            (None, 8, 8, 128)         73856     \n",
      "_________________________________________________________________\n",
      "max_pooling2d_3 (MaxPooling2 (None, 4, 4, 128)         0         \n",
      "_________________________________________________________________\n",
      "dropout_3 (Dropout)          (None, 4, 4, 128)         0         \n",
      "_________________________________________________________________\n",
      "flatten_1 (Flatten)          (None, 2048)              0         \n",
      "_________________________________________________________________\n",
      "dense_1 (Dense)              (None, 512)               1049088   \n",
      "_________________________________________________________________\n",
      "dropout_4 (Dropout)          (None, 512)               0         \n",
      "_________________________________________________________________\n",
      "dense_2 (Dense)              (None, 2)                 1026      \n",
      "=================================================================\n",
      "Total params: 1,152,610\n",
      "Trainable params: 1,152,610\n",
      "Non-trainable params: 0\n",
      "_________________________________________________________________\n"
     ]
    }
   ],
   "source": [
    "model_1.summary()"
   ]
  },
  {
   "cell_type": "code",
   "execution_count": 11,
   "metadata": {
    "collapsed": false
   },
   "outputs": [
    {
     "name": "stdout",
     "output_type": "stream",
     "text": [
      "Train on 9800 samples, validate on 4200 samples\n",
      "Epoch 1/50\n",
      "9800/9800 [==============================] - 67s - loss: 0.6836 - acc: 0.6274 - val_loss: 0.6098 - val_acc: 0.7362\n",
      "Epoch 2/50\n",
      "9800/9800 [==============================] - 69s - loss: 0.5655 - acc: 0.7174 - val_loss: 0.5097 - val_acc: 0.7576\n",
      "Epoch 3/50\n",
      "9800/9800 [==============================] - 69s - loss: 0.5269 - acc: 0.7462 - val_loss: 0.5220 - val_acc: 0.7448\n",
      "Epoch 4/50\n",
      "9800/9800 [==============================] - 68s - loss: 0.5017 - acc: 0.7658 - val_loss: 0.4412 - val_acc: 0.8024\n",
      "Epoch 5/50\n",
      "9800/9800 [==============================] - 68s - loss: 0.4801 - acc: 0.7749 - val_loss: 0.5429 - val_acc: 0.7281\n",
      "Epoch 6/50\n",
      "9800/9800 [==============================] - 69s - loss: 0.4566 - acc: 0.7892 - val_loss: 0.4885 - val_acc: 0.7617\n",
      "Epoch 7/50\n",
      "9800/9800 [==============================] - 69s - loss: 0.4446 - acc: 0.7946 - val_loss: 0.4463 - val_acc: 0.8060\n",
      "Epoch 8/50\n",
      "9800/9800 [==============================] - 69s - loss: 0.4228 - acc: 0.8098 - val_loss: 0.3912 - val_acc: 0.8279\n",
      "Epoch 9/50\n",
      "9800/9800 [==============================] - 69s - loss: 0.4182 - acc: 0.8138 - val_loss: 0.4244 - val_acc: 0.8076\n",
      "Epoch 10/50\n",
      "9800/9800 [==============================] - 68s - loss: 0.3998 - acc: 0.8203 - val_loss: 0.4016 - val_acc: 0.8224\n",
      "Epoch 11/50\n",
      "9800/9800 [==============================] - 67s - loss: 0.3996 - acc: 0.8258 - val_loss: 0.4086 - val_acc: 0.8188\n",
      "Epoch 12/50\n",
      "9800/9800 [==============================] - 67s - loss: 0.3752 - acc: 0.8379 - val_loss: 0.3757 - val_acc: 0.8381\n",
      "Epoch 13/50\n",
      "9800/9800 [==============================] - 67s - loss: 0.3695 - acc: 0.8367 - val_loss: 0.4132 - val_acc: 0.8279\n",
      "Epoch 14/50\n",
      "9800/9800 [==============================] - 67s - loss: 0.3605 - acc: 0.8464 - val_loss: 0.5017 - val_acc: 0.7819\n",
      "Epoch 15/50\n",
      "9800/9800 [==============================] - 67s - loss: 0.3568 - acc: 0.8455 - val_loss: 0.4418 - val_acc: 0.8126\n",
      "Epoch 16/50\n",
      "9800/9800 [==============================] - 67s - loss: 0.3414 - acc: 0.8546 - val_loss: 0.4541 - val_acc: 0.7986\n",
      "Epoch 17/50\n",
      "9800/9800 [==============================] - 67s - loss: 0.3322 - acc: 0.8607 - val_loss: 0.5040 - val_acc: 0.7621\n",
      "Epoch 18/50\n",
      "9800/9800 [==============================] - 67s - loss: 0.3261 - acc: 0.8606 - val_loss: 0.5390 - val_acc: 0.7500\n",
      "Epoch 19/50\n",
      "9800/9800 [==============================] - 67s - loss: 0.3110 - acc: 0.8646 - val_loss: 0.4863 - val_acc: 0.7986\n",
      "Epoch 20/50\n",
      "9800/9800 [==============================] - 67s - loss: 0.3156 - acc: 0.8669 - val_loss: 0.4009 - val_acc: 0.8245\n",
      "Epoch 21/50\n",
      "9800/9800 [==============================] - 67s - loss: 0.2934 - acc: 0.8785 - val_loss: 0.4528 - val_acc: 0.8040\n",
      "Epoch 22/50\n",
      "9800/9800 [==============================] - 68s - loss: 0.2925 - acc: 0.8762 - val_loss: 0.3766 - val_acc: 0.8455\n",
      "Epoch 23/50\n",
      "9800/9800 [==============================] - 67s - loss: 0.2760 - acc: 0.8845 - val_loss: 0.4393 - val_acc: 0.8148\n",
      "Epoch 24/50\n",
      "9800/9800 [==============================] - 67s - loss: 0.2763 - acc: 0.8871 - val_loss: 0.4309 - val_acc: 0.8186\n",
      "Epoch 25/50\n",
      "9800/9800 [==============================] - 67s - loss: 0.2596 - acc: 0.8932 - val_loss: 0.3997 - val_acc: 0.8436\n",
      "Epoch 26/50\n",
      "9800/9800 [==============================] - 67s - loss: 0.2511 - acc: 0.8982 - val_loss: 0.5213 - val_acc: 0.7929\n",
      "Epoch 27/50\n",
      "9800/9800 [==============================] - 67s - loss: 0.2498 - acc: 0.8993 - val_loss: 0.4855 - val_acc: 0.7840\n",
      "Epoch 28/50\n",
      "9800/9800 [==============================] - 67s - loss: 0.2370 - acc: 0.9060 - val_loss: 0.4242 - val_acc: 0.8364\n",
      "Epoch 29/50\n",
      "9800/9800 [==============================] - 67s - loss: 0.2374 - acc: 0.9026 - val_loss: 0.5821 - val_acc: 0.7981\n",
      "Epoch 30/50\n",
      "9800/9800 [==============================] - 67s - loss: 0.2260 - acc: 0.9078 - val_loss: 0.5929 - val_acc: 0.7619\n",
      "Epoch 31/50\n",
      "9800/9800 [==============================] - 67s - loss: 0.2218 - acc: 0.9086 - val_loss: 0.4678 - val_acc: 0.8207\n",
      "Epoch 32/50\n",
      "9800/9800 [==============================] - 67s - loss: 0.2123 - acc: 0.9142 - val_loss: 0.3936 - val_acc: 0.8455\n",
      "Epoch 33/50\n",
      "9800/9800 [==============================] - 67s - loss: 0.2120 - acc: 0.9159 - val_loss: 0.4376 - val_acc: 0.8326\n",
      "Epoch 34/50\n",
      "9800/9800 [==============================] - 67s - loss: 0.2075 - acc: 0.9193 - val_loss: 0.4613 - val_acc: 0.8402\n",
      "Epoch 35/50\n",
      "9800/9800 [==============================] - 67s - loss: 0.2012 - acc: 0.9197 - val_loss: 0.5549 - val_acc: 0.8057\n",
      "Epoch 36/50\n",
      "9800/9800 [==============================] - 67s - loss: 0.1904 - acc: 0.9236 - val_loss: 0.4627 - val_acc: 0.8421\n",
      "Epoch 37/50\n",
      "9800/9800 [==============================] - 67s - loss: 0.1918 - acc: 0.9232 - val_loss: 0.4700 - val_acc: 0.8221\n",
      "Epoch 38/50\n",
      "9800/9800 [==============================] - 67s - loss: 0.1773 - acc: 0.9306 - val_loss: 0.4204 - val_acc: 0.8343\n",
      "Epoch 39/50\n",
      "9800/9800 [==============================] - 67s - loss: 0.1805 - acc: 0.9282 - val_loss: 0.4078 - val_acc: 0.8448\n",
      "Epoch 40/50\n",
      "9800/9800 [==============================] - 67s - loss: 0.1816 - acc: 0.9283 - val_loss: 0.5109 - val_acc: 0.8260\n",
      "Epoch 41/50\n",
      "9800/9800 [==============================] - 67s - loss: 0.1816 - acc: 0.9301 - val_loss: 0.7033 - val_acc: 0.7940\n",
      "Epoch 42/50\n",
      "9800/9800 [==============================] - 67s - loss: 0.1707 - acc: 0.9315 - val_loss: 0.5556 - val_acc: 0.8240\n",
      "Epoch 43/50\n",
      "9800/9800 [==============================] - 67s - loss: 0.1674 - acc: 0.9331 - val_loss: 0.5843 - val_acc: 0.8093\n",
      "Epoch 44/50\n",
      "9800/9800 [==============================] - 67s - loss: 0.1569 - acc: 0.9399 - val_loss: 0.4746 - val_acc: 0.8436\n",
      "Epoch 45/50\n",
      "9800/9800 [==============================] - 67s - loss: 0.1659 - acc: 0.9372 - val_loss: 0.5323 - val_acc: 0.8231\n",
      "Epoch 46/50\n",
      "9800/9800 [==============================] - 67s - loss: 0.1648 - acc: 0.9360 - val_loss: 0.4507 - val_acc: 0.8460\n",
      "Epoch 47/50\n",
      "9800/9800 [==============================] - 67s - loss: 0.1598 - acc: 0.9377 - val_loss: 0.4260 - val_acc: 0.8521\n",
      "Epoch 48/50\n",
      "9800/9800 [==============================] - 67s - loss: 0.1610 - acc: 0.9381 - val_loss: 0.4586 - val_acc: 0.8526\n",
      "Epoch 49/50\n",
      "9800/9800 [==============================] - 67s - loss: 0.1550 - acc: 0.9413 - val_loss: 0.5235 - val_acc: 0.8336\n",
      "Epoch 50/50\n",
      "9800/9800 [==============================] - 67s - loss: 0.1517 - acc: 0.9421 - val_loss: 0.4886 - val_acc: 0.8455\n"
     ]
    },
    {
     "data": {
      "text/plain": [
       "<keras.callbacks.History at 0x7fb125dc2050>"
      ]
     },
     "execution_count": 11,
     "metadata": {},
     "output_type": "execute_result"
    }
   ],
   "source": [
    "model_1.fit(X_train, y_train_sparse, batch_size=128, epochs=50, verbose=1, validation_split=0.3)"
   ]
  },
  {
   "cell_type": "code",
   "execution_count": 12,
   "metadata": {
    "collapsed": false
   },
   "outputs": [
    {
     "name": "stdout",
     "output_type": "stream",
     "text": [
      "5984/6000 [============================>.] - ETA: 0s"
     ]
    }
   ],
   "source": [
    "score = model_1.evaluate(X_test, y_test_sparse, verbose=1)"
   ]
  },
  {
   "cell_type": "code",
   "execution_count": 13,
   "metadata": {
    "collapsed": false
   },
   "outputs": [
    {
     "name": "stdout",
     "output_type": "stream",
     "text": [
      "Test loss: 0.5153\n",
      "Test accuracy: 83.83%\n"
     ]
    }
   ],
   "source": [
    "print('Test loss: {:0,.4f}'.format(score[0]))\n",
    "print('Test accuracy: {:.2%}'.format(score[1]))"
   ]
  },
  {
   "cell_type": "markdown",
   "metadata": {},
   "source": [
    "#### Saving model and weights."
   ]
  },
  {
   "cell_type": "code",
   "execution_count": 14,
   "metadata": {
    "collapsed": true
   },
   "outputs": [],
   "source": [
    "model_1.save('models/model_v0_20000_50.h5')"
   ]
  },
  {
   "cell_type": "code",
   "execution_count": 15,
   "metadata": {
    "collapsed": true
   },
   "outputs": [],
   "source": [
    "model_1.save_weights('models/model_v0_20000_50_weights.h5')"
   ]
  },
  {
   "cell_type": "markdown",
   "metadata": {},
   "source": [
    "#### Creating a list of predictions."
   ]
  },
  {
   "cell_type": "code",
   "execution_count": 16,
   "metadata": {
    "collapsed": false
   },
   "outputs": [],
   "source": [
    "predicted_images = []\n",
    "for i in model_1.predict(X_test):\n",
    "    predicted_images.append(np.where(np.max(i) == i)[0])"
   ]
  },
  {
   "cell_type": "markdown",
   "metadata": {},
   "source": [
    "#### Displaying a confusion matrix."
   ]
  },
  {
   "cell_type": "code",
   "execution_count": 17,
   "metadata": {
    "collapsed": false
   },
   "outputs": [
    {
     "data": {
      "image/png": "[encoded data removed]",
      "text/plain": [
       "<matplotlib.figure.Figure at 0x7fb1412fd490>"
      ]
     },
     "metadata": {},
     "output_type": "display_data"
    }
   ],
   "source": [
    "dl_functions.show_confusion_matrix(confusion_matrix(y_test, predicted_images), ['Class 0', 'Class 1'])"
   ]
  },
  {
   "cell_type": "markdown",
   "metadata": {},
   "source": [
    "#### A more simple confusion matrix using pandas."
   ]
  },
  {
   "cell_type": "code",
   "execution_count": 18,
   "metadata": {
    "collapsed": false
   },
   "outputs": [
    {
     "data": {
      "text/html": [
       "<div>\n",
       "<table border=\"1\" class=\"dataframe\">\n",
       "  <thead>\n",
       "    <tr style=\"text-align: right;\">\n",
       "      <th></th>\n",
       "      <th>nok_image</th>\n",
       "      <th>ok_image</th>\n",
       "    </tr>\n",
       "  </thead>\n",
       "  <tbody>\n",
       "    <tr>\n",
       "      <th>0</th>\n",
       "      <td>2539</td>\n",
       "      <td>444</td>\n",
       "    </tr>\n",
       "    <tr>\n",
       "      <th>1</th>\n",
       "      <td>526</td>\n",
       "      <td>2491</td>\n",
       "    </tr>\n",
       "  </tbody>\n",
       "</table>\n",
       "</div>"
      ],
      "text/plain": [
       "   nok_image  ok_image\n",
       "0       2539       444\n",
       "1        526      2491"
      ]
     },
     "execution_count": 18,
     "metadata": {},
     "output_type": "execute_result"
    }
   ],
   "source": [
    "pd.DataFrame(confusion_matrix(y_test, predicted_images),columns = ['nok_image','ok_image'])"
   ]
  },
  {
   "cell_type": "markdown",
   "metadata": {},
   "source": [
    "#### Area Under the Curve."
   ]
  },
  {
   "cell_type": "code",
   "execution_count": 19,
   "metadata": {
    "collapsed": false
   },
   "outputs": [
    {
     "name": "stdout",
     "output_type": "stream",
     "text": [
      "AUC: 83.84%\n",
      "\n"
     ]
    }
   ],
   "source": [
    "print(\"AUC: {:.2%}\\n\".format(roc_auc_score(y_test, predicted_images)))"
   ]
  },
  {
   "cell_type": "markdown",
   "metadata": {},
   "source": [
    "#### Getting predicted probabilities."
   ]
  },
  {
   "cell_type": "code",
   "execution_count": 20,
   "metadata": {
    "collapsed": false
   },
   "outputs": [
    {
     "name": "stdout",
     "output_type": "stream",
     "text": [
      "5984/6000 [============================>.] - ETA: 0s"
     ]
    }
   ],
   "source": [
    "predictions_probability = model_1.predict_proba(X_test)"
   ]
  },
  {
   "cell_type": "markdown",
   "metadata": {},
   "source": [
    "#### Plotting a ROC curve."
   ]
  },
  {
   "cell_type": "code",
   "execution_count": 21,
   "metadata": {
    "collapsed": false
   },
   "outputs": [
    {
     "data": {
      "image/png": "[encoded data removed]",
      "text/plain": [
       "<matplotlib.figure.Figure at 0x7fb121297b90>"
      ]
     },
     "metadata": {},
     "output_type": "display_data"
    }
   ],
   "source": [
    "plt.figure(figsize=(7, 7))\n",
    "dl_functions.plot_roc(y_test, predictions_probability[:,1], \"CNN - \" + str(len(model_1.layers)) + \" layers | # images: \" + str(len(X)) + \" | image size: \" + str(IMG_SIZE), \"Tasty Food Images\")"
   ]
  },
  {
   "cell_type": "markdown",
   "metadata": {},
   "source": [
    "### Prediction using an image of Donald Trump.\n",
    "<img src='images/trump_1.jpg' />"
   ]
  },
  {
   "cell_type": "code",
   "execution_count": 22,
   "metadata": {
    "collapsed": false
   },
   "outputs": [],
   "source": [
    "trump = dl_functions.normalize_images_array('images', IMG_SIZE)"
   ]
  },
  {
   "cell_type": "code",
   "execution_count": 23,
   "metadata": {
    "collapsed": false
   },
   "outputs": [
    {
     "name": "stdout",
     "output_type": "stream",
     "text": [
      "1/1 [==============================] - 0s\n"
     ]
    }
   ],
   "source": [
    "trump_prediction = model_1.predict_classes(trump)"
   ]
  },
  {
   "cell_type": "code",
   "execution_count": 24,
   "metadata": {
    "collapsed": false
   },
   "outputs": [
    {
     "data": {
      "text/plain": [
       "0"
      ]
     },
     "execution_count": 24,
     "metadata": {},
     "output_type": "execute_result"
    }
   ],
   "source": [
    "trump_prediction[0]"
   ]
  },
  {
   "cell_type": "code",
   "execution_count": 25,
   "metadata": {
    "collapsed": false
   },
   "outputs": [
    {
     "data": {
      "text/plain": [
       "(1, 50, 50, 3)"
      ]
     },
     "execution_count": 25,
     "metadata": {},
     "output_type": "execute_result"
    }
   ],
   "source": [
    "trump.shape"
   ]
  },
  {
   "cell_type": "code",
   "execution_count": 26,
   "metadata": {
    "collapsed": true
   },
   "outputs": [],
   "source": [
    "trump = trump.reshape(trump.shape[1], trump.shape[2], trump.shape[3])"
   ]
  },
  {
   "cell_type": "markdown",
   "metadata": {},
   "source": [
    "#### The model predicts the image as NOK."
   ]
  },
  {
   "cell_type": "code",
   "execution_count": 27,
   "metadata": {
    "collapsed": false
   },
   "outputs": [
    {
     "data": {
      "image/png": "[encoded data removed]",
      "text/plain": [
       "<PIL.Image.Image image mode=RGB size=50x50 at 0x7FB120DF8B50>"
      ]
     },
     "metadata": {},
     "output_type": "display_data"
    }
   ],
   "source": [
    "img = array_to_img(trump)\n",
    "display(img)"
   ]
  },
  {
   "cell_type": "markdown",
   "metadata": {},
   "source": [
    "#### Copying model and weights to a bucket."
   ]
  },
  {
   "cell_type": "code",
   "execution_count": 28,
   "metadata": {
    "collapsed": false
   },
   "outputs": [
    {
     "name": "stdout",
     "output_type": "stream",
     "text": [
      "Copying file://models/model_v2_20000_50.h5 [Content-Type=application/octet-stream]...\n",
      "Copying file://models/model_v1_20000_50_weights.h5 [Content-Type=application/octet-stream]...\n",
      "Copying file://models/model_v1_20000_50.h5 [Content-Type=application/octet-stream]...\n",
      "Copying file://models/model_v0_20000_50_weights.h5 [Content-Type=application/octet-stream]...\n",
      "\\ [4 files][ 19.9 MiB/ 19.9 MiB]                                                \n",
      "==> NOTE: You are performing a sequence of gsutil operations that may\n",
      "run significantly faster if you instead use gsutil -m -o ... Please\n",
      "see the -m section under \"gsutil help options\" for further information\n",
      "about when gsutil -m can be advantageous.\n",
      "\n",
      "Copying file://models/model_v0_20000_50.h5 [Content-Type=application/octet-stream]...\n",
      "Copying file://models/model_v2_20000_50_weights.h5 [Content-Type=application/octet-stream]...\n",
      "/ [6 files][ 35.9 MiB/ 35.9 MiB]                                                \n",
      "Operation completed over 6 objects/35.9 MiB.                                     \n"
     ]
    }
   ],
   "source": [
    "!gsutil cp -r 'models' 'gs://wellio-kadaif-tasty-images-project-pre-processed-images'"
   ]
  },
  {
   "cell_type": "code",
   "execution_count": null,
   "metadata": {
    "collapsed": true
   },
   "outputs": [],
   "source": []
  }
 ],
 "metadata": {
  "anaconda-cloud": {},
  "kernelspec": {
   "display_name": "Python 2",
   "language": "python",
   "name": "python2"
  },
  "language_info": {
   "codemirror_mode": {
    "name": "ipython",
    "version": 2
   },
   "file_extension": ".py",
   "mimetype": "text/x-python",
   "name": "python",
   "nbconvert_exporter": "python",
   "pygments_lexer": "ipython2",
   "version": "2.7.9"
  }
 },
 "nbformat": 4,
 "nbformat_minor": 2
}
