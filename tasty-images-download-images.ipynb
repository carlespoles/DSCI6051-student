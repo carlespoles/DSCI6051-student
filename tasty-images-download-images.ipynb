{
 "cells": [
  {
   "cell_type": "code",
   "execution_count": 1,
   "metadata": {
    "collapsed": true
   },
   "outputs": [],
   "source": [
    "reset -fs"
   ]
  },
  {
   "cell_type": "code",
   "execution_count": 2,
   "metadata": {
    "collapsed": false
   },
   "outputs": [
    {
     "name": "stderr",
     "output_type": "stream",
     "text": [
      "Using TensorFlow backend.\n"
     ]
    }
   ],
   "source": [
    "# import all necessary modules\n",
    "import json\n",
    "import seaborn as sns\n",
    "import datalab.storage as storage\n",
    "import datalab.bigquery as bq\n",
    "import pandas as pd\n",
    "import numpy as np\n",
    "import urllib\n",
    "import matplotlib.pyplot as plt\n",
    "import matplotlib.image as mpimg\n",
    "import PIL.Image as img\n",
    "import glob\n",
    "import os, sys\n",
    "from IPython.display import Image, display\n",
    "from scipy.misc import imread\n",
    "from keras.preprocessing.image import array_to_img, img_to_array, load_img\n",
    "%matplotlib inline"
   ]
  },
  {
   "cell_type": "markdown",
   "metadata": {},
   "source": [
    "### The number of images of each class we want to download."
   ]
  },
  {
   "cell_type": "code",
   "execution_count": 3,
   "metadata": {
    "collapsed": true
   },
   "outputs": [],
   "source": [
    "NUMBER_OF_IMAGES = 600"
   ]
  },
  {
   "cell_type": "markdown",
   "metadata": {},
   "source": [
    "### Getting the URLs of the good images from BigQuery."
   ]
  },
  {
   "cell_type": "code",
   "execution_count": 4,
   "metadata": {
    "collapsed": true
   },
   "outputs": [],
   "source": [
    "%%sql --module epicurious_images_data\n",
    "SELECT images\n",
    "FROM [wellio-kadaif:recipes.recipes]\n",
    "WHERE substring(url, 1, instr(url, '.com')+4) = 'http://www.epicurious.com/'\n",
    "AND images IS NOT NULL\n",
    "LIMIT 10000"
   ]
  },
  {
   "cell_type": "markdown",
   "metadata": {},
   "source": [
    "### Executing the above query."
   ]
  },
  {
   "cell_type": "code",
   "execution_count": 5,
   "metadata": {
    "collapsed": false
   },
   "outputs": [
    {
     "data": {
      "text/html": [
       "\n",
       "    <div class=\"bqtv\" id=\"1_149152402542\"><table><tr><th>images</th></tr><tr><td>http://assets.epicurious.com/photos/560df93d7b55306961bfe935/master/pass/108893.jpg</td></tr><tr><td>http://assets.epicurious.com/photos/560df9317b55306961bfe911/master/pass/108831.jpg</td></tr><tr><td>http://assets.epicurious.com/photos/560d7921f3a00aeb2f1cb721/6:4/w_620%2Ch_413/350226_hires.jpg</td></tr><tr><td>http://assets.epicurious.com/photos/5640f1459978979816f029fe/6:4/w_620%2Ch_413/sweet-potato-mac-and-cheese.jpg</td></tr><tr><td>http://assets.epicurious.com/photos/560d79a1f3a00aeb2f1cb83f/6:4/w_620%2Ch_413/351035_hires.jpg</td></tr><tr><td>http://assets.epicurious.com/photos/573e308fd44d8a8c0ea68d18/6:4/w_620%2Ch_413/51251020_cinnamon-rolls_6x4.jpg</td></tr><tr><td>http://assets.epicurious.com/photos/560df28ef3a00aeb2f1d5d4c/master/pass/230451.jpg</td></tr><tr><td>http://assets.epicurious.com/photos/560347257bdffb1205b62eaa/master/pass/51189610.jpg</td></tr><tr><td>http://assets.epicurious.com/photos/54b29493a801766f773fb2a0/6:4/w_620%2Ch_413/367722_tangerine-souffle_1x1.jpg</td></tr><tr><td>http://assets.epicurious.com/photos/560df8b7f9a84192308a8c62/master/pass/108132.jpg</td></tr><tr><td>http://assets.epicurious.com/photos/54b3e4b2460b4423363f6bb4/6:4/w_620%2Ch_413/355369_mini-turkey-loaves_1x1.jpg</td></tr><tr><td>http://assets.epicurious.com/photos/560de587f3a00aeb2f1d544c/master/pass/232318.jpg</td></tr><tr><td>http://assets.epicurious.com/photos/5609a500e0acd286555db70e/master/pass/351599.jpg</td></tr><tr><td>http://assets.epicurious.com/photos/56aa99bcbfa0fcbd3e434dad/6:4/w_620%2Ch_413/0314-BA-WSUN.06.jpg</td></tr><tr><td>http://assets.epicurious.com/photos/577d24862cd485bf35b04463/6:4/w_620%2Ch_413/squid-lemon-zucchini-blossom-fritto-misto-BA-070616.jpg</td></tr><tr><td>http://assets.epicurious.com/photos/54b193b39a93d64c380aca7e/6:4/w_620%2Ch_413/395270_peppered-dry-spareribs_1x1.jpg</td></tr><tr><td>http://assets.epicurious.com/photos/5601a3437bdffb1205b543e3/6:4/w_620%2Ch_413/Tarragon-and-Lemon-Roast-Chicken_0669_Type1.jpg</td></tr><tr><td>http://assets.epicurious.com/photos/560400f408929a1609a1e606/6:4/w_620%2Ch_413/395450_hires.jpg</td></tr><tr><td>http://assets.epicurious.com/photos/55d4c98963b1ba1b5534b115/6:4/w_620%2Ch_413/56389923_plum-wine_6x4.jpg</td></tr><tr><td>http://assets.epicurious.com/photos/560dd762f3a00aeb2f1d2786/master/pass/235040.jpg</td></tr><tr><td>http://assets.epicurious.com/photos/577293e97823d8090d928ce1/6:4/w_620%2Ch_413/hydrating-iced-tea-guy-turland-062816.jpg</td></tr><tr><td>http://assets.epicurious.com/photos/57eaf1ed9926981046da9e30/6:4/w_620%2Ch_413/3-Ingredient-frozen-mud-pie-27092016.jpg</td></tr><tr><td>http://assets.epicurious.com/photos/560ea7fc7b55306961bff664/master/pass/104907.jpg</td></tr><tr><td>http://assets.epicurious.com/photos/54ac45c26529d92b2c03a929/6:4/w_620%2Ch_413/51234620_chicken-green-papaya_1x1.jpg</td></tr><tr><td>http://assets.epicurious.com/photos/57a33f73437fcffe02f723b1/6:4/w_620%2Ch_413/ginger-peach-slow-cooker-upsidedown-cake-080416.jpg</td></tr></table></div>\n",
       "    <br />(rows: 10000, time: 1.1s,    87MB processed, job: job_3G_PHMnNabSMCK-yonrXMp3O0ak)<br />\n",
       "    <script>\n",
       "\n",
       "      require.config({\n",
       "        paths: {\n",
       "          d3: '//cdnjs.cloudflare.com/ajax/libs/d3/3.4.13/d3',\n",
       "          plotly: 'https://cdn.plot.ly/plotly-1.5.1.min.js?noext',\n",
       "          jquery: '//ajax.googleapis.com/ajax/libs/jquery/2.0.0/jquery.min'\n",
       "        },\n",
       "        map: {\n",
       "          '*': {\n",
       "            datalab: 'nbextensions/gcpdatalab'\n",
       "          }\n",
       "        },\n",
       "        shim: {\n",
       "          plotly: {\n",
       "            deps: ['d3', 'jquery'],\n",
       "            exports: 'plotly'\n",
       "          }\n",
       "        }\n",
       "      });\n",
       "\n",
       "      require(['datalab/charting', 'datalab/element!1_149152402542', 'base/js/events',\n",
       "          'datalab/style!/nbextensions/gcpdatalab/charting.css'],\n",
       "        function(charts, dom, events) {\n",
       "          charts.render('gcharts', dom, events, 'paged_table', [], {\"rows\": [{\"c\": [{\"v\": \"http://assets.epicurious.com/photos/560df93d7b55306961bfe935/master/pass/108893.jpg\"}]}, {\"c\": [{\"v\": \"http://assets.epicurious.com/photos/560df9317b55306961bfe911/master/pass/108831.jpg\"}]}, {\"c\": [{\"v\": \"http://assets.epicurious.com/photos/560d7921f3a00aeb2f1cb721/6:4/w_620%2Ch_413/350226_hires.jpg\"}]}, {\"c\": [{\"v\": \"http://assets.epicurious.com/photos/5640f1459978979816f029fe/6:4/w_620%2Ch_413/sweet-potato-mac-and-cheese.jpg\"}]}, {\"c\": [{\"v\": \"http://assets.epicurious.com/photos/560d79a1f3a00aeb2f1cb83f/6:4/w_620%2Ch_413/351035_hires.jpg\"}]}, {\"c\": [{\"v\": \"http://assets.epicurious.com/photos/573e308fd44d8a8c0ea68d18/6:4/w_620%2Ch_413/51251020_cinnamon-rolls_6x4.jpg\"}]}, {\"c\": [{\"v\": \"http://assets.epicurious.com/photos/560df28ef3a00aeb2f1d5d4c/master/pass/230451.jpg\"}]}, {\"c\": [{\"v\": \"http://assets.epicurious.com/photos/560347257bdffb1205b62eaa/master/pass/51189610.jpg\"}]}, {\"c\": [{\"v\": \"http://assets.epicurious.com/photos/54b29493a801766f773fb2a0/6:4/w_620%2Ch_413/367722_tangerine-souffle_1x1.jpg\"}]}, {\"c\": [{\"v\": \"http://assets.epicurious.com/photos/560df8b7f9a84192308a8c62/master/pass/108132.jpg\"}]}, {\"c\": [{\"v\": \"http://assets.epicurious.com/photos/54b3e4b2460b4423363f6bb4/6:4/w_620%2Ch_413/355369_mini-turkey-loaves_1x1.jpg\"}]}, {\"c\": [{\"v\": \"http://assets.epicurious.com/photos/560de587f3a00aeb2f1d544c/master/pass/232318.jpg\"}]}, {\"c\": [{\"v\": \"http://assets.epicurious.com/photos/5609a500e0acd286555db70e/master/pass/351599.jpg\"}]}, {\"c\": [{\"v\": \"http://assets.epicurious.com/photos/56aa99bcbfa0fcbd3e434dad/6:4/w_620%2Ch_413/0314-BA-WSUN.06.jpg\"}]}, {\"c\": [{\"v\": \"http://assets.epicurious.com/photos/577d24862cd485bf35b04463/6:4/w_620%2Ch_413/squid-lemon-zucchini-blossom-fritto-misto-BA-070616.jpg\"}]}, {\"c\": [{\"v\": \"http://assets.epicurious.com/photos/54b193b39a93d64c380aca7e/6:4/w_620%2Ch_413/395270_peppered-dry-spareribs_1x1.jpg\"}]}, {\"c\": [{\"v\": \"http://assets.epicurious.com/photos/5601a3437bdffb1205b543e3/6:4/w_620%2Ch_413/Tarragon-and-Lemon-Roast-Chicken_0669_Type1.jpg\"}]}, {\"c\": [{\"v\": \"http://assets.epicurious.com/photos/560400f408929a1609a1e606/6:4/w_620%2Ch_413/395450_hires.jpg\"}]}, {\"c\": [{\"v\": \"http://assets.epicurious.com/photos/55d4c98963b1ba1b5534b115/6:4/w_620%2Ch_413/56389923_plum-wine_6x4.jpg\"}]}, {\"c\": [{\"v\": \"http://assets.epicurious.com/photos/560dd762f3a00aeb2f1d2786/master/pass/235040.jpg\"}]}, {\"c\": [{\"v\": \"http://assets.epicurious.com/photos/577293e97823d8090d928ce1/6:4/w_620%2Ch_413/hydrating-iced-tea-guy-turland-062816.jpg\"}]}, {\"c\": [{\"v\": \"http://assets.epicurious.com/photos/57eaf1ed9926981046da9e30/6:4/w_620%2Ch_413/3-Ingredient-frozen-mud-pie-27092016.jpg\"}]}, {\"c\": [{\"v\": \"http://assets.epicurious.com/photos/560ea7fc7b55306961bff664/master/pass/104907.jpg\"}]}, {\"c\": [{\"v\": \"http://assets.epicurious.com/photos/54ac45c26529d92b2c03a929/6:4/w_620%2Ch_413/51234620_chicken-green-papaya_1x1.jpg\"}]}, {\"c\": [{\"v\": \"http://assets.epicurious.com/photos/57a33f73437fcffe02f723b1/6:4/w_620%2Ch_413/ginger-peach-slow-cooker-upsidedown-cake-080416.jpg\"}]}], \"cols\": [{\"type\": \"string\", \"id\": \"images\", \"label\": \"images\"}]},\n",
       "            {\n",
       "              pageSize: 25,\n",
       "              cssClassNames:  {\n",
       "                tableRow: 'gchart-table-row',\n",
       "                headerRow: 'gchart-table-headerrow',\n",
       "                oddTableRow: 'gchart-table-oddrow',\n",
       "                selectedTableRow: 'gchart-table-selectedrow',\n",
       "                hoverTableRow: 'gchart-table-hoverrow',\n",
       "                tableCell: 'gchart-table-cell',\n",
       "                headerCell: 'gchart-table-headercell',\n",
       "                rowNumberCell: 'gchart-table-rownumcell'\n",
       "              }\n",
       "            },\n",
       "            {source_index: 0, fields: 'images'},\n",
       "            0,\n",
       "            10000);\n",
       "        }\n",
       "      );\n",
       "    </script>\n",
       "  "
      ],
      "text/plain": [
       "QueryResultsTable job_3G_PHMnNabSMCK-yonrXMp3O0ak"
      ]
     },
     "execution_count": 5,
     "metadata": {},
     "output_type": "execute_result"
    }
   ],
   "source": [
    "%%bigquery execute -q epicurious_images_data"
   ]
  },
  {
   "cell_type": "markdown",
   "metadata": {},
   "source": [
    "### Converting query into a Pandas dataframe."
   ]
  },
  {
   "cell_type": "code",
   "execution_count": 6,
   "metadata": {
    "collapsed": true
   },
   "outputs": [],
   "source": [
    "epicurious_images_df = bq.Query(epicurious_images_data).to_dataframe()"
   ]
  },
  {
   "cell_type": "markdown",
   "metadata": {},
   "source": [
    "### Creating a new Pandas dataframe with a sample of 10,000 URLs."
   ]
  },
  {
   "cell_type": "code",
   "execution_count": 7,
   "metadata": {
    "collapsed": true
   },
   "outputs": [],
   "source": [
    "sample_epicurious_images_df = epicurious_images_df.sample(n=10000)"
   ]
  },
  {
   "cell_type": "markdown",
   "metadata": {},
   "source": [
    "### Creating a list out of the sampled Pandas dataframe."
   ]
  },
  {
   "cell_type": "code",
   "execution_count": 8,
   "metadata": {
    "collapsed": true
   },
   "outputs": [],
   "source": [
    "sample_epicurious_images_list = sample_epicurious_images_df['images'].tolist()"
   ]
  },
  {
   "cell_type": "markdown",
   "metadata": {},
   "source": [
    "### Location of the good images."
   ]
  },
  {
   "cell_type": "code",
   "execution_count": 9,
   "metadata": {
    "collapsed": true
   },
   "outputs": [],
   "source": [
    "folder_ok = 'data/downloads/ok'"
   ]
  },
  {
   "cell_type": "markdown",
   "metadata": {},
   "source": [
    "### Removing current images."
   ]
  },
  {
   "cell_type": "code",
   "execution_count": 10,
   "metadata": {
    "collapsed": false
   },
   "outputs": [],
   "source": [
    "# Delete images to download again.\n",
    "dirPath = folder_ok\n",
    "fileList = os.listdir(dirPath)\n",
    "for fileName in fileList:\n",
    "  os.remove(dirPath + '/' + fileName)"
   ]
  },
  {
   "cell_type": "markdown",
   "metadata": {},
   "source": [
    "### Downloading images."
   ]
  },
  {
   "cell_type": "code",
   "execution_count": 11,
   "metadata": {
    "collapsed": true
   },
   "outputs": [],
   "source": [
    "i = 1\n",
    "for item in sample_epicurious_images_list:\n",
    "  if i < (NUMBER_OF_IMAGES + 1):\n",
    "    urllib.urlretrieve(str(item), folder_ok + '/' + str(i).zfill(5) + '.jpg')\n",
    "    i += 1"
   ]
  },
  {
   "cell_type": "markdown",
   "metadata": {},
   "source": [
    "### Now, proceeding exactly as above for bad images."
   ]
  },
  {
   "cell_type": "code",
   "execution_count": 12,
   "metadata": {
    "collapsed": true
   },
   "outputs": [],
   "source": [
    "%%sql --module fooddotcom_images_data\n",
    "SELECT images\n",
    "FROM [wellio-kadaif:recipes.recipes]\n",
    "WHERE substring(url, 1, instr(url, '.com')+4) = 'http://www.food.com/'\n",
    "AND images IS NOT NULL\n",
    "LIMIT 10000"
   ]
  },
  {
   "cell_type": "code",
   "execution_count": 13,
   "metadata": {
    "collapsed": false
   },
   "outputs": [
    {
     "data": {
      "text/html": [
       "\n",
       "    <div class=\"bqtv\" id=\"2_149152410127\"><table><tr><th>images</th></tr><tr><td>http://img.sndimg.com/food/image/upload/w_614,h_461,c_fit/v1/img/recipes/49/81/92/pictf9Haa.jpg</td></tr><tr><td>http://img.sndimg.com/food/image/upload/w_614,h_461,c_fit/v1/img/recipes/48/05/62/picxLoBBP.jpg</td></tr><tr><td>http://img.sndimg.com/food/image/upload/w_614,h_461,c_fit/v1/img/recipes/38/12/61/picjqAKLt.jpg</td></tr><tr><td>http://img.sndimg.com/food/image/upload/w_614,h_461,c_fit/v1/img/recipes/47/20/36/picnzMkEV.jpg</td></tr><tr><td>http://pictures.food.com/api/file/ikuPuw3ITxW3KTWY0Sn9-baked-potatoes.png/convert?loc=/pictures.food.com/recipes/51/44/26/2Mnv6Y58SxWkPXgbUQ6e_baked%20potatoes.png&amp;width=614&amp;height=461&amp;fit=crop</td></tr><tr><td>http://img.sndimg.com/food/image/upload/w_614,h_461,c_fit/v1/img/recipes/38/01/58/picQ2oaM4.jpg</td></tr><tr><td>http://img.sndimg.com/food/image/upload/w_614,h_461,c_fit/v1/img/recipes/38/01/58/picBmb7Ir.jpg</td></tr><tr><td>http://img.sndimg.com/food/image/upload/w_614,h_461,c_fit/v1/img/recipes/46/93/99/picODQyGX.jpg</td></tr><tr><td>http://img.sndimg.com/food/image/upload/w_614,h_461,c_fit/v1/img/recipes/20/51/28/picVNtpEz.jpg</td></tr><tr><td>http://img.sndimg.com/food/image/upload/w_614,h_461,c_fit/v1/img/recipes/46/29/89/picBnoVvK.jpg</td></tr><tr><td>http://img.sndimg.com/food/image/upload/w_614,h_461,c_fit/v1/img/recipes/16/78/77/picnEsopr.jpg</td></tr><tr><td>http://img.sndimg.com/food/image/upload/w_614,h_461,c_fit/v1/img/recipes/36/80/57/picfuLzPY.jpg</td></tr><tr><td>http://img.sndimg.com/food/image/upload/w_614,h_461,c_fit/v1/img/recipes/36/80/57/pic8PZK9z.jpg</td></tr><tr><td>http://img.sndimg.com/food/image/upload/w_614,h_461,c_fit/v1/img/recipes/36/80/57/picN8Ul0l.jpg</td></tr><tr><td>http://img.sndimg.com/food/image/upload/w_614,h_461,c_fit/v1/img/recipes/52/25/70/XqRxom7MTTesoWMpxxXc_chocolate%20cheesecake%20smoothie.jpg</td></tr><tr><td>http://img.sndimg.com/food/image/upload/w_614,h_461,c_fit/v1/img/recipes/50/63/72/pic4tHWoA.jpg</td></tr><tr><td>http://img.sndimg.com/food/image/upload/w_614,h_461,c_fit/v1/img/recipes/44/53/45/picPMMAQU.jpg</td></tr><tr><td>http://img.sndimg.com/food/image/upload/w_614,h_461,c_fit/v1/img/recipes/45/21/14/picCjYivj.jpg</td></tr><tr><td>http://img.sndimg.com/food/image/upload/w_614,h_461,c_fit/v1/img/recipes/45/21/14/picsLwgis.jpg</td></tr><tr><td>http://img.sndimg.com/food/image/upload/w_614,h_461,c_fit/v1/img/recipes/47/59/91/picI6bOod.jpg</td></tr><tr><td>http://img.sndimg.com/food/image/upload/w_614,h_461,c_fit/v1/img/recipes/44/90/13/picGLsw9D.jpg</td></tr><tr><td>http://img.sndimg.com/food/image/upload/w_614,h_461,c_fit/v1/img/recipes/10/31/01/picnvgzyG.jpg</td></tr><tr><td>http://img.sndimg.com/food/image/upload/w_614,h_461,c_fit/v1/img/recipes/10/31/01/picUPxrTb.jpg</td></tr><tr><td>http://img.sndimg.com/food/image/upload/w_614,h_461,c_fit/v1/img/recipes/29/91/60/piclnfbfG.jpg</td></tr><tr><td>http://img.sndimg.com/food/image/upload/w_614,h_461,c_fit/v1/img/recipes/24/75/00/picp8ZqV2.jpg</td></tr></table></div>\n",
       "    <br />(rows: 20302, time: 0.8s,    87MB processed, job: job_Q_L_thbORjFET3wCaSLfDTcHxUs)<br />\n",
       "    <script>\n",
       "\n",
       "      require.config({\n",
       "        paths: {\n",
       "          d3: '//cdnjs.cloudflare.com/ajax/libs/d3/3.4.13/d3',\n",
       "          plotly: 'https://cdn.plot.ly/plotly-1.5.1.min.js?noext',\n",
       "          jquery: '//ajax.googleapis.com/ajax/libs/jquery/2.0.0/jquery.min'\n",
       "        },\n",
       "        map: {\n",
       "          '*': {\n",
       "            datalab: 'nbextensions/gcpdatalab'\n",
       "          }\n",
       "        },\n",
       "        shim: {\n",
       "          plotly: {\n",
       "            deps: ['d3', 'jquery'],\n",
       "            exports: 'plotly'\n",
       "          }\n",
       "        }\n",
       "      });\n",
       "\n",
       "      require(['datalab/charting', 'datalab/element!2_149152410127', 'base/js/events',\n",
       "          'datalab/style!/nbextensions/gcpdatalab/charting.css'],\n",
       "        function(charts, dom, events) {\n",
       "          charts.render('gcharts', dom, events, 'paged_table', [], {\"rows\": [{\"c\": [{\"v\": \"http://img.sndimg.com/food/image/upload/w_614,h_461,c_fit/v1/img/recipes/49/81/92/pictf9Haa.jpg\"}]}, {\"c\": [{\"v\": \"http://img.sndimg.com/food/image/upload/w_614,h_461,c_fit/v1/img/recipes/48/05/62/picxLoBBP.jpg\"}]}, {\"c\": [{\"v\": \"http://img.sndimg.com/food/image/upload/w_614,h_461,c_fit/v1/img/recipes/38/12/61/picjqAKLt.jpg\"}]}, {\"c\": [{\"v\": \"http://img.sndimg.com/food/image/upload/w_614,h_461,c_fit/v1/img/recipes/47/20/36/picnzMkEV.jpg\"}]}, {\"c\": [{\"v\": \"http://pictures.food.com/api/file/ikuPuw3ITxW3KTWY0Sn9-baked-potatoes.png/convert?loc=/pictures.food.com/recipes/51/44/26/2Mnv6Y58SxWkPXgbUQ6e_baked%20potatoes.png&width=614&height=461&fit=crop\"}]}, {\"c\": [{\"v\": \"http://img.sndimg.com/food/image/upload/w_614,h_461,c_fit/v1/img/recipes/38/01/58/picQ2oaM4.jpg\"}]}, {\"c\": [{\"v\": \"http://img.sndimg.com/food/image/upload/w_614,h_461,c_fit/v1/img/recipes/38/01/58/picBmb7Ir.jpg\"}]}, {\"c\": [{\"v\": \"http://img.sndimg.com/food/image/upload/w_614,h_461,c_fit/v1/img/recipes/46/93/99/picODQyGX.jpg\"}]}, {\"c\": [{\"v\": \"http://img.sndimg.com/food/image/upload/w_614,h_461,c_fit/v1/img/recipes/20/51/28/picVNtpEz.jpg\"}]}, {\"c\": [{\"v\": \"http://img.sndimg.com/food/image/upload/w_614,h_461,c_fit/v1/img/recipes/46/29/89/picBnoVvK.jpg\"}]}, {\"c\": [{\"v\": \"http://img.sndimg.com/food/image/upload/w_614,h_461,c_fit/v1/img/recipes/16/78/77/picnEsopr.jpg\"}]}, {\"c\": [{\"v\": \"http://img.sndimg.com/food/image/upload/w_614,h_461,c_fit/v1/img/recipes/36/80/57/picfuLzPY.jpg\"}]}, {\"c\": [{\"v\": \"http://img.sndimg.com/food/image/upload/w_614,h_461,c_fit/v1/img/recipes/36/80/57/pic8PZK9z.jpg\"}]}, {\"c\": [{\"v\": \"http://img.sndimg.com/food/image/upload/w_614,h_461,c_fit/v1/img/recipes/36/80/57/picN8Ul0l.jpg\"}]}, {\"c\": [{\"v\": \"http://img.sndimg.com/food/image/upload/w_614,h_461,c_fit/v1/img/recipes/52/25/70/XqRxom7MTTesoWMpxxXc_chocolate%20cheesecake%20smoothie.jpg\"}]}, {\"c\": [{\"v\": \"http://img.sndimg.com/food/image/upload/w_614,h_461,c_fit/v1/img/recipes/50/63/72/pic4tHWoA.jpg\"}]}, {\"c\": [{\"v\": \"http://img.sndimg.com/food/image/upload/w_614,h_461,c_fit/v1/img/recipes/44/53/45/picPMMAQU.jpg\"}]}, {\"c\": [{\"v\": \"http://img.sndimg.com/food/image/upload/w_614,h_461,c_fit/v1/img/recipes/45/21/14/picCjYivj.jpg\"}]}, {\"c\": [{\"v\": \"http://img.sndimg.com/food/image/upload/w_614,h_461,c_fit/v1/img/recipes/45/21/14/picsLwgis.jpg\"}]}, {\"c\": [{\"v\": \"http://img.sndimg.com/food/image/upload/w_614,h_461,c_fit/v1/img/recipes/47/59/91/picI6bOod.jpg\"}]}, {\"c\": [{\"v\": \"http://img.sndimg.com/food/image/upload/w_614,h_461,c_fit/v1/img/recipes/44/90/13/picGLsw9D.jpg\"}]}, {\"c\": [{\"v\": \"http://img.sndimg.com/food/image/upload/w_614,h_461,c_fit/v1/img/recipes/10/31/01/picnvgzyG.jpg\"}]}, {\"c\": [{\"v\": \"http://img.sndimg.com/food/image/upload/w_614,h_461,c_fit/v1/img/recipes/10/31/01/picUPxrTb.jpg\"}]}, {\"c\": [{\"v\": \"http://img.sndimg.com/food/image/upload/w_614,h_461,c_fit/v1/img/recipes/29/91/60/piclnfbfG.jpg\"}]}, {\"c\": [{\"v\": \"http://img.sndimg.com/food/image/upload/w_614,h_461,c_fit/v1/img/recipes/24/75/00/picp8ZqV2.jpg\"}]}], \"cols\": [{\"type\": \"string\", \"id\": \"images\", \"label\": \"images\"}]},\n",
       "            {\n",
       "              pageSize: 25,\n",
       "              cssClassNames:  {\n",
       "                tableRow: 'gchart-table-row',\n",
       "                headerRow: 'gchart-table-headerrow',\n",
       "                oddTableRow: 'gchart-table-oddrow',\n",
       "                selectedTableRow: 'gchart-table-selectedrow',\n",
       "                hoverTableRow: 'gchart-table-hoverrow',\n",
       "                tableCell: 'gchart-table-cell',\n",
       "                headerCell: 'gchart-table-headercell',\n",
       "                rowNumberCell: 'gchart-table-rownumcell'\n",
       "              }\n",
       "            },\n",
       "            {source_index: 1, fields: 'images'},\n",
       "            0,\n",
       "            20302);\n",
       "        }\n",
       "      );\n",
       "    </script>\n",
       "  "
      ],
      "text/plain": [
       "QueryResultsTable job_Q_L_thbORjFET3wCaSLfDTcHxUs"
      ]
     },
     "execution_count": 13,
     "metadata": {},
     "output_type": "execute_result"
    }
   ],
   "source": [
    "%%bigquery execute -q fooddotcom_images_data"
   ]
  },
  {
   "cell_type": "code",
   "execution_count": 14,
   "metadata": {
    "collapsed": false
   },
   "outputs": [],
   "source": [
    "fooddotcom_images_df = bq.Query(fooddotcom_images_data).to_dataframe()"
   ]
  },
  {
   "cell_type": "code",
   "execution_count": 15,
   "metadata": {
    "collapsed": true
   },
   "outputs": [],
   "source": [
    "sample_fooddotcom_images_df = fooddotcom_images_df.sample(n=10000)"
   ]
  },
  {
   "cell_type": "code",
   "execution_count": 16,
   "metadata": {
    "collapsed": true
   },
   "outputs": [],
   "source": [
    "sample_fooddotcom_images_list = sample_fooddotcom_images_df['images'].tolist()"
   ]
  },
  {
   "cell_type": "code",
   "execution_count": 17,
   "metadata": {
    "collapsed": true
   },
   "outputs": [],
   "source": [
    "folder_nok = 'data/downloads/nok'"
   ]
  },
  {
   "cell_type": "code",
   "execution_count": 18,
   "metadata": {
    "collapsed": true
   },
   "outputs": [],
   "source": [
    "# Delete images to download again.\n",
    "dirPath = folder_nok\n",
    "fileList = os.listdir(dirPath)\n",
    "for fileName in fileList:\n",
    "  os.remove(dirPath + '/' + fileName)"
   ]
  },
  {
   "cell_type": "code",
   "execution_count": 19,
   "metadata": {
    "collapsed": true
   },
   "outputs": [],
   "source": [
    "i = 1\n",
    "for item in sample_fooddotcom_images_list:\n",
    "  if i < (NUMBER_OF_IMAGES + 1):\n",
    "    urllib.urlretrieve(str(item), folder_nok + '/' + str(i).zfill(5) + '.jpg')\n",
    "    i += 1"
   ]
  },
  {
   "cell_type": "code",
   "execution_count": null,
   "metadata": {
    "collapsed": true
   },
   "outputs": [],
   "source": []
  }
 ],
 "metadata": {
  "kernelspec": {
   "display_name": "Python 2",
   "language": "python",
   "name": "python2"
  },
  "language_info": {
   "codemirror_mode": {
    "name": "ipython",
    "version": 2
   },
   "file_extension": ".py",
   "mimetype": "text/x-python",
   "name": "python",
   "nbconvert_exporter": "python",
   "pygments_lexer": "ipython2",
   "version": "2.7.9"
  }
 },
 "nbformat": 4,
 "nbformat_minor": 2
}
