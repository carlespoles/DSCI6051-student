{
 "cells": [
  {
   "cell_type": "code",
   "execution_count": 1,
   "metadata": {
    "collapsed": true
   },
   "outputs": [],
   "source": [
    "reset -fs"
   ]
  },
  {
   "cell_type": "code",
   "execution_count": 2,
   "metadata": {
    "collapsed": false
   },
   "outputs": [
    {
     "name": "stderr",
     "output_type": "stream",
     "text": [
      "Using TensorFlow backend.\n"
     ]
    }
   ],
   "source": [
    "# import all necessary modules\n",
    "import json\n",
    "import seaborn as sns\n",
    "import datalab.storage as storage\n",
    "import datalab.bigquery as bq\n",
    "import pandas as pd\n",
    "import numpy as np\n",
    "import urllib\n",
    "import matplotlib.pyplot as plt\n",
    "import matplotlib.image as mpimg\n",
    "import PIL.Image as img\n",
    "import glob\n",
    "import os, sys\n",
    "from IPython.display import Image, display\n",
    "from scipy.misc import imread\n",
    "from keras.preprocessing.image import array_to_img, img_to_array, load_img\n",
    "%matplotlib inline"
   ]
  },
  {
   "cell_type": "code",
   "execution_count": 3,
   "metadata": {
    "collapsed": true
   },
   "outputs": [],
   "source": [
    "NUMBER_OF_IMAGES = 200"
   ]
  },
  {
   "cell_type": "code",
   "execution_count": 4,
   "metadata": {
    "collapsed": true
   },
   "outputs": [],
   "source": [
    "%%sql --module epicurious_images_data\n",
    "SELECT images\n",
    "FROM [wellio-kadaif:recipes.recipes]\n",
    "WHERE substring(url, 1, instr(url, '.com')+4) = 'http://www.epicurious.com/'\n",
    "AND images IS NOT NULL\n",
    "LIMIT 10000"
   ]
  },
  {
   "cell_type": "code",
   "execution_count": 5,
   "metadata": {
    "collapsed": false
   },
   "outputs": [
    {
     "data": {
      "text/html": [
       "\n",
       "    <div class=\"bqtv\" id=\"1_149152301228\"><table><tr><th>images</th></tr><tr><td>http://assets.epicurious.com/photos/5798baab3a12dd9d56024016/6:4/w_620%2Ch_413/pie-bar-recipe-27072016.jpg</td></tr><tr><td>http://assets.epicurious.com/photos/560df8d7f9a84192308a8cba/master/pass/108322.jpg</td></tr><tr><td>http://assets.epicurious.com/photos/560dd7337b55306961bfa967/master/pass/234400.jpg</td></tr><tr><td>http://assets.epicurious.com/photos/561025e47b55306961bffed3/master/pass/103336.jpg</td></tr><tr><td>http://assets.epicurious.com/photos/56033a487bdffb1205b5d5c5/master/pass/51254610.jpg</td></tr><tr><td>http://assets.epicurious.com/photos/5612e5b9928970611e0a7fbc/master/pass/101591.jpg</td></tr><tr><td>http://assets.epicurious.com/photos/5764202942e4a5ed66d1df63/6:4/w_620%2Ch_413/scalloped-potatoes-with-three-cheeses.jpg</td></tr><tr><td>http://assets.epicurious.com/photos/57b215a00e4be0011c1bf08a/6:4/w_620%2Ch_413/vanilla-cream-cheese-frosting.jpg</td></tr><tr><td>http://assets.epicurious.com/photos/56043abd968c2fa94dc98b39/6:4/w_620%2Ch_413/369030_hires.jpg</td></tr><tr><td>http://assets.epicurious.com/photos/5609a5e362fa7a9917c259bc/6:4/w_620%2Ch_413/354334_hires.jpg</td></tr><tr><td>http://assets.epicurious.com/photos/560dd7007b55306961bfa8ef/master/pass/233910.jpg</td></tr><tr><td>http://assets.epicurious.com/photos/5609a4ff62fa7a9917c257ac/master/pass/351597.jpg</td></tr><tr><td>http://assets.epicurious.com/photos/54b33eb721388ef838b083ce/6:4/w_620%2Ch_413/358496_toasted-bread-burrata-arugula_1x1.jpg</td></tr><tr><td>http://assets.epicurious.com/photos/54b28d259a93d64c380b2b34/6:4/w_620%2Ch_413/367950_gazpacho_1x1.jpg</td></tr><tr><td>http://assets.epicurious.com/photos/5603471608929a1609a16b20/master/pass/51177810.jpg</td></tr><tr><td>http://assets.epicurious.com/photos/54b98a737cbba01c0db81c31/6:4/w_620%2Ch_413/peruvian-rice-lentils-6x4.jpg</td></tr><tr><td>http://assets.epicurious.com/photos/54c7b9322a4b69f8647f5f7c/6:4/w_620%2Ch_413/51261050_sweet-chile-shrimp_1x1.jpg</td></tr><tr><td>http://assets.epicurious.com/photos/560d9ac37b55306961bf7985/6:4/w_620%2Ch_413/240976_hires.jpg</td></tr><tr><td>http://assets.epicurious.com/photos/54b3e692460b4423363f715f/6:4/w_620%2Ch_413/355198_linguine-spinach-mussels_1x1.jpg</td></tr><tr><td>http://assets.epicurious.com/photos/56098f3562fa7a9917c1d962/6:4/w_620%2Ch_413/363381_hires.jpg</td></tr><tr><td>http://assets.epicurious.com/photos/560dd74e7b55306961bfa9b7/master/pass/234683.jpg</td></tr><tr><td>http://assets.epicurious.com/photos/57ea9581cf9338f824b78b46/6:4/w_620%2Ch_413/octopus-with-linguine.jpg</td></tr><tr><td>http://assets.epicurious.com/photos/54b0a524c6a78d1a4a609451/6:4/w_620%2Ch_413/51104470_grilled-shrimp-chile_1x1.jpg</td></tr><tr><td>http://assets.epicurious.com/photos/5612e59dce6afd7f75653cee/master/pass/101310.jpg</td></tr><tr><td>http://assets.epicurious.com/photos/560df20e7b55306961bfe08d/master/pass/109301.jpg</td></tr></table></div>\n",
       "    <br />(rows: 10270, time: 0.4s, cached, job: job_wEbCnZG6SHmdDP93U03v52lDl2k)<br />\n",
       "    <script>\n",
       "\n",
       "      require.config({\n",
       "        paths: {\n",
       "          d3: '//cdnjs.cloudflare.com/ajax/libs/d3/3.4.13/d3',\n",
       "          plotly: 'https://cdn.plot.ly/plotly-1.5.1.min.js?noext',\n",
       "          jquery: '//ajax.googleapis.com/ajax/libs/jquery/2.0.0/jquery.min'\n",
       "        },\n",
       "        map: {\n",
       "          '*': {\n",
       "            datalab: 'nbextensions/gcpdatalab'\n",
       "          }\n",
       "        },\n",
       "        shim: {\n",
       "          plotly: {\n",
       "            deps: ['d3', 'jquery'],\n",
       "            exports: 'plotly'\n",
       "          }\n",
       "        }\n",
       "      });\n",
       "\n",
       "      require(['datalab/charting', 'datalab/element!1_149152301228', 'base/js/events',\n",
       "          'datalab/style!/nbextensions/gcpdatalab/charting.css'],\n",
       "        function(charts, dom, events) {\n",
       "          charts.render('gcharts', dom, events, 'paged_table', [], {\"rows\": [{\"c\": [{\"v\": \"http://assets.epicurious.com/photos/5798baab3a12dd9d56024016/6:4/w_620%2Ch_413/pie-bar-recipe-27072016.jpg\"}]}, {\"c\": [{\"v\": \"http://assets.epicurious.com/photos/560df8d7f9a84192308a8cba/master/pass/108322.jpg\"}]}, {\"c\": [{\"v\": \"http://assets.epicurious.com/photos/560dd7337b55306961bfa967/master/pass/234400.jpg\"}]}, {\"c\": [{\"v\": \"http://assets.epicurious.com/photos/561025e47b55306961bffed3/master/pass/103336.jpg\"}]}, {\"c\": [{\"v\": \"http://assets.epicurious.com/photos/56033a487bdffb1205b5d5c5/master/pass/51254610.jpg\"}]}, {\"c\": [{\"v\": \"http://assets.epicurious.com/photos/5612e5b9928970611e0a7fbc/master/pass/101591.jpg\"}]}, {\"c\": [{\"v\": \"http://assets.epicurious.com/photos/5764202942e4a5ed66d1df63/6:4/w_620%2Ch_413/scalloped-potatoes-with-three-cheeses.jpg\"}]}, {\"c\": [{\"v\": \"http://assets.epicurious.com/photos/57b215a00e4be0011c1bf08a/6:4/w_620%2Ch_413/vanilla-cream-cheese-frosting.jpg\"}]}, {\"c\": [{\"v\": \"http://assets.epicurious.com/photos/56043abd968c2fa94dc98b39/6:4/w_620%2Ch_413/369030_hires.jpg\"}]}, {\"c\": [{\"v\": \"http://assets.epicurious.com/photos/5609a5e362fa7a9917c259bc/6:4/w_620%2Ch_413/354334_hires.jpg\"}]}, {\"c\": [{\"v\": \"http://assets.epicurious.com/photos/560dd7007b55306961bfa8ef/master/pass/233910.jpg\"}]}, {\"c\": [{\"v\": \"http://assets.epicurious.com/photos/5609a4ff62fa7a9917c257ac/master/pass/351597.jpg\"}]}, {\"c\": [{\"v\": \"http://assets.epicurious.com/photos/54b33eb721388ef838b083ce/6:4/w_620%2Ch_413/358496_toasted-bread-burrata-arugula_1x1.jpg\"}]}, {\"c\": [{\"v\": \"http://assets.epicurious.com/photos/54b28d259a93d64c380b2b34/6:4/w_620%2Ch_413/367950_gazpacho_1x1.jpg\"}]}, {\"c\": [{\"v\": \"http://assets.epicurious.com/photos/5603471608929a1609a16b20/master/pass/51177810.jpg\"}]}, {\"c\": [{\"v\": \"http://assets.epicurious.com/photos/54b98a737cbba01c0db81c31/6:4/w_620%2Ch_413/peruvian-rice-lentils-6x4.jpg\"}]}, {\"c\": [{\"v\": \"http://assets.epicurious.com/photos/54c7b9322a4b69f8647f5f7c/6:4/w_620%2Ch_413/51261050_sweet-chile-shrimp_1x1.jpg\"}]}, {\"c\": [{\"v\": \"http://assets.epicurious.com/photos/560d9ac37b55306961bf7985/6:4/w_620%2Ch_413/240976_hires.jpg\"}]}, {\"c\": [{\"v\": \"http://assets.epicurious.com/photos/54b3e692460b4423363f715f/6:4/w_620%2Ch_413/355198_linguine-spinach-mussels_1x1.jpg\"}]}, {\"c\": [{\"v\": \"http://assets.epicurious.com/photos/56098f3562fa7a9917c1d962/6:4/w_620%2Ch_413/363381_hires.jpg\"}]}, {\"c\": [{\"v\": \"http://assets.epicurious.com/photos/560dd74e7b55306961bfa9b7/master/pass/234683.jpg\"}]}, {\"c\": [{\"v\": \"http://assets.epicurious.com/photos/57ea9581cf9338f824b78b46/6:4/w_620%2Ch_413/octopus-with-linguine.jpg\"}]}, {\"c\": [{\"v\": \"http://assets.epicurious.com/photos/54b0a524c6a78d1a4a609451/6:4/w_620%2Ch_413/51104470_grilled-shrimp-chile_1x1.jpg\"}]}, {\"c\": [{\"v\": \"http://assets.epicurious.com/photos/5612e59dce6afd7f75653cee/master/pass/101310.jpg\"}]}, {\"c\": [{\"v\": \"http://assets.epicurious.com/photos/560df20e7b55306961bfe08d/master/pass/109301.jpg\"}]}], \"cols\": [{\"type\": \"string\", \"id\": \"images\", \"label\": \"images\"}]},\n",
       "            {\n",
       "              pageSize: 25,\n",
       "              cssClassNames:  {\n",
       "                tableRow: 'gchart-table-row',\n",
       "                headerRow: 'gchart-table-headerrow',\n",
       "                oddTableRow: 'gchart-table-oddrow',\n",
       "                selectedTableRow: 'gchart-table-selectedrow',\n",
       "                hoverTableRow: 'gchart-table-hoverrow',\n",
       "                tableCell: 'gchart-table-cell',\n",
       "                headerCell: 'gchart-table-headercell',\n",
       "                rowNumberCell: 'gchart-table-rownumcell'\n",
       "              }\n",
       "            },\n",
       "            {source_index: 0, fields: 'images'},\n",
       "            0,\n",
       "            10270);\n",
       "        }\n",
       "      );\n",
       "    </script>\n",
       "  "
      ],
      "text/plain": [
       "QueryResultsTable job_wEbCnZG6SHmdDP93U03v52lDl2k"
      ]
     },
     "execution_count": 5,
     "metadata": {},
     "output_type": "execute_result"
    }
   ],
   "source": [
    "%%bigquery execute -q epicurious_images_data"
   ]
  },
  {
   "cell_type": "code",
   "execution_count": 6,
   "metadata": {
    "collapsed": true
   },
   "outputs": [],
   "source": [
    "epicurious_images_df = bq.Query(epicurious_images_data).to_dataframe()"
   ]
  },
  {
   "cell_type": "code",
   "execution_count": 7,
   "metadata": {
    "collapsed": true
   },
   "outputs": [],
   "source": [
    "sample_epicurious_images_df = epicurious_images_df.sample(n=10000)"
   ]
  },
  {
   "cell_type": "code",
   "execution_count": 8,
   "metadata": {
    "collapsed": true
   },
   "outputs": [],
   "source": [
    "sample_epicurious_images_list = sample_epicurious_images_df['images'].tolist()"
   ]
  },
  {
   "cell_type": "code",
   "execution_count": 9,
   "metadata": {
    "collapsed": true
   },
   "outputs": [],
   "source": [
    "folder_ok = 'data/downloads/ok'"
   ]
  },
  {
   "cell_type": "code",
   "execution_count": 10,
   "metadata": {
    "collapsed": false
   },
   "outputs": [],
   "source": [
    "# Delete images to download again.\n",
    "dirPath = folder_ok\n",
    "fileList = os.listdir(dirPath)\n",
    "for fileName in fileList:\n",
    "  os.remove(dirPath + '/' + fileName)"
   ]
  },
  {
   "cell_type": "code",
   "execution_count": 11,
   "metadata": {
    "collapsed": true
   },
   "outputs": [],
   "source": [
    "i = 1\n",
    "for item in sample_epicurious_images_list:\n",
    "  if i < (NUMBER_OF_IMAGES + 1):\n",
    "    urllib.urlretrieve(str(item), folder_ok + '/' + str(i).zfill(5) + '.jpg')\n",
    "    i += 1"
   ]
  },
  {
   "cell_type": "code",
   "execution_count": 12,
   "metadata": {
    "collapsed": true
   },
   "outputs": [],
   "source": [
    "%%sql --module fooddotcom_images_data\n",
    "SELECT images\n",
    "FROM [wellio-kadaif:recipes.recipes]\n",
    "WHERE substring(url, 1, instr(url, '.com')+4) = 'http://www.food.com/'\n",
    "AND images IS NOT NULL\n",
    "LIMIT 10000"
   ]
  },
  {
   "cell_type": "code",
   "execution_count": 13,
   "metadata": {
    "collapsed": false
   },
   "outputs": [
    {
     "data": {
      "text/html": [
       "\n",
       "    <div class=\"bqtv\" id=\"2_149152303988\"><table><tr><th>images</th></tr><tr><td>http://img.sndimg.com/food/image/upload/w_614,h_461,c_fit/v1/img/recipes/46/33/18/picp2QRXf.jpg</td></tr><tr><td>http://img.sndimg.com/food/image/upload/w_614,h_461,c_fit/v1/img/recipes/88/69/8/picYrqdc7.jpg</td></tr><tr><td>http://img.sndimg.com/food/image/upload/w_614,h_461,c_fit/v1/img/recipes/37/30/68/picRU0hKP.jpg</td></tr><tr><td>http://img.sndimg.com/food/image/upload/w_614,h_461,c_fit/v1/img/recipes/20/10/12/picc3StZ1.jpg</td></tr><tr><td>http://img.sndimg.com/food/image/upload/w_614,h_461,c_fit/v1/img/recipes/20/10/12/picRW8rJm.jpg</td></tr><tr><td>http://img.sndimg.com/food/image/upload/w_614,h_461,c_fit/v1/img/recipes/36/57/48/picKwAYYC.jpg</td></tr><tr><td>http://img.sndimg.com/food/image/upload/w_614,h_461,c_fit/v1/img/recipes/47/29/27/picnduhnO.jpg</td></tr><tr><td>http://img.sndimg.com/food/image/upload/w_614,h_461,c_fit/v1/img/recipes/17/87/76/picwjn7Lr.jpg</td></tr><tr><td>http://img.sndimg.com/food/image/upload/w_614,h_461,c_fit/v1/img/recipes/24/99/97/picYL1FTd.jpg</td></tr><tr><td>http://img.sndimg.com/food/image/upload/w_614,h_461,c_fit/v1/img/submissions/recipe/0/K0BhYwYNQWu7nDlrcTUG_IMG_1471.JPG</td></tr><tr><td>http://img.sndimg.com/food/image/upload/w_614,h_461,c_fit/v1/img/recipes/35/65/91/picJL3NaR.jpg</td></tr><tr><td>http://img.sndimg.com/food/image/upload/w_614,h_461,c_fit/v1/img/recipes/35/65/91/pic9ixYN0.jpg</td></tr><tr><td>http://pictures.food.com/api/file/RCCdDMcNQLI0WmIxXV9E-sterak.JPG/convert?loc=/pictures.food.com/recipes/50/92/13/N07jkIJ7TQ6oCMbKwlFW_sterak.JPG&amp;width=614&amp;height=461&amp;fit=crop</td></tr><tr><td>http://img.sndimg.com/food/image/upload/w_614,h_461,c_fit/v1/img/recipes/22/37/65/pic00M3y1.jpg</td></tr><tr><td>http://img.sndimg.com/food/image/upload/w_614,h_461,c_fit/v1/img/recipes/28/53/63/pic9B88vq.jpg</td></tr><tr><td>http://img.sndimg.com/food/image/upload/w_614,h_461,c_fit/v1/img/recipes/42/14/14/piceCxBs0.jpg</td></tr><tr><td>http://img.sndimg.com/food/image/upload/w_614,h_461,c_fit/v1/img/recipes/44/98/01/pic8xQMJx.jpg</td></tr><tr><td>http://pictures.food.com/api/file/H4ZKCFmGTsi5Q77Tqyoq-Dry-Roasted-Turkey.jpg/convert?loc=/pictures.food.com/recipes/41/29/45/JkYXEgyoRxOuQlHYqxv9_Dry%20Roasted%20Turkey.jpg&amp;width=614&amp;height=461&amp;fit=crop</td></tr><tr><td>http://pictures.food.com/api/file//p265KFfhTCuxXCo1c2IX-Panzanella-Stuff.jpg/convert?loc=/pictures.food.com/recipes/41/29/45/to4tcydKRuiUHpFlqjqG_Panzanella%20Stuff.jpg&amp;width=614&amp;height=461&amp;fit=crop</td></tr><tr><td>http://img.sndimg.com/food/image/upload/w_614,h_461,c_fit/v1/img/recipes/47/74/03/pic8pJuVm.jpg</td></tr><tr><td>http://img.sndimg.com/food/image/upload/w_614,h_461,c_fit/v1/img/recipes/30/11/87/picTWPtFG.jpg</td></tr><tr><td>http://pictures.food.com/api/file/CxMJMVSZR72s8vQE4SGk-image-3-.jpeg/convert?loc=/fdc/20140426/pictures.food.com/recipes/44/78/32/KATifAWqROQTTFxdD436_image%5B3%5D.jpeg&amp;width=614&amp;height=461&amp;fit=crop</td></tr><tr><td>http://pictures.food.com/api/file/Hyj6k4gT3K27dEVDWbsg-image.jpeg/convert?loc=/fdc/20140426/pictures.food.com/recipes/44/78/32/AlGHHU7HRfKYr5p2D1L6_image.jpeg&amp;width=614&amp;height=461&amp;fit=crop</td></tr><tr><td>http://pictures.food.com/api/file/JniDGqJIRgCOP3ryi9U8-image-1-.jpeg/convert?loc=/fdc/20140426/pictures.food.com/recipes/44/78/32/UxN9SOzGSMaJY9qkb4Je_image%5B1%5D.jpeg&amp;width=614&amp;height=461&amp;fit=crop</td></tr><tr><td>http://pictures.food.com/api/file/euFUpYleTRCrbOHPgcMM-image-4-.jpeg/convert?loc=/fdc/20140426/pictures.food.com/recipes/44/78/32/R3dOwV4BRryoZcWFTpQs_image%5B4%5D.jpeg&amp;width=614&amp;height=461&amp;fit=crop</td></tr></table></div>\n",
       "    <br />(rows: 201195, time: 0.3s, cached, job: job_7RLOUK8xs66iZgsa6z8c5WwbZZE)<br />\n",
       "    <script>\n",
       "\n",
       "      require.config({\n",
       "        paths: {\n",
       "          d3: '//cdnjs.cloudflare.com/ajax/libs/d3/3.4.13/d3',\n",
       "          plotly: 'https://cdn.plot.ly/plotly-1.5.1.min.js?noext',\n",
       "          jquery: '//ajax.googleapis.com/ajax/libs/jquery/2.0.0/jquery.min'\n",
       "        },\n",
       "        map: {\n",
       "          '*': {\n",
       "            datalab: 'nbextensions/gcpdatalab'\n",
       "          }\n",
       "        },\n",
       "        shim: {\n",
       "          plotly: {\n",
       "            deps: ['d3', 'jquery'],\n",
       "            exports: 'plotly'\n",
       "          }\n",
       "        }\n",
       "      });\n",
       "\n",
       "      require(['datalab/charting', 'datalab/element!2_149152303988', 'base/js/events',\n",
       "          'datalab/style!/nbextensions/gcpdatalab/charting.css'],\n",
       "        function(charts, dom, events) {\n",
       "          charts.render('gcharts', dom, events, 'paged_table', [], {\"rows\": [{\"c\": [{\"v\": \"http://img.sndimg.com/food/image/upload/w_614,h_461,c_fit/v1/img/recipes/46/33/18/picp2QRXf.jpg\"}]}, {\"c\": [{\"v\": \"http://img.sndimg.com/food/image/upload/w_614,h_461,c_fit/v1/img/recipes/88/69/8/picYrqdc7.jpg\"}]}, {\"c\": [{\"v\": \"http://img.sndimg.com/food/image/upload/w_614,h_461,c_fit/v1/img/recipes/37/30/68/picRU0hKP.jpg\"}]}, {\"c\": [{\"v\": \"http://img.sndimg.com/food/image/upload/w_614,h_461,c_fit/v1/img/recipes/20/10/12/picc3StZ1.jpg\"}]}, {\"c\": [{\"v\": \"http://img.sndimg.com/food/image/upload/w_614,h_461,c_fit/v1/img/recipes/20/10/12/picRW8rJm.jpg\"}]}, {\"c\": [{\"v\": \"http://img.sndimg.com/food/image/upload/w_614,h_461,c_fit/v1/img/recipes/36/57/48/picKwAYYC.jpg\"}]}, {\"c\": [{\"v\": \"http://img.sndimg.com/food/image/upload/w_614,h_461,c_fit/v1/img/recipes/47/29/27/picnduhnO.jpg\"}]}, {\"c\": [{\"v\": \"http://img.sndimg.com/food/image/upload/w_614,h_461,c_fit/v1/img/recipes/17/87/76/picwjn7Lr.jpg\"}]}, {\"c\": [{\"v\": \"http://img.sndimg.com/food/image/upload/w_614,h_461,c_fit/v1/img/recipes/24/99/97/picYL1FTd.jpg\"}]}, {\"c\": [{\"v\": \"http://img.sndimg.com/food/image/upload/w_614,h_461,c_fit/v1/img/submissions/recipe/0/K0BhYwYNQWu7nDlrcTUG_IMG_1471.JPG\"}]}, {\"c\": [{\"v\": \"http://img.sndimg.com/food/image/upload/w_614,h_461,c_fit/v1/img/recipes/35/65/91/picJL3NaR.jpg\"}]}, {\"c\": [{\"v\": \"http://img.sndimg.com/food/image/upload/w_614,h_461,c_fit/v1/img/recipes/35/65/91/pic9ixYN0.jpg\"}]}, {\"c\": [{\"v\": \"http://pictures.food.com/api/file/RCCdDMcNQLI0WmIxXV9E-sterak.JPG/convert?loc=/pictures.food.com/recipes/50/92/13/N07jkIJ7TQ6oCMbKwlFW_sterak.JPG&width=614&height=461&fit=crop\"}]}, {\"c\": [{\"v\": \"http://img.sndimg.com/food/image/upload/w_614,h_461,c_fit/v1/img/recipes/22/37/65/pic00M3y1.jpg\"}]}, {\"c\": [{\"v\": \"http://img.sndimg.com/food/image/upload/w_614,h_461,c_fit/v1/img/recipes/28/53/63/pic9B88vq.jpg\"}]}, {\"c\": [{\"v\": \"http://img.sndimg.com/food/image/upload/w_614,h_461,c_fit/v1/img/recipes/42/14/14/piceCxBs0.jpg\"}]}, {\"c\": [{\"v\": \"http://img.sndimg.com/food/image/upload/w_614,h_461,c_fit/v1/img/recipes/44/98/01/pic8xQMJx.jpg\"}]}, {\"c\": [{\"v\": \"http://pictures.food.com/api/file/H4ZKCFmGTsi5Q77Tqyoq-Dry-Roasted-Turkey.jpg/convert?loc=/pictures.food.com/recipes/41/29/45/JkYXEgyoRxOuQlHYqxv9_Dry%20Roasted%20Turkey.jpg&width=614&height=461&fit=crop\"}]}, {\"c\": [{\"v\": \"http://pictures.food.com/api/file//p265KFfhTCuxXCo1c2IX-Panzanella-Stuff.jpg/convert?loc=/pictures.food.com/recipes/41/29/45/to4tcydKRuiUHpFlqjqG_Panzanella%20Stuff.jpg&width=614&height=461&fit=crop\"}]}, {\"c\": [{\"v\": \"http://img.sndimg.com/food/image/upload/w_614,h_461,c_fit/v1/img/recipes/47/74/03/pic8pJuVm.jpg\"}]}, {\"c\": [{\"v\": \"http://img.sndimg.com/food/image/upload/w_614,h_461,c_fit/v1/img/recipes/30/11/87/picTWPtFG.jpg\"}]}, {\"c\": [{\"v\": \"http://pictures.food.com/api/file/CxMJMVSZR72s8vQE4SGk-image-3-.jpeg/convert?loc=/fdc/20140426/pictures.food.com/recipes/44/78/32/KATifAWqROQTTFxdD436_image%5B3%5D.jpeg&width=614&height=461&fit=crop\"}]}, {\"c\": [{\"v\": \"http://pictures.food.com/api/file/Hyj6k4gT3K27dEVDWbsg-image.jpeg/convert?loc=/fdc/20140426/pictures.food.com/recipes/44/78/32/AlGHHU7HRfKYr5p2D1L6_image.jpeg&width=614&height=461&fit=crop\"}]}, {\"c\": [{\"v\": \"http://pictures.food.com/api/file/JniDGqJIRgCOP3ryi9U8-image-1-.jpeg/convert?loc=/fdc/20140426/pictures.food.com/recipes/44/78/32/UxN9SOzGSMaJY9qkb4Je_image%5B1%5D.jpeg&width=614&height=461&fit=crop\"}]}, {\"c\": [{\"v\": \"http://pictures.food.com/api/file/euFUpYleTRCrbOHPgcMM-image-4-.jpeg/convert?loc=/fdc/20140426/pictures.food.com/recipes/44/78/32/R3dOwV4BRryoZcWFTpQs_image%5B4%5D.jpeg&width=614&height=461&fit=crop\"}]}], \"cols\": [{\"type\": \"string\", \"id\": \"images\", \"label\": \"images\"}]},\n",
       "            {\n",
       "              pageSize: 25,\n",
       "              cssClassNames:  {\n",
       "                tableRow: 'gchart-table-row',\n",
       "                headerRow: 'gchart-table-headerrow',\n",
       "                oddTableRow: 'gchart-table-oddrow',\n",
       "                selectedTableRow: 'gchart-table-selectedrow',\n",
       "                hoverTableRow: 'gchart-table-hoverrow',\n",
       "                tableCell: 'gchart-table-cell',\n",
       "                headerCell: 'gchart-table-headercell',\n",
       "                rowNumberCell: 'gchart-table-rownumcell'\n",
       "              }\n",
       "            },\n",
       "            {source_index: 1, fields: 'images'},\n",
       "            0,\n",
       "            201195);\n",
       "        }\n",
       "      );\n",
       "    </script>\n",
       "  "
      ],
      "text/plain": [
       "QueryResultsTable job_7RLOUK8xs66iZgsa6z8c5WwbZZE"
      ]
     },
     "execution_count": 13,
     "metadata": {},
     "output_type": "execute_result"
    }
   ],
   "source": [
    "%%bigquery execute -q fooddotcom_images_data"
   ]
  },
  {
   "cell_type": "code",
   "execution_count": 14,
   "metadata": {
    "collapsed": false
   },
   "outputs": [],
   "source": [
    "fooddotcom_images_df = bq.Query(fooddotcom_images_data).to_dataframe()"
   ]
  },
  {
   "cell_type": "code",
   "execution_count": 15,
   "metadata": {
    "collapsed": true
   },
   "outputs": [],
   "source": [
    "sample_fooddotcom_images_df = fooddotcom_images_df.sample(n=10000)"
   ]
  },
  {
   "cell_type": "code",
   "execution_count": 16,
   "metadata": {
    "collapsed": true
   },
   "outputs": [],
   "source": [
    "sample_fooddotcom_images_list = sample_fooddotcom_images_df['images'].tolist()"
   ]
  },
  {
   "cell_type": "code",
   "execution_count": 17,
   "metadata": {
    "collapsed": true
   },
   "outputs": [],
   "source": [
    "folder_nok = 'data/downloads/nok'"
   ]
  },
  {
   "cell_type": "code",
   "execution_count": 18,
   "metadata": {
    "collapsed": true
   },
   "outputs": [],
   "source": [
    "# Delete images to download again.\n",
    "dirPath = folder_nok\n",
    "fileList = os.listdir(dirPath)\n",
    "for fileName in fileList:\n",
    "  os.remove(dirPath + '/' + fileName)"
   ]
  },
  {
   "cell_type": "code",
   "execution_count": 19,
   "metadata": {
    "collapsed": true
   },
   "outputs": [],
   "source": [
    "i = 1\n",
    "for item in sample_fooddotcom_images_list:\n",
    "  if i < (NUMBER_OF_IMAGES + 1):\n",
    "    urllib.urlretrieve(str(item), folder_nok + '/' + str(i).zfill(5) + '.jpg')\n",
    "    i += 1"
   ]
  },
  {
   "cell_type": "code",
   "execution_count": null,
   "metadata": {
    "collapsed": true
   },
   "outputs": [],
   "source": []
  }
 ],
 "metadata": {
  "kernelspec": {
   "display_name": "Python 2",
   "language": "python",
   "name": "python2"
  },
  "language_info": {
   "codemirror_mode": {
    "name": "ipython",
    "version": 2
   },
   "file_extension": ".py",
   "mimetype": "text/x-python",
   "name": "python",
   "nbconvert_exporter": "python",
   "pygments_lexer": "ipython2",
   "version": "2.7.9"
  }
 },
 "nbformat": 4,
 "nbformat_minor": 2
}
