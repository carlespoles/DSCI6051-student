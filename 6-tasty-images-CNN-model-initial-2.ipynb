{
 "cells": [
  {
   "cell_type": "code",
   "execution_count": 1,
   "metadata": {
    "collapsed": true
   },
   "outputs": [],
   "source": [
    "reset -fs"
   ]
  },
  {
   "cell_type": "code",
   "execution_count": 2,
   "metadata": {
    "collapsed": false
   },
   "outputs": [
    {
     "name": "stderr",
     "output_type": "stream",
     "text": [
      "Using TensorFlow backend.\n"
     ]
    }
   ],
   "source": [
    "import numpy as np\n",
    "import pandas as pd\n",
    "import os\n",
    "import glob\n",
    "import pickle\n",
    "import gzip\n",
    "import dl_functions\n",
    "from IPython.display import display\n",
    "from keras.preprocessing.image import ImageDataGenerator\n",
    "from keras.models import Sequential, model_from_json\n",
    "from keras.layers import Dense, Dropout, Activation, Flatten\n",
    "from keras.layers import Convolution2D, MaxPooling2D\n",
    "from keras.optimizers import SGD\n",
    "from keras.utils import np_utils\n",
    "from keras.preprocessing.image import array_to_img, img_to_array, load_img\n",
    "from keras.callbacks import LearningRateScheduler, ModelCheckpoint\n",
    "from skimage import io, color, exposure, transform\n",
    "from sklearn.metrics import confusion_matrix, roc_curve\n",
    "from sklearn.cross_validation import train_test_split\n",
    "from matplotlib import pyplot as plt\n",
    "%matplotlib inline"
   ]
  },
  {
   "cell_type": "markdown",
   "metadata": {},
   "source": [
    "#### Loading data from a compressed pickle file that has 20,000 images pre-processed with a size of 50 by 50."
   ]
  },
  {
   "cell_type": "code",
   "execution_count": 3,
   "metadata": {
    "collapsed": true
   },
   "outputs": [],
   "source": [
    "with gzip.open('pre_processed_images/image_data_20000_50.txt.gz', 'rb') as f:\n",
    "  X, y = pickle.load(f)"
   ]
  },
  {
   "cell_type": "markdown",
   "metadata": {},
   "source": [
    "#### Since we are not using a GPU, we will get a random sample from the OK and NOK images. We know the OK images are the first 10,000, the NOK ones the last 10,000."
   ]
  },
  {
   "cell_type": "markdown",
   "metadata": {},
   "source": [
    "#### We get all OK images."
   ]
  },
  {
   "cell_type": "code",
   "execution_count": 4,
   "metadata": {
    "collapsed": true
   },
   "outputs": [],
   "source": [
    "X_ok = X[:10000]"
   ]
  },
  {
   "cell_type": "markdown",
   "metadata": {},
   "source": [
    "#### We get all NOK images."
   ]
  },
  {
   "cell_type": "code",
   "execution_count": 5,
   "metadata": {
    "collapsed": true
   },
   "outputs": [],
   "source": [
    "X_nok = X[10000:]"
   ]
  },
  {
   "cell_type": "code",
   "execution_count": 6,
   "metadata": {
    "collapsed": true
   },
   "outputs": [],
   "source": [
    "ARRAY_SAMPLE = 2000"
   ]
  },
  {
   "cell_type": "markdown",
   "metadata": {},
   "source": [
    "#### We get a random sample of the OK images."
   ]
  },
  {
   "cell_type": "code",
   "execution_count": 7,
   "metadata": {
    "collapsed": true
   },
   "outputs": [],
   "source": [
    "X_ok_sample = X_ok[np.random.randint(0, X_ok.shape[0], ARRAY_SAMPLE)]"
   ]
  },
  {
   "cell_type": "markdown",
   "metadata": {},
   "source": [
    "#### We get a random sample of the NOK images."
   ]
  },
  {
   "cell_type": "code",
   "execution_count": 8,
   "metadata": {
    "collapsed": true
   },
   "outputs": [],
   "source": [
    "X_nok_sample = X_nok[np.random.randint(0, X_nok.shape[0], ARRAY_SAMPLE)]"
   ]
  },
  {
   "cell_type": "markdown",
   "metadata": {},
   "source": [
    "#### Creating final array of images ready to fit a model.\n",
    "\n",
    "Note that we stack first the 'good' images, then the 'bad' ones."
   ]
  },
  {
   "cell_type": "code",
   "execution_count": 9,
   "metadata": {
    "collapsed": false
   },
   "outputs": [],
   "source": [
    "X_sample = np.vstack((X_ok_sample, X_nok_sample))"
   ]
  },
  {
   "cell_type": "markdown",
   "metadata": {},
   "source": [
    "#### Creating an array of labels.\n",
    "Label 1 indicates good image, and 0 bad image. Note that half of the images are good, half are bad, so labels are calculated accordingly."
   ]
  },
  {
   "cell_type": "code",
   "execution_count": 10,
   "metadata": {
    "collapsed": false
   },
   "outputs": [],
   "source": [
    "y_sample = np.vstack((np.array([1]*(len(X_sample)/2)).reshape((len(X_sample)/2), 1), np.array([0]*(len(X_sample)/2)).reshape((len(X_sample)/2), 1)))"
   ]
  },
  {
   "cell_type": "markdown",
   "metadata": {},
   "source": [
    "#### Creating a train, test split."
   ]
  },
  {
   "cell_type": "code",
   "execution_count": 11,
   "metadata": {
    "collapsed": true
   },
   "outputs": [],
   "source": [
    "X_train, X_test, y_train, y_test = train_test_split(X_sample, y_sample, test_size=0.3, random_state=42)"
   ]
  },
  {
   "cell_type": "markdown",
   "metadata": {},
   "source": [
    "#### The labels need to be converted to categorical. Note that we have 2 categories: good (1) and bad (0) images."
   ]
  },
  {
   "cell_type": "code",
   "execution_count": 12,
   "metadata": {
    "collapsed": true
   },
   "outputs": [],
   "source": [
    "y_train_sparse = np_utils.to_categorical(y_train, 2)"
   ]
  },
  {
   "cell_type": "code",
   "execution_count": 13,
   "metadata": {
    "collapsed": true
   },
   "outputs": [],
   "source": [
    "y_test_sparse = np_utils.to_categorical(y_test, 2)"
   ]
  },
  {
   "cell_type": "markdown",
   "metadata": {},
   "source": [
    "#### Creating an instance of a CNN model."
   ]
  },
  {
   "cell_type": "markdown",
   "metadata": {},
   "source": [
    "##### The image size is 50."
   ]
  },
  {
   "cell_type": "code",
   "execution_count": 14,
   "metadata": {
    "collapsed": true
   },
   "outputs": [],
   "source": [
    "IMG_SIZE = 50"
   ]
  },
  {
   "cell_type": "code",
   "execution_count": 15,
   "metadata": {
    "collapsed": false
   },
   "outputs": [],
   "source": [
    "model_1 = dl_functions.cnn_model_v_0(IMG_SIZE)"
   ]
  },
  {
   "cell_type": "code",
   "execution_count": 16,
   "metadata": {
    "collapsed": true
   },
   "outputs": [],
   "source": [
    "model_1.compile(loss='binary_crossentropy', optimizer='rmsprop', metrics=['accuracy'])"
   ]
  },
  {
   "cell_type": "code",
   "execution_count": 17,
   "metadata": {
    "collapsed": false
   },
   "outputs": [
    {
     "name": "stdout",
     "output_type": "stream",
     "text": [
      "_________________________________________________________________\n",
      "Layer (type)                 Output Shape              Param #   \n",
      "=================================================================\n",
      "conv2d_1 (Conv2D)            (None, 48, 48, 32)        896       \n",
      "_________________________________________________________________\n",
      "conv2d_2 (Conv2D)            (None, 46, 46, 32)        9248      \n",
      "_________________________________________________________________\n",
      "max_pooling2d_1 (MaxPooling2 (None, 23, 23, 32)        0         \n",
      "_________________________________________________________________\n",
      "dropout_1 (Dropout)          (None, 23, 23, 32)        0         \n",
      "_________________________________________________________________\n",
      "conv2d_3 (Conv2D)            (None, 21, 21, 64)        18496     \n",
      "_________________________________________________________________\n",
      "max_pooling2d_2 (MaxPooling2 (None, 10, 10, 64)        0         \n",
      "_________________________________________________________________\n",
      "dropout_2 (Dropout)          (None, 10, 10, 64)        0         \n",
      "_________________________________________________________________\n",
      "conv2d_4 (Conv2D)            (None, 8, 8, 128)         73856     \n",
      "_________________________________________________________________\n",
      "max_pooling2d_3 (MaxPooling2 (None, 4, 4, 128)         0         \n",
      "_________________________________________________________________\n",
      "dropout_3 (Dropout)          (None, 4, 4, 128)         0         \n",
      "_________________________________________________________________\n",
      "flatten_1 (Flatten)          (None, 2048)              0         \n",
      "_________________________________________________________________\n",
      "dense_1 (Dense)              (None, 512)               1049088   \n",
      "_________________________________________________________________\n",
      "dropout_4 (Dropout)          (None, 512)               0         \n",
      "_________________________________________________________________\n",
      "dense_2 (Dense)              (None, 2)                 1026      \n",
      "=================================================================\n",
      "Total params: 1,152,610.0\n",
      "Trainable params: 1,152,610.0\n",
      "Non-trainable params: 0.0\n",
      "_________________________________________________________________\n"
     ]
    }
   ],
   "source": [
    "model_1.summary()"
   ]
  },
  {
   "cell_type": "code",
   "execution_count": 18,
   "metadata": {
    "collapsed": false
   },
   "outputs": [
    {
     "name": "stdout",
     "output_type": "stream",
     "text": [
      "Train on 1959 samples, validate on 841 samples\n",
      "Epoch 1/50\n",
      "1959/1959 [==============================] - 45s - loss: 7.2780 - acc: 0.5181 - val_loss: 7.8150 - val_acc: 0.5125\n",
      "Epoch 2/50\n",
      "1959/1959 [==============================] - 44s - loss: 7.9210 - acc: 0.5059 - val_loss: 7.8150 - val_acc: 0.5125\n",
      "Epoch 3/50\n",
      "1959/1959 [==============================] - 44s - loss: 7.9210 - acc: 0.5059 - val_loss: 7.8150 - val_acc: 0.5125\n",
      "Epoch 4/50\n",
      "1959/1959 [==============================] - 44s - loss: 7.9210 - acc: 0.5059 - val_loss: 7.8150 - val_acc: 0.5125\n",
      "Epoch 5/50\n",
      "1959/1959 [==============================] - 44s - loss: 7.9210 - acc: 0.5059 - val_loss: 7.8150 - val_acc: 0.5125\n",
      "Epoch 6/50\n",
      "1959/1959 [==============================] - 44s - loss: 7.9210 - acc: 0.5059 - val_loss: 7.8150 - val_acc: 0.5125\n",
      "Epoch 7/50\n",
      "1959/1959 [==============================] - 44s - loss: 7.9210 - acc: 0.5059 - val_loss: 7.8150 - val_acc: 0.5125\n",
      "Epoch 8/50\n",
      "1959/1959 [==============================] - 44s - loss: 7.9210 - acc: 0.5059 - val_loss: 7.8150 - val_acc: 0.5125\n",
      "Epoch 9/50\n",
      "1959/1959 [==============================] - 44s - loss: 7.9210 - acc: 0.5059 - val_loss: 7.8150 - val_acc: 0.5125\n",
      "Epoch 10/50\n",
      "1959/1959 [==============================] - 44s - loss: 7.9210 - acc: 0.5059 - val_loss: 7.8150 - val_acc: 0.5125\n",
      "Epoch 11/50\n",
      "1959/1959 [==============================] - 44s - loss: 7.9210 - acc: 0.5059 - val_loss: 7.8150 - val_acc: 0.5125\n",
      "Epoch 12/50\n",
      "1959/1959 [==============================] - 44s - loss: 7.9210 - acc: 0.5059 - val_loss: 7.8150 - val_acc: 0.5125\n",
      "Epoch 13/50\n",
      "1959/1959 [==============================] - 44s - loss: 7.9210 - acc: 0.5059 - val_loss: 7.8150 - val_acc: 0.5125\n",
      "Epoch 14/50\n",
      "1959/1959 [==============================] - 44s - loss: 7.9210 - acc: 0.5059 - val_loss: 7.8150 - val_acc: 0.5125\n",
      "Epoch 15/50\n",
      "1959/1959 [==============================] - 44s - loss: 7.9210 - acc: 0.5059 - val_loss: 7.8150 - val_acc: 0.5125\n",
      "Epoch 16/50\n",
      "1959/1959 [==============================] - 44s - loss: 7.9210 - acc: 0.5059 - val_loss: 7.8150 - val_acc: 0.5125\n",
      "Epoch 17/50\n",
      "1959/1959 [==============================] - 44s - loss: 7.9210 - acc: 0.5059 - val_loss: 7.8150 - val_acc: 0.5125\n",
      "Epoch 18/50\n",
      "1959/1959 [==============================] - 44s - loss: 7.9210 - acc: 0.5059 - val_loss: 7.8150 - val_acc: 0.5125\n",
      "Epoch 19/50\n",
      "1959/1959 [==============================] - 44s - loss: 7.9210 - acc: 0.5059 - val_loss: 7.8150 - val_acc: 0.5125\n",
      "Epoch 20/50\n",
      "1959/1959 [==============================] - 44s - loss: 7.9210 - acc: 0.5059 - val_loss: 7.8150 - val_acc: 0.5125\n",
      "Epoch 21/50\n",
      "1959/1959 [==============================] - 44s - loss: 7.9210 - acc: 0.5059 - val_loss: 7.8150 - val_acc: 0.5125\n",
      "Epoch 22/50\n",
      "1959/1959 [==============================] - 44s - loss: 7.9210 - acc: 0.5059 - val_loss: 7.8150 - val_acc: 0.5125\n",
      "Epoch 23/50\n",
      "1959/1959 [==============================] - 44s - loss: 7.9210 - acc: 0.5059 - val_loss: 7.8150 - val_acc: 0.5125\n",
      "Epoch 24/50\n",
      "1959/1959 [==============================] - 44s - loss: 7.9210 - acc: 0.5059 - val_loss: 7.8150 - val_acc: 0.5125\n",
      "Epoch 25/50\n",
      "1959/1959 [==============================] - 44s - loss: 7.9210 - acc: 0.5059 - val_loss: 7.8150 - val_acc: 0.5125\n",
      "Epoch 26/50\n",
      "1959/1959 [==============================] - 44s - loss: 7.9210 - acc: 0.5059 - val_loss: 7.8150 - val_acc: 0.5125\n",
      "Epoch 27/50\n",
      "1959/1959 [==============================] - 44s - loss: 7.9210 - acc: 0.5059 - val_loss: 7.8150 - val_acc: 0.5125\n",
      "Epoch 28/50\n",
      "1959/1959 [==============================] - 44s - loss: 7.9210 - acc: 0.5059 - val_loss: 7.8150 - val_acc: 0.5125\n",
      "Epoch 29/50\n",
      "1959/1959 [==============================] - 44s - loss: 7.9210 - acc: 0.5059 - val_loss: 7.8150 - val_acc: 0.5125\n",
      "Epoch 30/50\n",
      "1959/1959 [==============================] - 45s - loss: 7.9210 - acc: 0.5059 - val_loss: 7.8150 - val_acc: 0.5125\n",
      "Epoch 31/50\n",
      "1959/1959 [==============================] - 44s - loss: 7.9210 - acc: 0.5059 - val_loss: 7.8150 - val_acc: 0.5125\n",
      "Epoch 32/50\n",
      "1959/1959 [==============================] - 44s - loss: 7.9210 - acc: 0.5059 - val_loss: 7.8150 - val_acc: 0.5125\n",
      "Epoch 33/50\n",
      "1959/1959 [==============================] - 44s - loss: 7.9210 - acc: 0.5059 - val_loss: 7.8150 - val_acc: 0.5125\n",
      "Epoch 34/50\n",
      "1959/1959 [==============================] - 44s - loss: 7.9210 - acc: 0.5059 - val_loss: 7.8150 - val_acc: 0.5125\n",
      "Epoch 35/50\n",
      "1959/1959 [==============================] - 44s - loss: 7.9210 - acc: 0.5059 - val_loss: 7.8150 - val_acc: 0.5125\n",
      "Epoch 36/50\n",
      "1959/1959 [==============================] - 45s - loss: 7.9210 - acc: 0.5059 - val_loss: 7.8150 - val_acc: 0.5125\n",
      "Epoch 37/50\n",
      "1959/1959 [==============================] - 44s - loss: 7.9210 - acc: 0.5059 - val_loss: 7.8150 - val_acc: 0.5125\n",
      "Epoch 38/50\n",
      "1959/1959 [==============================] - 45s - loss: 7.9210 - acc: 0.5059 - val_loss: 7.8150 - val_acc: 0.5125\n",
      "Epoch 39/50\n",
      "1959/1959 [==============================] - 45s - loss: 7.9210 - acc: 0.5059 - val_loss: 7.8150 - val_acc: 0.5125\n",
      "Epoch 40/50\n",
      "1959/1959 [==============================] - 45s - loss: 7.9210 - acc: 0.5059 - val_loss: 7.8150 - val_acc: 0.5125\n",
      "Epoch 41/50\n",
      "1959/1959 [==============================] - 45s - loss: 7.9210 - acc: 0.5059 - val_loss: 7.8150 - val_acc: 0.5125\n",
      "Epoch 42/50\n",
      "1959/1959 [==============================] - 45s - loss: 7.9210 - acc: 0.5059 - val_loss: 7.8150 - val_acc: 0.5125\n",
      "Epoch 43/50\n",
      "1959/1959 [==============================] - 45s - loss: 7.9210 - acc: 0.5059 - val_loss: 7.8150 - val_acc: 0.5125\n",
      "Epoch 44/50\n",
      "1959/1959 [==============================] - 45s - loss: 7.9210 - acc: 0.5059 - val_loss: 7.8150 - val_acc: 0.5125\n",
      "Epoch 45/50\n",
      "1959/1959 [==============================] - 45s - loss: 7.9210 - acc: 0.5059 - val_loss: 7.8150 - val_acc: 0.5125\n",
      "Epoch 46/50\n",
      "1959/1959 [==============================] - 45s - loss: 7.9210 - acc: 0.5059 - val_loss: 7.8150 - val_acc: 0.5125\n",
      "Epoch 47/50\n",
      "1959/1959 [==============================] - 45s - loss: 7.9210 - acc: 0.5059 - val_loss: 7.8150 - val_acc: 0.5125\n",
      "Epoch 48/50\n",
      "1959/1959 [==============================] - 44s - loss: 7.9210 - acc: 0.5059 - val_loss: 7.8150 - val_acc: 0.5125\n",
      "Epoch 49/50\n",
      "1959/1959 [==============================] - 45s - loss: 7.9210 - acc: 0.5059 - val_loss: 7.8150 - val_acc: 0.5125\n",
      "Epoch 50/50\n",
      "1959/1959 [==============================] - 45s - loss: 7.9210 - acc: 0.5059 - val_loss: 7.8150 - val_acc: 0.5125\n"
     ]
    },
    {
     "data": {
      "text/plain": [
       "<keras.callbacks.History at 0x7f3d1c20be90>"
      ]
     },
     "execution_count": 18,
     "metadata": {},
     "output_type": "execute_result"
    }
   ],
   "source": [
    "model_1.fit(X_train, y_train_sparse, batch_size=128, epochs=50, verbose=1, validation_split=0.3)"
   ]
  },
  {
   "cell_type": "code",
   "execution_count": 19,
   "metadata": {
    "collapsed": false
   },
   "outputs": [
    {
     "name": "stdout",
     "output_type": "stream",
     "text": [
      "1200/1200 [==============================] - 6s     \n"
     ]
    }
   ],
   "source": [
    "score = model_1.evaluate(X_test, y_test_sparse, verbose=1)"
   ]
  },
  {
   "cell_type": "code",
   "execution_count": 20,
   "metadata": {
    "collapsed": false
   },
   "outputs": [
    {
     "name": "stdout",
     "output_type": "stream",
     "text": [
      "Test loss: 8.3090\n",
      "Test accuracy: 48.17%\n"
     ]
    }
   ],
   "source": [
    "print('Test loss: {:0,.4f}'.format(score[0]))\n",
    "print('Test accuracy: {:.2%}'.format(score[1]))"
   ]
  },
  {
   "cell_type": "markdown",
   "metadata": {},
   "source": [
    "#### Creating a list of predictions."
   ]
  },
  {
   "cell_type": "code",
   "execution_count": 21,
   "metadata": {
    "collapsed": false
   },
   "outputs": [],
   "source": [
    "predicted_images = []\n",
    "for i in model_1.predict(X_test):\n",
    "  predicted_images.append(np.where(np.max(i) == i)[0])"
   ]
  },
  {
   "cell_type": "markdown",
   "metadata": {},
   "source": [
    "#### Displaying a confusion matrix."
   ]
  },
  {
   "cell_type": "code",
   "execution_count": 22,
   "metadata": {
    "collapsed": false
   },
   "outputs": [
    {
     "name": "stderr",
     "output_type": "stream",
     "text": [
      "dl_functions.py:265: RuntimeWarning: invalid value encountered in divide\n",
      "  'Pos Pred Val: %.2f'%(tp/(tp+fp+0.)),\n"
     ]
    },
    {
     "data": {
      "image/png": "[encoded data removed]",
      "text/plain": [
       "<matplotlib.figure.Figure at 0x7f3d1c924d90>"
      ]
     },
     "metadata": {},
     "output_type": "display_data"
    }
   ],
   "source": [
    "dl_functions.show_confusion_matrix(confusion_matrix(y_test, predicted_images), ['Class 0', 'Class 1'])"
   ]
  },
  {
   "cell_type": "code",
   "execution_count": 23,
   "metadata": {
    "collapsed": false
   },
   "outputs": [
    {
     "data": {
      "text/html": [
       "<div>\n",
       "<table border=\"1\" class=\"dataframe\">\n",
       "  <thead>\n",
       "    <tr style=\"text-align: right;\">\n",
       "      <th></th>\n",
       "      <th>nok_image</th>\n",
       "      <th>ok_image</th>\n",
       "    </tr>\n",
       "  </thead>\n",
       "  <tbody>\n",
       "    <tr>\n",
       "      <th>0</th>\n",
       "      <td>578</td>\n",
       "      <td>0</td>\n",
       "    </tr>\n",
       "    <tr>\n",
       "      <th>1</th>\n",
       "      <td>622</td>\n",
       "      <td>0</td>\n",
       "    </tr>\n",
       "  </tbody>\n",
       "</table>\n",
       "</div>"
      ],
      "text/plain": [
       "   nok_image  ok_image\n",
       "0        578         0\n",
       "1        622         0"
      ]
     },
     "execution_count": 23,
     "metadata": {},
     "output_type": "execute_result"
    }
   ],
   "source": [
    "pd.DataFrame(confusion_matrix(y_test, predicted_images),columns = ['nok_image','ok_image'])"
   ]
  },
  {
   "cell_type": "code",
   "execution_count": 24,
   "metadata": {
    "collapsed": false
   },
   "outputs": [
    {
     "name": "stdout",
     "output_type": "stream",
     "text": [
      "1200/1200 [==============================] - 6s     \n"
     ]
    }
   ],
   "source": [
    "predictions_probability = model_1.predict_proba(X_test)"
   ]
  },
  {
   "cell_type": "markdown",
   "metadata": {},
   "source": [
    "#### Plotting a ROC curve."
   ]
  },
  {
   "cell_type": "code",
   "execution_count": 25,
   "metadata": {
    "collapsed": false
   },
   "outputs": [
    {
     "data": {
      "image/png": "[encoded data removed]",
      "text/plain": [
       "<matplotlib.figure.Figure at 0x7f3d1a9faed0>"
      ]
     },
     "metadata": {},
     "output_type": "display_data"
    }
   ],
   "source": [
    "plt.figure(figsize=(7, 7))\n",
    "dl_functions.plot_roc(y_test, predictions_probability[:,1], \"CNN - \" + str(len(model_1.layers)) + \" layers | # images: \" + str(len(X_sample)) + \" | image size: \" + str(IMG_SIZE), \"Tasty Food Images\")"
   ]
  },
  {
   "cell_type": "markdown",
   "metadata": {},
   "source": [
    "### Prediction using an image of Donald Trump.\n",
    "<img src='images/trump_1.jpg' />"
   ]
  },
  {
   "cell_type": "code",
   "execution_count": 26,
   "metadata": {
    "collapsed": false
   },
   "outputs": [],
   "source": [
    "trump = dl_functions.normalize_images_array('images', IMG_SIZE)"
   ]
  },
  {
   "cell_type": "code",
   "execution_count": 27,
   "metadata": {
    "collapsed": false
   },
   "outputs": [
    {
     "name": "stdout",
     "output_type": "stream",
     "text": [
      "1/1 [==============================] - 0s\n"
     ]
    }
   ],
   "source": [
    "trump_prediction = model_1.predict_classes(trump)"
   ]
  },
  {
   "cell_type": "code",
   "execution_count": 28,
   "metadata": {
    "collapsed": false
   },
   "outputs": [
    {
     "data": {
      "text/plain": [
       "0"
      ]
     },
     "execution_count": 28,
     "metadata": {},
     "output_type": "execute_result"
    }
   ],
   "source": [
    "trump_prediction[0]"
   ]
  },
  {
   "cell_type": "code",
   "execution_count": 29,
   "metadata": {
    "collapsed": false
   },
   "outputs": [
    {
     "data": {
      "text/plain": [
       "(1, 50, 50, 3)"
      ]
     },
     "execution_count": 29,
     "metadata": {},
     "output_type": "execute_result"
    }
   ],
   "source": [
    "trump.shape"
   ]
  },
  {
   "cell_type": "code",
   "execution_count": 30,
   "metadata": {
    "collapsed": true
   },
   "outputs": [],
   "source": [
    "trump = trump.reshape(trump.shape[1], trump.shape[2], trump.shape[3])"
   ]
  },
  {
   "cell_type": "markdown",
   "metadata": {},
   "source": [
    "#### The model predicts the image as bad."
   ]
  },
  {
   "cell_type": "code",
   "execution_count": 31,
   "metadata": {
    "collapsed": false
   },
   "outputs": [
    {
     "data": {
      "image/png": "[encoded data removed]",
      "text/plain": [
       "<PIL.Image.Image image mode=RGB size=50x50 at 0x7F3D4149B8D0>"
      ]
     },
     "metadata": {},
     "output_type": "display_data"
    }
   ],
   "source": [
    "img = array_to_img(trump)\n",
    "display(img)"
   ]
  },
  {
   "cell_type": "code",
   "execution_count": null,
   "metadata": {
    "collapsed": true
   },
   "outputs": [],
   "source": []
  }
 ],
 "metadata": {
  "kernelspec": {
   "display_name": "Python 2",
   "language": "python",
   "name": "python2"
  },
  "language_info": {
   "codemirror_mode": {
    "name": "ipython",
    "version": 2
   },
   "file_extension": ".py",
   "mimetype": "text/x-python",
   "name": "python",
   "nbconvert_exporter": "python",
   "pygments_lexer": "ipython2",
   "version": "2.7.9"
  }
 },
 "nbformat": 4,
 "nbformat_minor": 2
}
