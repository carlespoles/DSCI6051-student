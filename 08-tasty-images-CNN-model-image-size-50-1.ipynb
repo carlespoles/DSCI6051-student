{
 "cells": [
  {
   "cell_type": "markdown",
   "metadata": {},
   "source": [
    "# Implementing a convolutional neural network with images resized to 50.\n",
    "\n",
    "## Two architectures are trained. All images are used.\n",
    "\n",
    "### First architecture has poor performance, second one is good."
   ]
  },
  {
   "cell_type": "code",
   "execution_count": 1,
   "metadata": {
    "collapsed": true
   },
   "outputs": [],
   "source": [
    "reset -fs"
   ]
  },
  {
   "cell_type": "code",
   "execution_count": 2,
   "metadata": {
    "collapsed": false
   },
   "outputs": [
    {
     "name": "stderr",
     "output_type": "stream",
     "text": [
      "Using TensorFlow backend.\n"
     ]
    }
   ],
   "source": [
    "import numpy as np\n",
    "import pandas as pd\n",
    "import os\n",
    "import glob\n",
    "import pickle\n",
    "import gzip\n",
    "import h5py\n",
    "import dl_functions\n",
    "from IPython.display import display\n",
    "from keras.preprocessing.image import ImageDataGenerator\n",
    "from keras.models import Sequential, model_from_json, load_model\n",
    "from keras.layers import Dense, Dropout, Activation, Flatten\n",
    "from keras.layers import Convolution2D, MaxPooling2D\n",
    "from keras.optimizers import SGD\n",
    "from keras.utils import np_utils\n",
    "from keras.preprocessing.image import array_to_img, img_to_array, load_img\n",
    "from keras.callbacks import LearningRateScheduler, ModelCheckpoint\n",
    "from sklearn.metrics import confusion_matrix, roc_curve, roc_auc_score\n",
    "from sklearn.cross_validation import train_test_split\n",
    "from matplotlib import pyplot as plt\n",
    "%matplotlib inline"
   ]
  },
  {
   "cell_type": "markdown",
   "metadata": {},
   "source": [
    "#### Loading data from a compressed pickle file that has 20,000 images pre-processed with a size of 50 by 50."
   ]
  },
  {
   "cell_type": "code",
   "execution_count": 3,
   "metadata": {
    "collapsed": true
   },
   "outputs": [],
   "source": [
    "with gzip.open('pre_processed_images/image_data_20000_50.txt.gz', 'rb') as f:\n",
    "    X, y = pickle.load(f)"
   ]
  },
  {
   "cell_type": "markdown",
   "metadata": {},
   "source": [
    "#### Creating a train, test split."
   ]
  },
  {
   "cell_type": "code",
   "execution_count": 4,
   "metadata": {
    "collapsed": false
   },
   "outputs": [],
   "source": [
    "X_train, X_test, y_train, y_test = train_test_split(X, y, test_size=0.3, random_state=42)"
   ]
  },
  {
   "cell_type": "markdown",
   "metadata": {},
   "source": [
    "#### The labels need to be converted to categorical. Note that we have 2 categories: good (1) and bad (0) images."
   ]
  },
  {
   "cell_type": "code",
   "execution_count": 5,
   "metadata": {
    "collapsed": true
   },
   "outputs": [],
   "source": [
    "y_train_sparse = np_utils.to_categorical(y_train, 2)"
   ]
  },
  {
   "cell_type": "code",
   "execution_count": 6,
   "metadata": {
    "collapsed": true
   },
   "outputs": [],
   "source": [
    "y_test_sparse = np_utils.to_categorical(y_test, 2)"
   ]
  },
  {
   "cell_type": "markdown",
   "metadata": {},
   "source": [
    "#### Creating an instance of a CNN model."
   ]
  },
  {
   "cell_type": "markdown",
   "metadata": {},
   "source": [
    "##### The image size is 50."
   ]
  },
  {
   "cell_type": "code",
   "execution_count": 7,
   "metadata": {
    "collapsed": true
   },
   "outputs": [],
   "source": [
    "IMG_SIZE = 50"
   ]
  },
  {
   "cell_type": "code",
   "execution_count": 8,
   "metadata": {
    "collapsed": false
   },
   "outputs": [],
   "source": [
    "model_1 = dl_functions.cnn_model_v_2(IMG_SIZE)"
   ]
  },
  {
   "cell_type": "code",
   "execution_count": 9,
   "metadata": {
    "collapsed": true
   },
   "outputs": [],
   "source": [
    "model_1.compile(loss='binary_crossentropy', optimizer='rmsprop', metrics=['accuracy'])"
   ]
  },
  {
   "cell_type": "code",
   "execution_count": 10,
   "metadata": {
    "collapsed": false
   },
   "outputs": [
    {
     "name": "stdout",
     "output_type": "stream",
     "text": [
      "_________________________________________________________________\n",
      "Layer (type)                 Output Shape              Param #   \n",
      "=================================================================\n",
      "conv2d_1 (Conv2D)            (None, 48, 48, 64)        1792      \n",
      "_________________________________________________________________\n",
      "conv2d_2 (Conv2D)            (None, 46, 46, 64)        36928     \n",
      "_________________________________________________________________\n",
      "max_pooling2d_1 (MaxPooling2 (None, 23, 23, 64)        0         \n",
      "_________________________________________________________________\n",
      "conv2d_3 (Conv2D)            (None, 21, 21, 128)       73856     \n",
      "_________________________________________________________________\n",
      "conv2d_4 (Conv2D)            (None, 19, 19, 128)       147584    \n",
      "_________________________________________________________________\n",
      "max_pooling2d_2 (MaxPooling2 (None, 9, 9, 128)         0         \n",
      "_________________________________________________________________\n",
      "conv2d_5 (Conv2D)            (None, 7, 7, 256)         295168    \n",
      "_________________________________________________________________\n",
      "conv2d_6 (Conv2D)            (None, 5, 5, 256)         590080    \n",
      "_________________________________________________________________\n",
      "conv2d_7 (Conv2D)            (None, 3, 3, 256)         590080    \n",
      "_________________________________________________________________\n",
      "max_pooling2d_3 (MaxPooling2 (None, 1, 1, 256)         0         \n",
      "_________________________________________________________________\n",
      "dropout_1 (Dropout)          (None, 1, 1, 256)         0         \n",
      "_________________________________________________________________\n",
      "flatten_1 (Flatten)          (None, 256)               0         \n",
      "_________________________________________________________________\n",
      "dense_1 (Dense)              (None, 512)               131584    \n",
      "_________________________________________________________________\n",
      "dropout_2 (Dropout)          (None, 512)               0         \n",
      "_________________________________________________________________\n",
      "dense_2 (Dense)              (None, 2)                 1026      \n",
      "=================================================================\n",
      "Total params: 1,868,098\n",
      "Trainable params: 1,868,098\n",
      "Non-trainable params: 0\n",
      "_________________________________________________________________\n"
     ]
    }
   ],
   "source": [
    "model_1.summary()"
   ]
  },
  {
   "cell_type": "code",
   "execution_count": 11,
   "metadata": {
    "collapsed": false
   },
   "outputs": [
    {
     "name": "stdout",
     "output_type": "stream",
     "text": [
      "Train on 9800 samples, validate on 4200 samples\n",
      "Epoch 1/20\n",
      "9800/9800 [==============================] - 256s - loss: 7.8369 - acc: 0.5049 - val_loss: 8.1831 - val_acc: 0.4895\n",
      "Epoch 2/20\n",
      "9800/9800 [==============================] - 256s - loss: 7.9775 - acc: 0.5023 - val_loss: 8.1831 - val_acc: 0.4895\n",
      "Epoch 3/20\n",
      "9800/9800 [==============================] - 256s - loss: 7.9562 - acc: 0.5037 - val_loss: 8.1831 - val_acc: 0.4895\n",
      "Epoch 4/20\n",
      "9800/9800 [==============================] - 255s - loss: 7.9791 - acc: 0.5022 - val_loss: 8.1831 - val_acc: 0.4895\n",
      "Epoch 5/20\n",
      "9800/9800 [==============================] - 255s - loss: 7.9677 - acc: 0.5030 - val_loss: 8.1831 - val_acc: 0.4895\n",
      "Epoch 6/20\n",
      "9800/9800 [==============================] - 255s - loss: 7.9693 - acc: 0.5029 - val_loss: 8.1831 - val_acc: 0.4895\n",
      "Epoch 7/20\n",
      "9800/9800 [==============================] - 257s - loss: 7.9628 - acc: 0.5033 - val_loss: 8.1831 - val_acc: 0.4895\n",
      "Epoch 8/20\n",
      "9800/9800 [==============================] - 257s - loss: 7.9824 - acc: 0.5020 - val_loss: 8.1831 - val_acc: 0.4895\n",
      "Epoch 9/20\n",
      "9800/9800 [==============================] - 255s - loss: 7.9742 - acc: 0.5026 - val_loss: 8.1831 - val_acc: 0.4895\n",
      "Epoch 10/20\n",
      "9800/9800 [==============================] - 256s - loss: 7.9775 - acc: 0.5023 - val_loss: 8.1831 - val_acc: 0.4895\n",
      "Epoch 11/20\n",
      "9800/9800 [==============================] - 256s - loss: 7.9906 - acc: 0.5015 - val_loss: 8.1831 - val_acc: 0.4895\n",
      "Epoch 12/20\n",
      "9800/9800 [==============================] - 273s - loss: 7.9922 - acc: 0.5014 - val_loss: 8.1831 - val_acc: 0.4895\n",
      "Epoch 13/20\n",
      "9800/9800 [==============================] - 293s - loss: 7.9660 - acc: 0.5031 - val_loss: 8.1831 - val_acc: 0.4895\n",
      "Epoch 14/20\n",
      "9800/9800 [==============================] - 271s - loss: 7.9726 - acc: 0.5027 - val_loss: 8.1831 - val_acc: 0.4895\n",
      "Epoch 15/20\n",
      "9800/9800 [==============================] - 255s - loss: 7.9742 - acc: 0.5026 - val_loss: 8.1831 - val_acc: 0.4895\n",
      "Epoch 16/20\n",
      "9800/9800 [==============================] - 255s - loss: 7.9611 - acc: 0.5034 - val_loss: 8.1831 - val_acc: 0.4895\n",
      "Epoch 17/20\n",
      "9800/9800 [==============================] - 254s - loss: 7.9775 - acc: 0.5023 - val_loss: 8.1831 - val_acc: 0.4895\n",
      "Epoch 18/20\n",
      "9800/9800 [==============================] - 254s - loss: 7.9710 - acc: 0.5028 - val_loss: 8.1831 - val_acc: 0.4895\n",
      "Epoch 19/20\n",
      "9800/9800 [==============================] - 255s - loss: 7.9775 - acc: 0.5023 - val_loss: 8.1831 - val_acc: 0.4895\n",
      "Epoch 20/20\n",
      "9800/9800 [==============================] - 257s - loss: 7.9546 - acc: 0.5038 - val_loss: 8.1831 - val_acc: 0.4895\n"
     ]
    },
    {
     "data": {
      "text/plain": [
       "<keras.callbacks.History at 0x7f1b644dc810>"
      ]
     },
     "execution_count": 11,
     "metadata": {},
     "output_type": "execute_result"
    }
   ],
   "source": [
    "model_1.fit(X_train, y_train_sparse, batch_size=128, epochs=20, verbose=1, validation_split=0.3)"
   ]
  },
  {
   "cell_type": "code",
   "execution_count": 12,
   "metadata": {
    "collapsed": false
   },
   "outputs": [
    {
     "name": "stdout",
     "output_type": "stream",
     "text": [
      "6000/6000 [==============================] - 46s    \n"
     ]
    }
   ],
   "source": [
    "score = model_1.evaluate(X_test, y_test_sparse, verbose=1)"
   ]
  },
  {
   "cell_type": "code",
   "execution_count": 13,
   "metadata": {
    "collapsed": false
   },
   "outputs": [
    {
     "name": "stdout",
     "output_type": "stream",
     "text": [
      "Test loss: 7.9697\n",
      "Test accuracy: 50.28%\n"
     ]
    }
   ],
   "source": [
    "print('Test loss: {:0,.4f}'.format(score[0]))\n",
    "print('Test accuracy: {:.2%}'.format(score[1]))"
   ]
  },
  {
   "cell_type": "markdown",
   "metadata": {},
   "source": [
    "#### Saving model and weights."
   ]
  },
  {
   "cell_type": "code",
   "execution_count": 14,
   "metadata": {
    "collapsed": true
   },
   "outputs": [],
   "source": [
    "model_1.save('models/model_v2_20000_50.h5')"
   ]
  },
  {
   "cell_type": "code",
   "execution_count": 15,
   "metadata": {
    "collapsed": true
   },
   "outputs": [],
   "source": [
    "model_1.save_weights('models/model_v2_20000_50_weights.h5')"
   ]
  },
  {
   "cell_type": "markdown",
   "metadata": {},
   "source": [
    "#### Creating a list of predictions."
   ]
  },
  {
   "cell_type": "code",
   "execution_count": 16,
   "metadata": {
    "collapsed": false
   },
   "outputs": [],
   "source": [
    "predicted_images = []\n",
    "for i in model_1.predict(X_test):\n",
    "    predicted_images.append(np.where(np.max(i) == i)[0])"
   ]
  },
  {
   "cell_type": "markdown",
   "metadata": {},
   "source": [
    "#### Displaying a confusion matrix."
   ]
  },
  {
   "cell_type": "code",
   "execution_count": 17,
   "metadata": {
    "collapsed": false
   },
   "outputs": [
    {
     "name": "stderr",
     "output_type": "stream",
     "text": [
      "dl_functions.py:254: RuntimeWarning: invalid value encountered in divide\n",
      "  'Neg Pre Val: %.2f'%(1-fn/(fn+tn+0.)),\n"
     ]
    },
    {
     "data": {
      "image/png": "[encoded data removed]",
      "text/plain": [
       "<matplotlib.figure.Figure at 0x7f1b49623c10>"
      ]
     },
     "metadata": {},
     "output_type": "display_data"
    }
   ],
   "source": [
    "dl_functions.show_confusion_matrix(confusion_matrix(y_test, predicted_images), ['Class 0', 'Class 1'])"
   ]
  },
  {
   "cell_type": "markdown",
   "metadata": {},
   "source": [
    "#### A more simple confusion matrix using pandas."
   ]
  },
  {
   "cell_type": "code",
   "execution_count": 18,
   "metadata": {
    "collapsed": false
   },
   "outputs": [
    {
     "data": {
      "text/html": [
       "<div>\n",
       "<table border=\"1\" class=\"dataframe\">\n",
       "  <thead>\n",
       "    <tr style=\"text-align: right;\">\n",
       "      <th></th>\n",
       "      <th>nok_image</th>\n",
       "      <th>ok_image</th>\n",
       "    </tr>\n",
       "  </thead>\n",
       "  <tbody>\n",
       "    <tr>\n",
       "      <th>0</th>\n",
       "      <td>0</td>\n",
       "      <td>2983</td>\n",
       "    </tr>\n",
       "    <tr>\n",
       "      <th>1</th>\n",
       "      <td>0</td>\n",
       "      <td>3017</td>\n",
       "    </tr>\n",
       "  </tbody>\n",
       "</table>\n",
       "</div>"
      ],
      "text/plain": [
       "   nok_image  ok_image\n",
       "0          0      2983\n",
       "1          0      3017"
      ]
     },
     "execution_count": 18,
     "metadata": {},
     "output_type": "execute_result"
    }
   ],
   "source": [
    "pd.DataFrame(confusion_matrix(y_test, predicted_images),columns = ['nok_image','ok_image'])"
   ]
  },
  {
   "cell_type": "markdown",
   "metadata": {},
   "source": [
    "#### Area Under the Curve."
   ]
  },
  {
   "cell_type": "code",
   "execution_count": 20,
   "metadata": {
    "collapsed": false
   },
   "outputs": [
    {
     "name": "stdout",
     "output_type": "stream",
     "text": [
      "AUC: 50.00%\n",
      "\n"
     ]
    }
   ],
   "source": [
    "print(\"AUC: {:.2%}\\n\".format(roc_auc_score(y_test, predicted_images)))"
   ]
  },
  {
   "cell_type": "markdown",
   "metadata": {},
   "source": [
    "#### Getting predicted probabilities."
   ]
  },
  {
   "cell_type": "code",
   "execution_count": 21,
   "metadata": {
    "collapsed": false
   },
   "outputs": [
    {
     "name": "stdout",
     "output_type": "stream",
     "text": [
      "6000/6000 [==============================] - 45s    \n"
     ]
    }
   ],
   "source": [
    "predictions_probability = model_1.predict_proba(X_test)"
   ]
  },
  {
   "cell_type": "markdown",
   "metadata": {},
   "source": [
    "#### Plotting a ROC curve."
   ]
  },
  {
   "cell_type": "code",
   "execution_count": 22,
   "metadata": {
    "collapsed": false
   },
   "outputs": [
    {
     "data": {
      "image/png": "[encoded data removed]",
      "text/plain": [
       "<matplotlib.figure.Figure at 0x7f1b4488fa90>"
      ]
     },
     "metadata": {},
     "output_type": "display_data"
    }
   ],
   "source": [
    "plt.figure(figsize=(7, 7))\n",
    "dl_functions.plot_roc(y_test, predictions_probability[:,1], \"CNN - \" + str(len(model_1.layers)) + \" layers | # images: \" + str(len(X)) + \" | image size: \" + str(IMG_SIZE), \"Tasty Food Images\")"
   ]
  },
  {
   "cell_type": "markdown",
   "metadata": {},
   "source": [
    "### Prediction using an image of Donald Trump.\n",
    "<img src='images/trump_1.jpg' />"
   ]
  },
  {
   "cell_type": "code",
   "execution_count": 23,
   "metadata": {
    "collapsed": false
   },
   "outputs": [],
   "source": [
    "trump = dl_functions.normalize_images_array('images', IMG_SIZE)"
   ]
  },
  {
   "cell_type": "code",
   "execution_count": 24,
   "metadata": {
    "collapsed": false
   },
   "outputs": [
    {
     "name": "stdout",
     "output_type": "stream",
     "text": [
      "1/1 [==============================] - 0s\n"
     ]
    }
   ],
   "source": [
    "trump_prediction = model_1.predict_classes(trump)"
   ]
  },
  {
   "cell_type": "code",
   "execution_count": 25,
   "metadata": {
    "collapsed": false
   },
   "outputs": [
    {
     "data": {
      "text/plain": [
       "1"
      ]
     },
     "execution_count": 25,
     "metadata": {},
     "output_type": "execute_result"
    }
   ],
   "source": [
    "trump_prediction[0]"
   ]
  },
  {
   "cell_type": "code",
   "execution_count": 26,
   "metadata": {
    "collapsed": false
   },
   "outputs": [
    {
     "data": {
      "text/plain": [
       "(1, 50, 50, 3)"
      ]
     },
     "execution_count": 26,
     "metadata": {},
     "output_type": "execute_result"
    }
   ],
   "source": [
    "trump.shape"
   ]
  },
  {
   "cell_type": "code",
   "execution_count": 27,
   "metadata": {
    "collapsed": true
   },
   "outputs": [],
   "source": [
    "trump = trump.reshape(trump.shape[1], trump.shape[2], trump.shape[3])"
   ]
  },
  {
   "cell_type": "markdown",
   "metadata": {},
   "source": [
    "#### The model predicts the image as OK."
   ]
  },
  {
   "cell_type": "code",
   "execution_count": 28,
   "metadata": {
    "collapsed": false
   },
   "outputs": [
    {
     "data": {
      "image/png": "[encoded data removed]",
      "text/plain": [
       "<PIL.Image.Image image mode=RGB size=50x50 at 0x7F1B44A5C090>"
      ]
     },
     "metadata": {},
     "output_type": "display_data"
    }
   ],
   "source": [
    "img = array_to_img(trump)\n",
    "display(img)"
   ]
  },
  {
   "cell_type": "markdown",
   "metadata": {},
   "source": [
    "### Using a different architecture. Proceeding same as above."
   ]
  },
  {
   "cell_type": "code",
   "execution_count": 29,
   "metadata": {
    "collapsed": true
   },
   "outputs": [],
   "source": [
    "model_2 = dl_functions.cnn_model_v_1(IMG_SIZE)"
   ]
  },
  {
   "cell_type": "code",
   "execution_count": 30,
   "metadata": {
    "collapsed": true
   },
   "outputs": [],
   "source": [
    "model_2.compile(loss='binary_crossentropy', optimizer='rmsprop', metrics=['accuracy'])"
   ]
  },
  {
   "cell_type": "code",
   "execution_count": 31,
   "metadata": {
    "collapsed": false
   },
   "outputs": [
    {
     "name": "stdout",
     "output_type": "stream",
     "text": [
      "_________________________________________________________________\n",
      "Layer (type)                 Output Shape              Param #   \n",
      "=================================================================\n",
      "conv2d_8 (Conv2D)            (None, 48, 48, 32)        896       \n",
      "_________________________________________________________________\n",
      "max_pooling2d_4 (MaxPooling2 (None, 24, 24, 32)        0         \n",
      "_________________________________________________________________\n",
      "conv2d_9 (Conv2D)            (None, 22, 22, 32)        9248      \n",
      "_________________________________________________________________\n",
      "max_pooling2d_5 (MaxPooling2 (None, 11, 11, 32)        0         \n",
      "_________________________________________________________________\n",
      "conv2d_10 (Conv2D)           (None, 9, 9, 64)          18496     \n",
      "_________________________________________________________________\n",
      "max_pooling2d_6 (MaxPooling2 (None, 4, 4, 64)          0         \n",
      "_________________________________________________________________\n",
      "flatten_2 (Flatten)          (None, 1024)              0         \n",
      "_________________________________________________________________\n",
      "dense_3 (Dense)              (None, 64)                65600     \n",
      "_________________________________________________________________\n",
      "dropout_3 (Dropout)          (None, 64)                0         \n",
      "_________________________________________________________________\n",
      "dense_4 (Dense)              (None, 2)                 130       \n",
      "=================================================================\n",
      "Total params: 94,370\n",
      "Trainable params: 94,370\n",
      "Non-trainable params: 0\n",
      "_________________________________________________________________\n"
     ]
    }
   ],
   "source": [
    "model_2.summary()"
   ]
  },
  {
   "cell_type": "code",
   "execution_count": 32,
   "metadata": {
    "collapsed": true
   },
   "outputs": [],
   "source": [
    "X_train, X_test, y_train, y_test = train_test_split(X, y, test_size=0.3, random_state=42)"
   ]
  },
  {
   "cell_type": "code",
   "execution_count": 33,
   "metadata": {
    "collapsed": true
   },
   "outputs": [],
   "source": [
    "y_train_sparse = np_utils.to_categorical(y_train, 2)"
   ]
  },
  {
   "cell_type": "code",
   "execution_count": 34,
   "metadata": {
    "collapsed": true
   },
   "outputs": [],
   "source": [
    "y_test_sparse = np_utils.to_categorical(y_test, 2)"
   ]
  },
  {
   "cell_type": "code",
   "execution_count": 35,
   "metadata": {
    "collapsed": false
   },
   "outputs": [
    {
     "name": "stdout",
     "output_type": "stream",
     "text": [
      "Train on 9800 samples, validate on 4200 samples\n",
      "Epoch 1/50\n",
      "9800/9800 [==============================] - 22s - loss: 0.6380 - acc: 0.6366 - val_loss: 0.5744 - val_acc: 0.6738\n",
      "Epoch 2/50\n",
      "9800/9800 [==============================] - 22s - loss: 0.5503 - acc: 0.7268 - val_loss: 0.5251 - val_acc: 0.7414\n",
      "Epoch 3/50\n",
      "9800/9800 [==============================] - 23s - loss: 0.5206 - acc: 0.7499 - val_loss: 0.5021 - val_acc: 0.7524\n",
      "Epoch 4/50\n",
      "9800/9800 [==============================] - 23s - loss: 0.4856 - acc: 0.7735 - val_loss: 0.5044 - val_acc: 0.7495\n",
      "Epoch 5/50\n",
      "9800/9800 [==============================] - 24s - loss: 0.4681 - acc: 0.7837 - val_loss: 0.4319 - val_acc: 0.8017\n",
      "Epoch 6/50\n",
      "9800/9800 [==============================] - 24s - loss: 0.4514 - acc: 0.7940 - val_loss: 0.4446 - val_acc: 0.7910\n",
      "Epoch 7/50\n",
      "9800/9800 [==============================] - 24s - loss: 0.4344 - acc: 0.8048 - val_loss: 0.4530 - val_acc: 0.7893\n",
      "Epoch 8/50\n",
      "9800/9800 [==============================] - 24s - loss: 0.4248 - acc: 0.8098 - val_loss: 0.4112 - val_acc: 0.8102\n",
      "Epoch 9/50\n",
      "9800/9800 [==============================] - 24s - loss: 0.4047 - acc: 0.8210 - val_loss: 0.4484 - val_acc: 0.7893\n",
      "Epoch 10/50\n",
      "9800/9800 [==============================] - 23s - loss: 0.3981 - acc: 0.8286 - val_loss: 0.3916 - val_acc: 0.8274\n",
      "Epoch 11/50\n",
      "9800/9800 [==============================] - 22s - loss: 0.3841 - acc: 0.8353 - val_loss: 0.4605 - val_acc: 0.7895\n",
      "Epoch 12/50\n",
      "9800/9800 [==============================] - 22s - loss: 0.3693 - acc: 0.8396 - val_loss: 0.3859 - val_acc: 0.8288\n",
      "Epoch 13/50\n",
      "9800/9800 [==============================] - 22s - loss: 0.3630 - acc: 0.8446 - val_loss: 0.5564 - val_acc: 0.7479\n",
      "Epoch 14/50\n",
      "9800/9800 [==============================] - 23s - loss: 0.3495 - acc: 0.8516 - val_loss: 0.3900 - val_acc: 0.8274\n",
      "Epoch 15/50\n",
      "9800/9800 [==============================] - 23s - loss: 0.3365 - acc: 0.8572 - val_loss: 0.4058 - val_acc: 0.8176\n",
      "Epoch 16/50\n",
      "9800/9800 [==============================] - 22s - loss: 0.3237 - acc: 0.8634 - val_loss: 0.3859 - val_acc: 0.8300\n",
      "Epoch 17/50\n",
      "9800/9800 [==============================] - 23s - loss: 0.3100 - acc: 0.8713 - val_loss: 0.3738 - val_acc: 0.8314\n",
      "Epoch 18/50\n",
      "9800/9800 [==============================] - 23s - loss: 0.2944 - acc: 0.8795 - val_loss: 0.3966 - val_acc: 0.8240\n",
      "Epoch 19/50\n",
      "9800/9800 [==============================] - 23s - loss: 0.2879 - acc: 0.8810 - val_loss: 0.4269 - val_acc: 0.8240\n",
      "Epoch 20/50\n",
      "9800/9800 [==============================] - 23s - loss: 0.2740 - acc: 0.8880 - val_loss: 0.5743 - val_acc: 0.7590\n",
      "Epoch 21/50\n",
      "9800/9800 [==============================] - 23s - loss: 0.2680 - acc: 0.8906 - val_loss: 0.3990 - val_acc: 0.8267\n",
      "Epoch 22/50\n",
      "9800/9800 [==============================] - 23s - loss: 0.2490 - acc: 0.8973 - val_loss: 0.6560 - val_acc: 0.7336\n",
      "Epoch 23/50\n",
      "9800/9800 [==============================] - 23s - loss: 0.2423 - acc: 0.9022 - val_loss: 0.4857 - val_acc: 0.7948\n",
      "Epoch 24/50\n",
      "9800/9800 [==============================] - 23s - loss: 0.2238 - acc: 0.9132 - val_loss: 0.4284 - val_acc: 0.8131\n",
      "Epoch 25/50\n",
      "9800/9800 [==============================] - 23s - loss: 0.2103 - acc: 0.9164 - val_loss: 0.4229 - val_acc: 0.8210\n",
      "Epoch 26/50\n",
      "9800/9800 [==============================] - 23s - loss: 0.1993 - acc: 0.9218 - val_loss: 0.4935 - val_acc: 0.7940\n",
      "Epoch 27/50\n",
      "9800/9800 [==============================] - 23s - loss: 0.1874 - acc: 0.9271 - val_loss: 0.6099 - val_acc: 0.8033\n",
      "Epoch 28/50\n",
      "9800/9800 [==============================] - 23s - loss: 0.1761 - acc: 0.9329 - val_loss: 0.7348 - val_acc: 0.7695\n",
      "Epoch 29/50\n",
      "9800/9800 [==============================] - 23s - loss: 0.1643 - acc: 0.9382 - val_loss: 0.5109 - val_acc: 0.8174\n",
      "Epoch 30/50\n",
      "9800/9800 [==============================] - 23s - loss: 0.1493 - acc: 0.9408 - val_loss: 0.5159 - val_acc: 0.8067\n",
      "Epoch 31/50\n",
      "9800/9800 [==============================] - 23s - loss: 0.1367 - acc: 0.9458 - val_loss: 0.5830 - val_acc: 0.8119\n",
      "Epoch 32/50\n",
      "9800/9800 [==============================] - 23s - loss: 0.1336 - acc: 0.9480 - val_loss: 0.6564 - val_acc: 0.8062\n",
      "Epoch 33/50\n",
      "9800/9800 [==============================] - 23s - loss: 0.1263 - acc: 0.9523 - val_loss: 0.6973 - val_acc: 0.7926\n",
      "Epoch 34/50\n",
      "9800/9800 [==============================] - 23s - loss: 0.1104 - acc: 0.9585 - val_loss: 0.7572 - val_acc: 0.8029\n",
      "Epoch 35/50\n",
      "9800/9800 [==============================] - 23s - loss: 0.1073 - acc: 0.9618 - val_loss: 0.6249 - val_acc: 0.8181\n",
      "Epoch 36/50\n",
      "9800/9800 [==============================] - 22s - loss: 0.0963 - acc: 0.9646 - val_loss: 0.6951 - val_acc: 0.8221\n",
      "Epoch 37/50\n",
      "9800/9800 [==============================] - 23s - loss: 0.0874 - acc: 0.9695 - val_loss: 0.6565 - val_acc: 0.8071\n",
      "Epoch 38/50\n",
      "9800/9800 [==============================] - 23s - loss: 0.0863 - acc: 0.9707 - val_loss: 0.7127 - val_acc: 0.8074\n",
      "Epoch 39/50\n",
      "9800/9800 [==============================] - 23s - loss: 0.0778 - acc: 0.9723 - val_loss: 0.7560 - val_acc: 0.7948\n",
      "Epoch 40/50\n",
      "9800/9800 [==============================] - 23s - loss: 0.0755 - acc: 0.9747 - val_loss: 0.7232 - val_acc: 0.8164\n",
      "Epoch 41/50\n",
      "9800/9800 [==============================] - 22s - loss: 0.0713 - acc: 0.9746 - val_loss: 0.8127 - val_acc: 0.7979\n",
      "Epoch 42/50\n",
      "9800/9800 [==============================] - 22s - loss: 0.0636 - acc: 0.9779 - val_loss: 0.8541 - val_acc: 0.8162\n",
      "Epoch 43/50\n",
      "9800/9800 [==============================] - 23s - loss: 0.0707 - acc: 0.9744 - val_loss: 0.7609 - val_acc: 0.8079\n",
      "Epoch 44/50\n",
      "9800/9800 [==============================] - 23s - loss: 0.0590 - acc: 0.9806 - val_loss: 1.0581 - val_acc: 0.8040\n",
      "Epoch 45/50\n",
      "9800/9800 [==============================] - 22s - loss: 0.0587 - acc: 0.9795 - val_loss: 0.9373 - val_acc: 0.8019\n",
      "Epoch 46/50\n",
      "9800/9800 [==============================] - 22s - loss: 0.0613 - acc: 0.9799 - val_loss: 0.8367 - val_acc: 0.8131\n",
      "Epoch 47/50\n",
      "9800/9800 [==============================] - 22s - loss: 0.0467 - acc: 0.9835 - val_loss: 0.9891 - val_acc: 0.8095\n",
      "Epoch 48/50\n",
      "9800/9800 [==============================] - 23s - loss: 0.0522 - acc: 0.9812 - val_loss: 0.9535 - val_acc: 0.8124\n",
      "Epoch 49/50\n",
      "9800/9800 [==============================] - 23s - loss: 0.0417 - acc: 0.9866 - val_loss: 1.0553 - val_acc: 0.8079\n",
      "Epoch 50/50\n",
      "9800/9800 [==============================] - 23s - loss: 0.0586 - acc: 0.9806 - val_loss: 1.0176 - val_acc: 0.8007\n"
     ]
    },
    {
     "data": {
      "text/plain": [
       "<keras.callbacks.History at 0x7f1b44812450>"
      ]
     },
     "execution_count": 35,
     "metadata": {},
     "output_type": "execute_result"
    }
   ],
   "source": [
    "model_2.fit(X_train, y_train_sparse, batch_size=128, epochs=50, verbose=1, validation_split=0.3)"
   ]
  },
  {
   "cell_type": "code",
   "execution_count": 36,
   "metadata": {
    "collapsed": false
   },
   "outputs": [
    {
     "name": "stdout",
     "output_type": "stream",
     "text": [
      "5952/6000 [============================>.] - ETA: 0s"
     ]
    }
   ],
   "source": [
    "score = model_2.evaluate(X_test, y_test_sparse, verbose=1)"
   ]
  },
  {
   "cell_type": "code",
   "execution_count": 37,
   "metadata": {
    "collapsed": false
   },
   "outputs": [
    {
     "name": "stdout",
     "output_type": "stream",
     "text": [
      "Test loss: 1.0730\n",
      "Test accuracy: 79.48%\n"
     ]
    }
   ],
   "source": [
    "print('Test loss: {:0,.4f}'.format(score[0]))\n",
    "print('Test accuracy: {:.2%}'.format(score[1]))"
   ]
  },
  {
   "cell_type": "code",
   "execution_count": 38,
   "metadata": {
    "collapsed": true
   },
   "outputs": [],
   "source": [
    "model_2.save('models/model_v1_20000_50.h5')"
   ]
  },
  {
   "cell_type": "code",
   "execution_count": 39,
   "metadata": {
    "collapsed": true
   },
   "outputs": [],
   "source": [
    "model_2.save_weights('models/model_v1_20000_50_weights.h5')"
   ]
  },
  {
   "cell_type": "code",
   "execution_count": 40,
   "metadata": {
    "collapsed": true
   },
   "outputs": [],
   "source": [
    "predicted_images = []\n",
    "for i in model_2.predict(X_test):\n",
    "    predicted_images.append(np.where(np.max(i) == i)[0])"
   ]
  },
  {
   "cell_type": "code",
   "execution_count": 41,
   "metadata": {
    "collapsed": false
   },
   "outputs": [
    {
     "data": {
      "image/png": "[encoded data removed]",
      "text/plain": [
       "<matplotlib.figure.Figure at 0x7f1b44a5c050>"
      ]
     },
     "metadata": {},
     "output_type": "display_data"
    }
   ],
   "source": [
    "dl_functions.show_confusion_matrix(confusion_matrix(y_test, predicted_images), ['Class 0', 'Class 1'])"
   ]
  },
  {
   "cell_type": "code",
   "execution_count": 42,
   "metadata": {
    "collapsed": false
   },
   "outputs": [
    {
     "data": {
      "text/html": [
       "<div>\n",
       "<table border=\"1\" class=\"dataframe\">\n",
       "  <thead>\n",
       "    <tr style=\"text-align: right;\">\n",
       "      <th></th>\n",
       "      <th>nok_image</th>\n",
       "      <th>ok_image</th>\n",
       "    </tr>\n",
       "  </thead>\n",
       "  <tbody>\n",
       "    <tr>\n",
       "      <th>0</th>\n",
       "      <td>2261</td>\n",
       "      <td>722</td>\n",
       "    </tr>\n",
       "    <tr>\n",
       "      <th>1</th>\n",
       "      <td>509</td>\n",
       "      <td>2508</td>\n",
       "    </tr>\n",
       "  </tbody>\n",
       "</table>\n",
       "</div>"
      ],
      "text/plain": [
       "   nok_image  ok_image\n",
       "0       2261       722\n",
       "1        509      2508"
      ]
     },
     "execution_count": 42,
     "metadata": {},
     "output_type": "execute_result"
    }
   ],
   "source": [
    "pd.DataFrame(confusion_matrix(y_test, predicted_images),columns = ['nok_image','ok_image'])"
   ]
  },
  {
   "cell_type": "code",
   "execution_count": 43,
   "metadata": {
    "collapsed": false
   },
   "outputs": [
    {
     "name": "stdout",
     "output_type": "stream",
     "text": [
      "AUC: 79.46%\n",
      "\n"
     ]
    }
   ],
   "source": [
    "print(\"AUC: {:.2%}\\n\".format(roc_auc_score(y_test, predicted_images)))"
   ]
  },
  {
   "cell_type": "code",
   "execution_count": 44,
   "metadata": {
    "collapsed": false
   },
   "outputs": [
    {
     "name": "stdout",
     "output_type": "stream",
     "text": [
      "5952/6000 [============================>.] - ETA: 0s"
     ]
    }
   ],
   "source": [
    "predictions_probability = model_2.predict_proba(X_test)"
   ]
  },
  {
   "cell_type": "code",
   "execution_count": 45,
   "metadata": {
    "collapsed": false
   },
   "outputs": [
    {
     "data": {
      "image/png": "[encoded data removed]",
      "text/plain": [
       "<matplotlib.figure.Figure at 0x7f1b44b72410>"
      ]
     },
     "metadata": {},
     "output_type": "display_data"
    }
   ],
   "source": [
    "plt.figure(figsize=(7, 7))\n",
    "dl_functions.plot_roc(y_test, predictions_probability[:,1], \"CNN - \" + str(len(model_2.layers)) + \" layers | # images: \" + str(len(X)) + \" | image size: \" + str(IMG_SIZE), \"Tasty Food Images\")"
   ]
  },
  {
   "cell_type": "code",
   "execution_count": 46,
   "metadata": {
    "collapsed": true
   },
   "outputs": [],
   "source": [
    "trump = dl_functions.normalize_images_array('images', IMG_SIZE)"
   ]
  },
  {
   "cell_type": "code",
   "execution_count": 47,
   "metadata": {
    "collapsed": false
   },
   "outputs": [
    {
     "name": "stdout",
     "output_type": "stream",
     "text": [
      "1/1 [==============================] - 0s\n"
     ]
    }
   ],
   "source": [
    "trump_prediction = model_2.predict_classes(trump)"
   ]
  },
  {
   "cell_type": "code",
   "execution_count": 48,
   "metadata": {
    "collapsed": false
   },
   "outputs": [
    {
     "data": {
      "text/plain": [
       "0"
      ]
     },
     "execution_count": 48,
     "metadata": {},
     "output_type": "execute_result"
    }
   ],
   "source": [
    "trump_prediction[0]"
   ]
  },
  {
   "cell_type": "code",
   "execution_count": 49,
   "metadata": {
    "collapsed": false
   },
   "outputs": [
    {
     "data": {
      "text/plain": [
       "(1, 50, 50, 3)"
      ]
     },
     "execution_count": 49,
     "metadata": {},
     "output_type": "execute_result"
    }
   ],
   "source": [
    "trump.shape"
   ]
  },
  {
   "cell_type": "code",
   "execution_count": 50,
   "metadata": {
    "collapsed": true
   },
   "outputs": [],
   "source": [
    "trump = trump.reshape(trump.shape[1], trump.shape[2], trump.shape[3])"
   ]
  },
  {
   "cell_type": "code",
   "execution_count": 51,
   "metadata": {
    "collapsed": false
   },
   "outputs": [
    {
     "data": {
      "image/png": "[encoded data removed]",
      "text/plain": [
       "<PIL.Image.Image image mode=RGB size=50x50 at 0x7F1B44AD78D0>"
      ]
     },
     "metadata": {},
     "output_type": "display_data"
    }
   ],
   "source": [
    "img = array_to_img(trump)\n",
    "display(img)"
   ]
  },
  {
   "cell_type": "markdown",
   "metadata": {},
   "source": [
    "#### Copying model and weights to a bucket."
   ]
  },
  {
   "cell_type": "code",
   "execution_count": 52,
   "metadata": {
    "collapsed": false
   },
   "outputs": [
    {
     "name": "stdout",
     "output_type": "stream",
     "text": [
      "Copying file://models/model_v2_20000_50.h5 [Content-Type=application/octet-stream]...\n",
      "Copying file://models/model_v1_20000_50_weights.h5 [Content-Type=application/octet-stream]...\n",
      "Copying file://models/model_v1_20000_50.h5 [Content-Type=application/octet-stream]...\n",
      "Copying file://models/model_v2_20000_50_weights.h5 [Content-Type=application/octet-stream]...\n",
      "|\n",
      "Operation completed over 4 objects/22.6 MiB.                                     \n"
     ]
    }
   ],
   "source": [
    "!gsutil cp -r 'models' 'gs://wellio-kadaif-tasty-images-project-pre-processed-images'"
   ]
  },
  {
   "cell_type": "code",
   "execution_count": null,
   "metadata": {
    "collapsed": true
   },
   "outputs": [],
   "source": []
  }
 ],
 "metadata": {
  "anaconda-cloud": {},
  "kernelspec": {
   "display_name": "Python 2",
   "language": "python",
   "name": "python2"
  },
  "language_info": {
   "codemirror_mode": {
    "name": "ipython",
    "version": 2
   },
   "file_extension": ".py",
   "mimetype": "text/x-python",
   "name": "python",
   "nbconvert_exporter": "python",
   "pygments_lexer": "ipython2",
   "version": "2.7.9"
  }
 },
 "nbformat": 4,
 "nbformat_minor": 2
}
