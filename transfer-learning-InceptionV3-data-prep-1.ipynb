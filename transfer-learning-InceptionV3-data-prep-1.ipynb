{
 "cells": [
  {
   "cell_type": "markdown",
   "metadata": {},
   "source": [
    "https://www.kernix.com/blog/image-classification-with-a-pre-trained-deep-neural-network_p11"
   ]
  },
  {
   "cell_type": "code",
   "execution_count": 1,
   "metadata": {
    "collapsed": true
   },
   "outputs": [],
   "source": [
    "reset -fs"
   ]
  },
  {
   "cell_type": "code",
   "execution_count": 2,
   "metadata": {
    "collapsed": false
   },
   "outputs": [
    {
     "name": "stderr",
     "output_type": "stream",
     "text": [
      "//anaconda/envs/wellio/lib/python2.7/site-packages/sklearn/cross_validation.py:44: DeprecationWarning: This module was deprecated in version 0.18 in favor of the model_selection module into which all the refactored classes and functions are moved. Also note that the interface of the new CV iterators are different from that of this module. This module will be removed in 0.20.\n",
      "  \"This module will be removed in 0.20.\", DeprecationWarning)\n"
     ]
    }
   ],
   "source": [
    "import os\n",
    "import re\n",
    "import tensorflow as tf\n",
    "import tensorflow.python.platform\n",
    "from tensorflow.python.platform import gfile\n",
    "import numpy as np\n",
    "import pandas as pd\n",
    "import sklearn\n",
    "from sklearn import cross_validation\n",
    "from sklearn.model_selection import train_test_split\n",
    "from sklearn.metrics import accuracy_score, confusion_matrix\n",
    "from sklearn.svm import SVC, LinearSVC\n",
    "from sklearn.linear_model import LogisticRegression\n",
    "from sklearn.naive_bayes import MultinomialNB, BernoulliNB\n",
    "from sklearn.ensemble import GradientBoostingClassifier, AdaBoostClassifier, RandomForestClassifier\n",
    "import matplotlib.pyplot as plt\n",
    "import pickle\n",
    "%matplotlib inline"
   ]
  },
  {
   "cell_type": "markdown",
   "metadata": {},
   "source": [
    "### First, create a directory for the images to classify:\n",
    "\n",
    "#### `/Users/carles/Desktop/data/tutorial/images/ok/` for OK images\n",
    "\n",
    "#### `/Users/carles/Desktop/data/tutorial/images/nok/` for NOK images"
   ]
  },
  {
   "cell_type": "markdown",
   "metadata": {},
   "source": [
    "### Second, create a directory for the model:\n",
    "\n",
    "#### `/Users/carles/Desktop/data/tutorial/imagenet`"
   ]
  },
  {
   "cell_type": "markdown",
   "metadata": {},
   "source": [
    "### Third, fork and clone:\n",
    "\n",
    ">`https://github.com/carlespoles/models/tree/master/tutorials/image/imagenet`\n",
    "\n",
    "then, copy the file `classify_image.py` from the above repository into `/Users/carles/Desktop/data/tutorial/imagenet`"
   ]
  },
  {
   "cell_type": "markdown",
   "metadata": {},
   "source": [
    "### Forth, run the command:\n",
    "\n",
    ">`python classify_image.py --model_dir /Users/carles/Desktop/data/tutorial/imagenet`\n",
    "\n",
    "from the directory `/Users/carles/Desktop/data/tutorial/imagenet` which is where the script `classify_image.py` resides.\n",
    "\n",
    "It will download a file called `inception-2015-12-05.tgz` and unpack it in the mentioned directory."
   ]
  },
  {
   "cell_type": "code",
   "execution_count": 3,
   "metadata": {
    "collapsed": false
   },
   "outputs": [],
   "source": [
    "model_dir = '/Users/carles/Desktop/data/tutorial/imagenet'"
   ]
  },
  {
   "cell_type": "code",
   "execution_count": 4,
   "metadata": {
    "collapsed": true
   },
   "outputs": [],
   "source": [
    "def create_graph():\n",
    "    with gfile.FastGFile(os.path.join(\n",
    "        model_dir, 'classify_image_graph_def.pb'), 'rb') as f:\n",
    "        graph_def = tf.GraphDef()\n",
    "        graph_def.ParseFromString(f.read())\n",
    "        _ = tf.import_graph_def(graph_def, name='')"
   ]
  },
  {
   "cell_type": "code",
   "execution_count": 5,
   "metadata": {
    "collapsed": true
   },
   "outputs": [],
   "source": [
    "def extract_features(list_images):\n",
    "    # The number of features correspond to the output of the specified layer below.\n",
    "    nb_features = 2048\n",
    "    features = np.empty((len(list_images), nb_features))\n",
    "    # We don't need to use the labels provided by InceptionV3.\n",
    "    # labels = []\n",
    "\n",
    "    create_graph()\n",
    "\n",
    "    with tf.Session() as sess:\n",
    "\n",
    "        next_to_last_tensor = sess.graph.get_tensor_by_name('pool_3:0')\n",
    "\n",
    "        for ind, image in enumerate(list_images):\n",
    "            if (ind%100 == 0):\n",
    "                print('Processing %s...' % (image))\n",
    "            if not gfile.Exists(image):\n",
    "                tf.logging.fatal('File does not exist %s', image)\n",
    "\n",
    "            try:\n",
    "                image_data = gfile.FastGFile(image, 'rb').read()\n",
    "                predictions = sess.run(next_to_last_tensor,\n",
    "                {'DecodeJpeg/contents:0': image_data})\n",
    "            except:\n",
    "                continue\n",
    "        features[ind,:] = np.squeeze(predictions)\n",
    "        # We don't need to use the labels provided by InceptionV3.\n",
    "        # labels.append(re.split('_\\d+',image.split('/')[1])[0])\n",
    "\n",
    "    # return features, labels\n",
    "    return features"
   ]
  },
  {
   "cell_type": "code",
   "execution_count": 6,
   "metadata": {
    "collapsed": true
   },
   "outputs": [],
   "source": [
    "images_ok_dir = '/Users/carles/Desktop/data/tutorial/images/ok/'"
   ]
  },
  {
   "cell_type": "code",
   "execution_count": 7,
   "metadata": {
    "collapsed": true
   },
   "outputs": [],
   "source": [
    "list_images_ok = [images_ok_dir+f for f in os.listdir(images_ok_dir) if re.search('jpg|JPG', f)]"
   ]
  },
  {
   "cell_type": "code",
   "execution_count": 8,
   "metadata": {
    "collapsed": true
   },
   "outputs": [],
   "source": [
    "images_nok_dir = '/Users/carles/Desktop/data/tutorial/images/nok/'"
   ]
  },
  {
   "cell_type": "code",
   "execution_count": 9,
   "metadata": {
    "collapsed": true
   },
   "outputs": [],
   "source": [
    "list_images_nok = [images_nok_dir+f for f in os.listdir(images_nok_dir) if re.search('jpg|JPG', f)]"
   ]
  },
  {
   "cell_type": "code",
   "execution_count": 10,
   "metadata": {
    "collapsed": true
   },
   "outputs": [],
   "source": [
    "list_images = list_images_ok + list_images_nok"
   ]
  },
  {
   "cell_type": "code",
   "execution_count": 11,
   "metadata": {
    "collapsed": false
   },
   "outputs": [
    {
     "name": "stdout",
     "output_type": "stream",
     "text": [
      "Processing /Users/carles/Desktop/data/tutorial/images/ok/00001.jpg...\n",
      "Processing /Users/carles/Desktop/data/tutorial/images/ok/00101.jpg...\n",
      "Processing /Users/carles/Desktop/data/tutorial/images/ok/00201.jpg...\n",
      "Processing /Users/carles/Desktop/data/tutorial/images/ok/00301.jpg...\n",
      "Processing /Users/carles/Desktop/data/tutorial/images/ok/00401.jpg...\n",
      "Processing /Users/carles/Desktop/data/tutorial/images/ok/00501.jpg...\n",
      "Processing /Users/carles/Desktop/data/tutorial/images/ok/00601.jpg...\n",
      "Processing /Users/carles/Desktop/data/tutorial/images/ok/00701.jpg...\n",
      "Processing /Users/carles/Desktop/data/tutorial/images/ok/00801.jpg...\n",
      "Processing /Users/carles/Desktop/data/tutorial/images/ok/00901.jpg...\n",
      "Processing /Users/carles/Desktop/data/tutorial/images/ok/01001.jpg...\n",
      "Processing /Users/carles/Desktop/data/tutorial/images/ok/01101.jpg...\n",
      "Processing /Users/carles/Desktop/data/tutorial/images/ok/01201.jpg...\n",
      "Processing /Users/carles/Desktop/data/tutorial/images/ok/01301.jpg...\n",
      "Processing /Users/carles/Desktop/data/tutorial/images/ok/01401.jpg...\n",
      "Processing /Users/carles/Desktop/data/tutorial/images/ok/01501.jpg...\n",
      "Processing /Users/carles/Desktop/data/tutorial/images/ok/01601.jpg...\n",
      "Processing /Users/carles/Desktop/data/tutorial/images/ok/01701.jpg...\n",
      "Processing /Users/carles/Desktop/data/tutorial/images/ok/01801.jpg...\n",
      "Processing /Users/carles/Desktop/data/tutorial/images/ok/01901.jpg...\n",
      "Processing /Users/carles/Desktop/data/tutorial/images/ok/02001.jpg...\n",
      "Processing /Users/carles/Desktop/data/tutorial/images/ok/02101.jpg...\n",
      "Processing /Users/carles/Desktop/data/tutorial/images/ok/02201.jpg...\n",
      "Processing /Users/carles/Desktop/data/tutorial/images/ok/02301.jpg...\n",
      "Processing /Users/carles/Desktop/data/tutorial/images/ok/02401.jpg...\n",
      "Processing /Users/carles/Desktop/data/tutorial/images/ok/02501.jpg...\n",
      "Processing /Users/carles/Desktop/data/tutorial/images/ok/02601.jpg...\n",
      "Processing /Users/carles/Desktop/data/tutorial/images/ok/02701.jpg...\n",
      "Processing /Users/carles/Desktop/data/tutorial/images/ok/02801.jpg...\n",
      "Processing /Users/carles/Desktop/data/tutorial/images/ok/02901.jpg...\n",
      "Processing /Users/carles/Desktop/data/tutorial/images/ok/03001.jpg...\n",
      "Processing /Users/carles/Desktop/data/tutorial/images/ok/03101.jpg...\n",
      "Processing /Users/carles/Desktop/data/tutorial/images/ok/03201.jpg...\n",
      "Processing /Users/carles/Desktop/data/tutorial/images/ok/03301.jpg...\n",
      "Processing /Users/carles/Desktop/data/tutorial/images/ok/03401.jpg...\n",
      "Processing /Users/carles/Desktop/data/tutorial/images/ok/03501.jpg...\n",
      "Processing /Users/carles/Desktop/data/tutorial/images/ok/03601.jpg...\n",
      "Processing /Users/carles/Desktop/data/tutorial/images/ok/03701.jpg...\n",
      "Processing /Users/carles/Desktop/data/tutorial/images/ok/03801.jpg...\n",
      "Processing /Users/carles/Desktop/data/tutorial/images/ok/03901.jpg...\n",
      "Processing /Users/carles/Desktop/data/tutorial/images/ok/04001.jpg...\n",
      "Processing /Users/carles/Desktop/data/tutorial/images/ok/04101.jpg...\n",
      "Processing /Users/carles/Desktop/data/tutorial/images/ok/04201.jpg...\n",
      "Processing /Users/carles/Desktop/data/tutorial/images/ok/04301.jpg...\n",
      "Processing /Users/carles/Desktop/data/tutorial/images/ok/04401.jpg...\n",
      "Processing /Users/carles/Desktop/data/tutorial/images/ok/04501.jpg...\n",
      "Processing /Users/carles/Desktop/data/tutorial/images/ok/04601.jpg...\n",
      "Processing /Users/carles/Desktop/data/tutorial/images/ok/04701.jpg...\n",
      "Processing /Users/carles/Desktop/data/tutorial/images/ok/04801.jpg...\n",
      "Processing /Users/carles/Desktop/data/tutorial/images/ok/04901.jpg...\n",
      "Processing /Users/carles/Desktop/data/tutorial/images/ok/05001.jpg...\n",
      "Processing /Users/carles/Desktop/data/tutorial/images/ok/05101.jpg...\n",
      "Processing /Users/carles/Desktop/data/tutorial/images/ok/05201.jpg...\n",
      "Processing /Users/carles/Desktop/data/tutorial/images/ok/05301.jpg...\n",
      "Processing /Users/carles/Desktop/data/tutorial/images/ok/05401.jpg...\n",
      "Processing /Users/carles/Desktop/data/tutorial/images/ok/05501.jpg...\n",
      "Processing /Users/carles/Desktop/data/tutorial/images/ok/05601.jpg...\n",
      "Processing /Users/carles/Desktop/data/tutorial/images/ok/05701.jpg...\n",
      "Processing /Users/carles/Desktop/data/tutorial/images/ok/05801.jpg...\n",
      "Processing /Users/carles/Desktop/data/tutorial/images/ok/05901.jpg...\n",
      "Processing /Users/carles/Desktop/data/tutorial/images/ok/06001.jpg...\n",
      "Processing /Users/carles/Desktop/data/tutorial/images/ok/06101.jpg...\n",
      "Processing /Users/carles/Desktop/data/tutorial/images/ok/06201.jpg...\n",
      "Processing /Users/carles/Desktop/data/tutorial/images/ok/06301.jpg...\n",
      "Processing /Users/carles/Desktop/data/tutorial/images/ok/06401.jpg...\n",
      "Processing /Users/carles/Desktop/data/tutorial/images/ok/06501.jpg...\n",
      "Processing /Users/carles/Desktop/data/tutorial/images/ok/06601.jpg...\n",
      "Processing /Users/carles/Desktop/data/tutorial/images/ok/06701.jpg...\n",
      "Processing /Users/carles/Desktop/data/tutorial/images/ok/06801.jpg...\n",
      "Processing /Users/carles/Desktop/data/tutorial/images/ok/06901.jpg...\n",
      "Processing /Users/carles/Desktop/data/tutorial/images/ok/07001.jpg...\n",
      "Processing /Users/carles/Desktop/data/tutorial/images/ok/07101.jpg...\n",
      "Processing /Users/carles/Desktop/data/tutorial/images/ok/07201.jpg...\n",
      "Processing /Users/carles/Desktop/data/tutorial/images/ok/07301.jpg...\n",
      "Processing /Users/carles/Desktop/data/tutorial/images/ok/07401.jpg...\n",
      "Processing /Users/carles/Desktop/data/tutorial/images/ok/07501.jpg...\n",
      "Processing /Users/carles/Desktop/data/tutorial/images/ok/07601.jpg...\n",
      "Processing /Users/carles/Desktop/data/tutorial/images/ok/07701.jpg...\n",
      "Processing /Users/carles/Desktop/data/tutorial/images/ok/07801.jpg...\n",
      "Processing /Users/carles/Desktop/data/tutorial/images/ok/07901.jpg...\n",
      "Processing /Users/carles/Desktop/data/tutorial/images/ok/08001.jpg...\n",
      "Processing /Users/carles/Desktop/data/tutorial/images/ok/08101.jpg...\n",
      "Processing /Users/carles/Desktop/data/tutorial/images/ok/08201.jpg...\n",
      "Processing /Users/carles/Desktop/data/tutorial/images/ok/08301.jpg...\n",
      "Processing /Users/carles/Desktop/data/tutorial/images/ok/08401.jpg...\n",
      "Processing /Users/carles/Desktop/data/tutorial/images/ok/08501.jpg...\n",
      "Processing /Users/carles/Desktop/data/tutorial/images/ok/08601.jpg...\n",
      "Processing /Users/carles/Desktop/data/tutorial/images/ok/08701.jpg...\n",
      "Processing /Users/carles/Desktop/data/tutorial/images/ok/08801.jpg...\n",
      "Processing /Users/carles/Desktop/data/tutorial/images/ok/08901.jpg...\n",
      "Processing /Users/carles/Desktop/data/tutorial/images/ok/09001.jpg...\n",
      "Processing /Users/carles/Desktop/data/tutorial/images/ok/09101.jpg...\n",
      "Processing /Users/carles/Desktop/data/tutorial/images/ok/09201.jpg...\n",
      "Processing /Users/carles/Desktop/data/tutorial/images/ok/09301.jpg...\n",
      "Processing /Users/carles/Desktop/data/tutorial/images/ok/09401.jpg...\n",
      "Processing /Users/carles/Desktop/data/tutorial/images/ok/09501.jpg...\n",
      "Processing /Users/carles/Desktop/data/tutorial/images/ok/09601.jpg...\n",
      "Processing /Users/carles/Desktop/data/tutorial/images/ok/09701.jpg...\n",
      "Processing /Users/carles/Desktop/data/tutorial/images/ok/09801.jpg...\n",
      "Processing /Users/carles/Desktop/data/tutorial/images/ok/09901.jpg...\n",
      "Processing /Users/carles/Desktop/data/tutorial/images/nok/00001.jpg...\n",
      "Processing /Users/carles/Desktop/data/tutorial/images/nok/00101.jpg...\n",
      "Processing /Users/carles/Desktop/data/tutorial/images/nok/00201.jpg...\n",
      "Processing /Users/carles/Desktop/data/tutorial/images/nok/00301.jpg...\n",
      "Processing /Users/carles/Desktop/data/tutorial/images/nok/00401.jpg...\n",
      "Processing /Users/carles/Desktop/data/tutorial/images/nok/00501.jpg...\n",
      "Processing /Users/carles/Desktop/data/tutorial/images/nok/00601.jpg...\n",
      "Processing /Users/carles/Desktop/data/tutorial/images/nok/00701.jpg...\n",
      "Processing /Users/carles/Desktop/data/tutorial/images/nok/00801.jpg...\n",
      "Processing /Users/carles/Desktop/data/tutorial/images/nok/00901.jpg...\n",
      "Processing /Users/carles/Desktop/data/tutorial/images/nok/01001.jpg...\n",
      "Processing /Users/carles/Desktop/data/tutorial/images/nok/01101.jpg...\n",
      "Processing /Users/carles/Desktop/data/tutorial/images/nok/01201.jpg...\n",
      "Processing /Users/carles/Desktop/data/tutorial/images/nok/01301.jpg...\n",
      "Processing /Users/carles/Desktop/data/tutorial/images/nok/01401.jpg...\n",
      "Processing /Users/carles/Desktop/data/tutorial/images/nok/01501.jpg...\n",
      "Processing /Users/carles/Desktop/data/tutorial/images/nok/01601.jpg...\n",
      "Processing /Users/carles/Desktop/data/tutorial/images/nok/01701.jpg...\n",
      "Processing /Users/carles/Desktop/data/tutorial/images/nok/01801.jpg...\n",
      "Processing /Users/carles/Desktop/data/tutorial/images/nok/01901.jpg...\n",
      "Processing /Users/carles/Desktop/data/tutorial/images/nok/02001.jpg...\n",
      "Processing /Users/carles/Desktop/data/tutorial/images/nok/02101.jpg...\n",
      "Processing /Users/carles/Desktop/data/tutorial/images/nok/02201.jpg...\n",
      "Processing /Users/carles/Desktop/data/tutorial/images/nok/02301.jpg...\n",
      "Processing /Users/carles/Desktop/data/tutorial/images/nok/02401.jpg...\n",
      "Processing /Users/carles/Desktop/data/tutorial/images/nok/02501.jpg...\n",
      "Processing /Users/carles/Desktop/data/tutorial/images/nok/02601.jpg...\n",
      "Processing /Users/carles/Desktop/data/tutorial/images/nok/02701.jpg...\n",
      "Processing /Users/carles/Desktop/data/tutorial/images/nok/02801.jpg...\n",
      "Processing /Users/carles/Desktop/data/tutorial/images/nok/02901.jpg...\n",
      "Processing /Users/carles/Desktop/data/tutorial/images/nok/03001.jpg...\n",
      "Processing /Users/carles/Desktop/data/tutorial/images/nok/03101.jpg...\n",
      "Processing /Users/carles/Desktop/data/tutorial/images/nok/03201.jpg...\n",
      "Processing /Users/carles/Desktop/data/tutorial/images/nok/03301.jpg...\n",
      "Processing /Users/carles/Desktop/data/tutorial/images/nok/03401.jpg...\n",
      "Processing /Users/carles/Desktop/data/tutorial/images/nok/03501.jpg...\n",
      "Processing /Users/carles/Desktop/data/tutorial/images/nok/03601.jpg...\n",
      "Processing /Users/carles/Desktop/data/tutorial/images/nok/03701.jpg...\n",
      "Processing /Users/carles/Desktop/data/tutorial/images/nok/03801.jpg...\n",
      "Processing /Users/carles/Desktop/data/tutorial/images/nok/03901.jpg...\n",
      "Processing /Users/carles/Desktop/data/tutorial/images/nok/04001.jpg...\n",
      "Processing /Users/carles/Desktop/data/tutorial/images/nok/04101.jpg...\n",
      "Processing /Users/carles/Desktop/data/tutorial/images/nok/04201.jpg...\n",
      "Processing /Users/carles/Desktop/data/tutorial/images/nok/04301.jpg...\n",
      "Processing /Users/carles/Desktop/data/tutorial/images/nok/04401.jpg...\n",
      "Processing /Users/carles/Desktop/data/tutorial/images/nok/04501.jpg...\n",
      "Processing /Users/carles/Desktop/data/tutorial/images/nok/04601.jpg...\n",
      "Processing /Users/carles/Desktop/data/tutorial/images/nok/04701.jpg...\n",
      "Processing /Users/carles/Desktop/data/tutorial/images/nok/04801.jpg...\n",
      "Processing /Users/carles/Desktop/data/tutorial/images/nok/04901.jpg...\n",
      "Processing /Users/carles/Desktop/data/tutorial/images/nok/05001.jpg...\n",
      "Processing /Users/carles/Desktop/data/tutorial/images/nok/05101.jpg...\n",
      "Processing /Users/carles/Desktop/data/tutorial/images/nok/05201.jpg...\n",
      "Processing /Users/carles/Desktop/data/tutorial/images/nok/05301.jpg...\n",
      "Processing /Users/carles/Desktop/data/tutorial/images/nok/05401.jpg...\n",
      "Processing /Users/carles/Desktop/data/tutorial/images/nok/05501.jpg...\n",
      "Processing /Users/carles/Desktop/data/tutorial/images/nok/05601.jpg...\n",
      "Processing /Users/carles/Desktop/data/tutorial/images/nok/05701.jpg...\n",
      "Processing /Users/carles/Desktop/data/tutorial/images/nok/05801.jpg...\n",
      "Processing /Users/carles/Desktop/data/tutorial/images/nok/05901.jpg...\n",
      "Processing /Users/carles/Desktop/data/tutorial/images/nok/06001.jpg...\n",
      "Processing /Users/carles/Desktop/data/tutorial/images/nok/06101.jpg...\n",
      "Processing /Users/carles/Desktop/data/tutorial/images/nok/06201.jpg...\n",
      "Processing /Users/carles/Desktop/data/tutorial/images/nok/06301.jpg...\n",
      "Processing /Users/carles/Desktop/data/tutorial/images/nok/06401.jpg...\n",
      "Processing /Users/carles/Desktop/data/tutorial/images/nok/06501.jpg...\n",
      "Processing /Users/carles/Desktop/data/tutorial/images/nok/06601.jpg...\n",
      "Processing /Users/carles/Desktop/data/tutorial/images/nok/06701.jpg...\n",
      "Processing /Users/carles/Desktop/data/tutorial/images/nok/06801.jpg...\n",
      "Processing /Users/carles/Desktop/data/tutorial/images/nok/06901.jpg...\n",
      "Processing /Users/carles/Desktop/data/tutorial/images/nok/07001.jpg...\n",
      "Processing /Users/carles/Desktop/data/tutorial/images/nok/07101.jpg...\n",
      "Processing /Users/carles/Desktop/data/tutorial/images/nok/07201.jpg...\n",
      "Processing /Users/carles/Desktop/data/tutorial/images/nok/07301.jpg...\n",
      "Processing /Users/carles/Desktop/data/tutorial/images/nok/07401.jpg...\n",
      "Processing /Users/carles/Desktop/data/tutorial/images/nok/07501.jpg...\n",
      "Processing /Users/carles/Desktop/data/tutorial/images/nok/07601.jpg...\n",
      "Processing /Users/carles/Desktop/data/tutorial/images/nok/07701.jpg...\n",
      "Processing /Users/carles/Desktop/data/tutorial/images/nok/07801.jpg...\n",
      "Processing /Users/carles/Desktop/data/tutorial/images/nok/07901.jpg...\n",
      "Processing /Users/carles/Desktop/data/tutorial/images/nok/08001.jpg...\n",
      "Processing /Users/carles/Desktop/data/tutorial/images/nok/08101.jpg...\n",
      "Processing /Users/carles/Desktop/data/tutorial/images/nok/08201.jpg...\n",
      "Processing /Users/carles/Desktop/data/tutorial/images/nok/08301.jpg...\n",
      "Processing /Users/carles/Desktop/data/tutorial/images/nok/08401.jpg...\n",
      "Processing /Users/carles/Desktop/data/tutorial/images/nok/08501.jpg...\n",
      "Processing /Users/carles/Desktop/data/tutorial/images/nok/08601.jpg...\n",
      "Processing /Users/carles/Desktop/data/tutorial/images/nok/08701.jpg...\n",
      "Processing /Users/carles/Desktop/data/tutorial/images/nok/08801.jpg...\n",
      "Processing /Users/carles/Desktop/data/tutorial/images/nok/08901.jpg...\n",
      "Processing /Users/carles/Desktop/data/tutorial/images/nok/09001.jpg...\n",
      "Processing /Users/carles/Desktop/data/tutorial/images/nok/09101.jpg...\n",
      "Processing /Users/carles/Desktop/data/tutorial/images/nok/09201.jpg...\n",
      "Processing /Users/carles/Desktop/data/tutorial/images/nok/09301.jpg...\n",
      "Processing /Users/carles/Desktop/data/tutorial/images/nok/09401.jpg...\n",
      "Processing /Users/carles/Desktop/data/tutorial/images/nok/09501.jpg...\n",
      "Processing /Users/carles/Desktop/data/tutorial/images/nok/09601.jpg...\n",
      "Processing /Users/carles/Desktop/data/tutorial/images/nok/09701.jpg...\n",
      "Processing /Users/carles/Desktop/data/tutorial/images/nok/09801.jpg...\n",
      "Processing /Users/carles/Desktop/data/tutorial/images/nok/09901.jpg...\n"
     ]
    }
   ],
   "source": [
    "features = extract_features(list_images)"
   ]
  },
  {
   "cell_type": "code",
   "execution_count": 12,
   "metadata": {
    "collapsed": true
   },
   "outputs": [],
   "source": [
    "pickle.dump(features, open('X', 'wb'))"
   ]
  },
  {
   "cell_type": "code",
   "execution_count": 13,
   "metadata": {
    "collapsed": true
   },
   "outputs": [],
   "source": [
    "y = np.vstack((np.array([1]*(len(features)/2)).reshape((len(features)/2), 1), np.array([0]*(len(features)/2)).reshape((len(features)/2), 1)))"
   ]
  },
  {
   "cell_type": "code",
   "execution_count": 14,
   "metadata": {
    "collapsed": true
   },
   "outputs": [],
   "source": [
    "pickle.dump(y, open('y', 'wb'))"
   ]
  },
  {
   "cell_type": "code",
   "execution_count": null,
   "metadata": {
    "collapsed": true
   },
   "outputs": [],
   "source": []
  }
 ],
 "metadata": {
  "anaconda-cloud": {},
  "kernelspec": {
   "display_name": "Python [wellio]",
   "language": "python",
   "name": "Python [wellio]"
  },
  "language_info": {
   "codemirror_mode": {
    "name": "ipython",
    "version": 2
   },
   "file_extension": ".py",
   "mimetype": "text/x-python",
   "name": "python",
   "nbconvert_exporter": "python",
   "pygments_lexer": "ipython2",
   "version": "2.7.13"
  }
 },
 "nbformat": 4,
 "nbformat_minor": 0
}
